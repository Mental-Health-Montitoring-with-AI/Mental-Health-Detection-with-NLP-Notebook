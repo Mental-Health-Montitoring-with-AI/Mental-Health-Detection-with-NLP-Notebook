{
 "cells": [
  {
   "cell_type": "code",
   "execution_count": 1,
   "id": "849312bf",
   "metadata": {},
   "outputs": [],
   "source": [
    "import pandas as pd\n",
    "import numpy as np\n",
    "import seaborn as sns\n",
    "import matplotlib.pyplot as plt"
   ]
  },
  {
   "cell_type": "code",
   "execution_count": 2,
   "id": "ba2eed1c",
   "metadata": {},
   "outputs": [
    {
     "data": {
      "text/html": [
       "<div>\n",
       "<style scoped>\n",
       "    .dataframe tbody tr th:only-of-type {\n",
       "        vertical-align: middle;\n",
       "    }\n",
       "\n",
       "    .dataframe tbody tr th {\n",
       "        vertical-align: top;\n",
       "    }\n",
       "\n",
       "    .dataframe thead th {\n",
       "        text-align: right;\n",
       "    }\n",
       "</style>\n",
       "<table border=\"1\" class=\"dataframe\">\n",
       "  <thead>\n",
       "    <tr style=\"text-align: right;\">\n",
       "      <th></th>\n",
       "      <th>sentence</th>\n",
       "      <th>emotion</th>\n",
       "      <th>tokens</th>\n",
       "      <th>Stemming</th>\n",
       "      <th>lemmatizer</th>\n",
       "    </tr>\n",
       "  </thead>\n",
       "  <tbody>\n",
       "    <tr>\n",
       "      <th>0</th>\n",
       "      <td>not feel humiliated</td>\n",
       "      <td>1</td>\n",
       "      <td>['not', 'feel', 'humiliated']</td>\n",
       "      <td>['not', 'feel', 'humili']</td>\n",
       "      <td>['not', 'feel', 'humiliated']</td>\n",
       "    </tr>\n",
       "    <tr>\n",
       "      <th>1</th>\n",
       "      <td>go feeling hopeless damned hopeful around some...</td>\n",
       "      <td>1</td>\n",
       "      <td>['go', 'feeling', 'hopeless', 'damned', 'hopef...</td>\n",
       "      <td>['go', 'feel', 'hopeless', 'damn', 'hope', 'ar...</td>\n",
       "      <td>['go', 'feeling', 'hopeless', 'damned', 'hopef...</td>\n",
       "    </tr>\n",
       "    <tr>\n",
       "      <th>2</th>\n",
       "      <td>grafting minute post feel greedy wrong</td>\n",
       "      <td>1</td>\n",
       "      <td>['grafting', 'minute', 'post', 'feel', 'greedy...</td>\n",
       "      <td>['graft', 'minut', 'post', 'feel', 'greedi', '...</td>\n",
       "      <td>['grafting', 'minute', 'post', 'feel', 'greedy...</td>\n",
       "    </tr>\n",
       "    <tr>\n",
       "      <th>3</th>\n",
       "      <td>ever feeling nostalgic fireplace know still no...</td>\n",
       "      <td>0</td>\n",
       "      <td>['ever', 'feeling', 'nostalgic', 'fireplace', ...</td>\n",
       "      <td>['ever', 'feel', 'nostalg', 'fireplac', 'know'...</td>\n",
       "      <td>['ever', 'feeling', 'nostalgic', 'fireplace', ...</td>\n",
       "    </tr>\n",
       "    <tr>\n",
       "      <th>4</th>\n",
       "      <td>feeling crouch</td>\n",
       "      <td>1</td>\n",
       "      <td>['feeling', 'crouch']</td>\n",
       "      <td>['feel', 'crouch']</td>\n",
       "      <td>['feeling', 'crouch']</td>\n",
       "    </tr>\n",
       "  </tbody>\n",
       "</table>\n",
       "</div>"
      ],
      "text/plain": [
       "                                            sentence  emotion  \\\n",
       "0                                not feel humiliated        1   \n",
       "1  go feeling hopeless damned hopeful around some...        1   \n",
       "2             grafting minute post feel greedy wrong        1   \n",
       "3  ever feeling nostalgic fireplace know still no...        0   \n",
       "4                                     feeling crouch        1   \n",
       "\n",
       "                                              tokens  \\\n",
       "0                      ['not', 'feel', 'humiliated']   \n",
       "1  ['go', 'feeling', 'hopeless', 'damned', 'hopef...   \n",
       "2  ['grafting', 'minute', 'post', 'feel', 'greedy...   \n",
       "3  ['ever', 'feeling', 'nostalgic', 'fireplace', ...   \n",
       "4                              ['feeling', 'crouch']   \n",
       "\n",
       "                                            Stemming  \\\n",
       "0                          ['not', 'feel', 'humili']   \n",
       "1  ['go', 'feel', 'hopeless', 'damn', 'hope', 'ar...   \n",
       "2  ['graft', 'minut', 'post', 'feel', 'greedi', '...   \n",
       "3  ['ever', 'feel', 'nostalg', 'fireplac', 'know'...   \n",
       "4                                 ['feel', 'crouch']   \n",
       "\n",
       "                                          lemmatizer  \n",
       "0                      ['not', 'feel', 'humiliated']  \n",
       "1  ['go', 'feeling', 'hopeless', 'damned', 'hopef...  \n",
       "2  ['grafting', 'minute', 'post', 'feel', 'greedy...  \n",
       "3  ['ever', 'feeling', 'nostalgic', 'fireplace', ...  \n",
       "4                              ['feeling', 'crouch']  "
      ]
     },
     "execution_count": 2,
     "metadata": {},
     "output_type": "execute_result"
    }
   ],
   "source": [
    "data = pd.read_csv(\"final_dataset.csv\")\n",
    "data.head()"
   ]
  },
  {
   "cell_type": "code",
   "execution_count": 3,
   "id": "6d7a4bed",
   "metadata": {},
   "outputs": [],
   "source": [
    "y = data.emotion"
   ]
  },
  {
   "cell_type": "code",
   "execution_count": 135,
   "id": "fc60b689",
   "metadata": {},
   "outputs": [
    {
     "data": {
      "text/plain": [
       "<AxesSubplot:xlabel='emotion', ylabel='count'>"
      ]
     },
     "execution_count": 135,
     "metadata": {},
     "output_type": "execute_result"
    },
    {
     "data": {
      "image/png": "[encoded data removed]",
      "text/plain": [
       "<Figure size 432x288 with 1 Axes>"
      ]
     },
     "metadata": {
      "needs_background": "light"
     },
     "output_type": "display_data"
    }
   ],
   "source": [
    "sns.countplot(data=data, x='emotion')"
   ]
  },
  {
   "cell_type": "markdown",
   "id": "b37d0673",
   "metadata": {},
   "source": [
    "# Feature Engineering\n",
    "\n",
    "Feature Engineering is a very key part of Natural Language Processing. as we all know algorithms and machines can’t understand characters or words or sentences hence we need to encode these words into some specific form of numerical in order to interact with algorithms or machines. we can’t feed the text data containing words /sentences/characters to a machine learning model.\n",
    "\n",
    "There are various ways to perform feature extraction. some popular and mostly used are:-\n",
    "\n",
    "    1. Bag of Words model\n",
    "    2. TF-IDF"
   ]
  },
  {
   "cell_type": "markdown",
   "id": "289ba82f",
   "metadata": {},
   "source": [
    "## 1. Bag of Words model\n",
    "\n",
    "The idea is to take the whole text data and count their frequency of occurrence. and map the words with their frequency. This method doesn’t care about the order of the words, but it does care how many times a word occurs and the default bag of words model treats all words equally."
   ]
  },
  {
   "cell_type": "code",
   "execution_count": 43,
   "id": "304a16ec",
   "metadata": {},
   "outputs": [
    {
     "data": {
      "text/html": [
       "<div>\n",
       "<style scoped>\n",
       "    .dataframe tbody tr th:only-of-type {\n",
       "        vertical-align: middle;\n",
       "    }\n",
       "\n",
       "    .dataframe tbody tr th {\n",
       "        vertical-align: top;\n",
       "    }\n",
       "\n",
       "    .dataframe thead th {\n",
       "        text-align: right;\n",
       "    }\n",
       "</style>\n",
       "<table border=\"1\" class=\"dataframe\">\n",
       "  <thead>\n",
       "    <tr style=\"text-align: right;\">\n",
       "      <th></th>\n",
       "      <th>a</th>\n",
       "      <th>aaaaaaand</th>\n",
       "      <th>aaaaand</th>\n",
       "      <th>aaaaarrrrgghhh</th>\n",
       "      <th>aaaand</th>\n",
       "      <th>aaahhhh</th>\n",
       "      <th>aaron</th>\n",
       "      <th>ab</th>\n",
       "      <th>abandon</th>\n",
       "      <th>abandoned</th>\n",
       "      <th>...</th>\n",
       "      <th>zimbabwean</th>\n",
       "      <th>zimmerman</th>\n",
       "      <th>ziplocks</th>\n",
       "      <th>zis</th>\n",
       "      <th>zone</th>\n",
       "      <th>zonisamide</th>\n",
       "      <th>zoolander</th>\n",
       "      <th>zu</th>\n",
       "      <th>zucchini</th>\n",
       "      <th>zum</th>\n",
       "    </tr>\n",
       "  </thead>\n",
       "  <tbody>\n",
       "    <tr>\n",
       "      <th>0</th>\n",
       "      <td>0</td>\n",
       "      <td>0</td>\n",
       "      <td>0</td>\n",
       "      <td>0</td>\n",
       "      <td>0</td>\n",
       "      <td>0</td>\n",
       "      <td>0</td>\n",
       "      <td>0</td>\n",
       "      <td>0</td>\n",
       "      <td>0</td>\n",
       "      <td>...</td>\n",
       "      <td>0</td>\n",
       "      <td>0</td>\n",
       "      <td>0</td>\n",
       "      <td>0</td>\n",
       "      <td>0</td>\n",
       "      <td>0</td>\n",
       "      <td>0</td>\n",
       "      <td>0</td>\n",
       "      <td>0</td>\n",
       "      <td>0</td>\n",
       "    </tr>\n",
       "    <tr>\n",
       "      <th>1</th>\n",
       "      <td>0</td>\n",
       "      <td>0</td>\n",
       "      <td>0</td>\n",
       "      <td>0</td>\n",
       "      <td>0</td>\n",
       "      <td>0</td>\n",
       "      <td>0</td>\n",
       "      <td>0</td>\n",
       "      <td>0</td>\n",
       "      <td>0</td>\n",
       "      <td>...</td>\n",
       "      <td>0</td>\n",
       "      <td>0</td>\n",
       "      <td>0</td>\n",
       "      <td>0</td>\n",
       "      <td>0</td>\n",
       "      <td>0</td>\n",
       "      <td>0</td>\n",
       "      <td>0</td>\n",
       "      <td>0</td>\n",
       "      <td>0</td>\n",
       "    </tr>\n",
       "    <tr>\n",
       "      <th>2</th>\n",
       "      <td>0</td>\n",
       "      <td>0</td>\n",
       "      <td>0</td>\n",
       "      <td>0</td>\n",
       "      <td>0</td>\n",
       "      <td>0</td>\n",
       "      <td>0</td>\n",
       "      <td>0</td>\n",
       "      <td>0</td>\n",
       "      <td>0</td>\n",
       "      <td>...</td>\n",
       "      <td>0</td>\n",
       "      <td>0</td>\n",
       "      <td>0</td>\n",
       "      <td>0</td>\n",
       "      <td>0</td>\n",
       "      <td>0</td>\n",
       "      <td>0</td>\n",
       "      <td>0</td>\n",
       "      <td>0</td>\n",
       "      <td>0</td>\n",
       "    </tr>\n",
       "    <tr>\n",
       "      <th>3</th>\n",
       "      <td>0</td>\n",
       "      <td>0</td>\n",
       "      <td>0</td>\n",
       "      <td>0</td>\n",
       "      <td>0</td>\n",
       "      <td>0</td>\n",
       "      <td>0</td>\n",
       "      <td>0</td>\n",
       "      <td>0</td>\n",
       "      <td>0</td>\n",
       "      <td>...</td>\n",
       "      <td>0</td>\n",
       "      <td>0</td>\n",
       "      <td>0</td>\n",
       "      <td>0</td>\n",
       "      <td>0</td>\n",
       "      <td>0</td>\n",
       "      <td>0</td>\n",
       "      <td>0</td>\n",
       "      <td>0</td>\n",
       "      <td>0</td>\n",
       "    </tr>\n",
       "    <tr>\n",
       "      <th>4</th>\n",
       "      <td>0</td>\n",
       "      <td>0</td>\n",
       "      <td>0</td>\n",
       "      <td>0</td>\n",
       "      <td>0</td>\n",
       "      <td>0</td>\n",
       "      <td>0</td>\n",
       "      <td>0</td>\n",
       "      <td>0</td>\n",
       "      <td>0</td>\n",
       "      <td>...</td>\n",
       "      <td>0</td>\n",
       "      <td>0</td>\n",
       "      <td>0</td>\n",
       "      <td>0</td>\n",
       "      <td>0</td>\n",
       "      <td>0</td>\n",
       "      <td>0</td>\n",
       "      <td>0</td>\n",
       "      <td>0</td>\n",
       "      <td>0</td>\n",
       "    </tr>\n",
       "  </tbody>\n",
       "</table>\n",
       "<p>5 rows × 15587 columns</p>\n",
       "</div>"
      ],
      "text/plain": [
       "   a  aaaaaaand  aaaaand  aaaaarrrrgghhh  aaaand  aaahhhh  aaron  ab  abandon  \\\n",
       "0  0          0        0               0       0        0      0   0        0   \n",
       "1  0          0        0               0       0        0      0   0        0   \n",
       "2  0          0        0               0       0        0      0   0        0   \n",
       "3  0          0        0               0       0        0      0   0        0   \n",
       "4  0          0        0               0       0        0      0   0        0   \n",
       "\n",
       "   abandoned  ...  zimbabwean  zimmerman  ziplocks  zis  zone  zonisamide  \\\n",
       "0          0  ...           0          0         0    0     0           0   \n",
       "1          0  ...           0          0         0    0     0           0   \n",
       "2          0  ...           0          0         0    0     0           0   \n",
       "3          0  ...           0          0         0    0     0           0   \n",
       "4          0  ...           0          0         0    0     0           0   \n",
       "\n",
       "   zoolander  zu  zucchini  zum  \n",
       "0          0   0         0    0  \n",
       "1          0   0         0    0  \n",
       "2          0   0         0    0  \n",
       "3          0   0         0    0  \n",
       "4          0   0         0    0  \n",
       "\n",
       "[5 rows x 15587 columns]"
      ]
     },
     "execution_count": 43,
     "metadata": {},
     "output_type": "execute_result"
    }
   ],
   "source": [
    "from sklearn.feature_extraction.text import CountVectorizer\n",
    "from nltk.tokenize import RegexpTokenizer\n",
    "\n",
    "token = RegexpTokenizer(r'[a-zA-Z0-9]+')\n",
    "\n",
    "Count_Vectorizer = CountVectorizer(tokenizer = token.tokenize)\n",
    "\n",
    "X = Count_Vectorizer.fit_transform(data.lemmatizer)\n",
    "\n",
    "X_array = X.toarray()\n",
    "\n",
    "pd.DataFrame(data=X_array, columns = Count_Vectorizer.get_feature_names_out()).head()"
   ]
  },
  {
   "cell_type": "code",
   "execution_count": 48,
   "id": "ceeb4acd",
   "metadata": {},
   "outputs": [
    {
     "data": {
      "text/plain": [
       "(27101, 15587)"
      ]
     },
     "execution_count": 48,
     "metadata": {},
     "output_type": "execute_result"
    }
   ],
   "source": [
    "X_array.shape"
   ]
  },
  {
   "cell_type": "code",
   "execution_count": 49,
   "id": "c159bb12",
   "metadata": {},
   "outputs": [
    {
     "data": {
      "text/plain": [
       "(27101,)"
      ]
     },
     "execution_count": 49,
     "metadata": {},
     "output_type": "execute_result"
    }
   ],
   "source": [
    "y.shape"
   ]
  },
  {
   "cell_type": "markdown",
   "id": "e29ae312",
   "metadata": {},
   "source": [
    "## Model Building"
   ]
  },
  {
   "cell_type": "code",
   "execution_count": 50,
   "id": "1d136fba",
   "metadata": {},
   "outputs": [],
   "source": [
    "from sklearn.model_selection import train_test_split\n",
    "from sklearn.model_selection import cross_val_score\n",
    "from sklearn.metrics import classification_report, confusion_matrix"
   ]
  },
  {
   "cell_type": "markdown",
   "id": "97a5bfd1",
   "metadata": {},
   "source": [
    "## 1. Logistic Regression"
   ]
  },
  {
   "cell_type": "code",
   "execution_count": 53,
   "id": "cb217630",
   "metadata": {},
   "outputs": [
    {
     "data": {
      "text/plain": [
       "0.9304818826129981"
      ]
     },
     "execution_count": 53,
     "metadata": {},
     "output_type": "execute_result"
    }
   ],
   "source": [
    "from sklearn.linear_model import LogisticRegression\n",
    "\n",
    "# Check Cross Validation Score\n",
    "\n",
    "clf = LogisticRegression(random_state=42, max_iter=1000)\n",
    "np.average(cross_val_score(clf, X, y, cv=10))"
   ]
  },
  {
   "cell_type": "code",
   "execution_count": 54,
   "id": "801d6c45",
   "metadata": {},
   "outputs": [
    {
     "data": {
      "text/plain": [
       "LogisticRegression(max_iter=1000, random_state=42)"
      ]
     },
     "execution_count": 54,
     "metadata": {},
     "output_type": "execute_result"
    }
   ],
   "source": [
    "# Model Building\n",
    "X_train, X_test, y_train, y_test = train_test_split(X,y, test_size=.33, random_state=40)\n",
    "\n",
    "clf.fit(X_train, y_train)"
   ]
  },
  {
   "cell_type": "code",
   "execution_count": 55,
   "id": "f5fa0257",
   "metadata": {},
   "outputs": [],
   "source": [
    "from sklearn.metrics import classification_report, confusion_matrix\n",
    "\n",
    "y_pred = clf.predict(X_test)"
   ]
  },
  {
   "cell_type": "code",
   "execution_count": 56,
   "id": "df563c42",
   "metadata": {},
   "outputs": [
    {
     "name": "stdout",
     "output_type": "stream",
     "text": [
      "              precision    recall  f1-score   support\n",
      "\n",
      "           0       0.93      0.91      0.92      3538\n",
      "           1       0.94      0.96      0.95      5406\n",
      "\n",
      "    accuracy                           0.94      8944\n",
      "   macro avg       0.94      0.93      0.94      8944\n",
      "weighted avg       0.94      0.94      0.94      8944\n",
      "\n"
     ]
    }
   ],
   "source": [
    "print(classification_report(y_test, y_pred))"
   ]
  },
  {
   "cell_type": "code",
   "execution_count": 57,
   "id": "845bf9ea",
   "metadata": {},
   "outputs": [
    {
     "name": "stdout",
     "output_type": "stream",
     "text": [
      "[[3231  307]\n",
      " [ 236 5170]]\n"
     ]
    },
    {
     "data": {
      "image/png": "[encoded data removed]",
      "text/plain": [
       "<Figure size 432x288 with 2 Axes>"
      ]
     },
     "metadata": {
      "needs_background": "light"
     },
     "output_type": "display_data"
    }
   ],
   "source": [
    "print(confusion_matrix(y_test, y_pred))\n",
    "sns.heatmap(confusion_matrix(y_test, y_pred))\n",
    "plt.show()"
   ]
  },
  {
   "cell_type": "code",
   "execution_count": 58,
   "id": "1bd5bc8a",
   "metadata": {},
   "outputs": [
    {
     "data": {
      "text/plain": [
       "1.5378941099790904"
      ]
     },
     "execution_count": 58,
     "metadata": {},
     "output_type": "execute_result"
    }
   ],
   "source": [
    "# Get Weight of a word\n",
    "\n",
    "clf.coef_[0][list(Count_Vectorizer.get_feature_names_out()).index(\"sad\")]"
   ]
  },
  {
   "cell_type": "code",
   "execution_count": 59,
   "id": "78d1a7af",
   "metadata": {},
   "outputs": [
    {
     "data": {
      "text/plain": [
       "-0.748038913588151"
      ]
     },
     "execution_count": 59,
     "metadata": {},
     "output_type": "execute_result"
    }
   ],
   "source": [
    "clf.coef_[0][list(Count_Vectorizer.get_feature_names_out()).index(\"happy\")]"
   ]
  },
  {
   "cell_type": "code",
   "execution_count": 63,
   "id": "4e987ec1",
   "metadata": {},
   "outputs": [
    {
     "data": {
      "text/plain": [
       "array([0, 1])"
      ]
     },
     "execution_count": 63,
     "metadata": {},
     "output_type": "execute_result"
    }
   ],
   "source": [
    "# Make Prediction\n",
    "\n",
    "clf.predict(Count_Vectorizer.transform([ \n",
    "    \"this is very interesting subject. I feel very happy to read this\",\"sad\"\n",
    "]))"
   ]
  },
  {
   "cell_type": "code",
   "execution_count": 61,
   "id": "3a3efa35",
   "metadata": {},
   "outputs": [
    {
     "data": {
      "text/plain": [
       "15587"
      ]
     },
     "execution_count": 61,
     "metadata": {},
     "output_type": "execute_result"
    }
   ],
   "source": [
    "len(Count_Vectorizer.transform([\n",
    "    \"sad\"\n",
    "]).toarray()[0])"
   ]
  },
  {
   "cell_type": "code",
   "execution_count": 157,
   "id": "0d5c0578",
   "metadata": {},
   "outputs": [],
   "source": [
    "from nltk.stem import WordNetLemmatizer\n",
    "from textblob import TextBlob\n",
    "\n",
    "def detect_emotion(clf=clf, sentence=\"\"):\n",
    "    lm = WordNetLemmatizer()\n",
    "    s =  str(TextBlob(sentence).correct())\n",
    "    snt = ' '.join([lm.lemmatize(i) for i in s.split()])\n",
    "    print(clf.predict(Count_Vectorizer.transform([snt])))"
   ]
  },
  {
   "cell_type": "code",
   "execution_count": 159,
   "id": "a868164f",
   "metadata": {},
   "outputs": [
    {
     "name": "stdout",
     "output_type": "stream",
     "text": [
      "[0]\n"
     ]
    }
   ],
   "source": [
    "detect_emotion(clf, \"this is veby interosting subjact. I feel very hapoy to read this\")"
   ]
  },
  {
   "cell_type": "code",
   "execution_count": 160,
   "id": "b97e9fb4",
   "metadata": {},
   "outputs": [
    {
     "data": {
      "text/plain": [
       "0.4928854605599788"
      ]
     },
     "execution_count": 160,
     "metadata": {},
     "output_type": "execute_result"
    }
   ],
   "source": [
    "clf.coef_[0][list(Count_Vectorizer.get_feature_names_out()).index(\"interesting\")]"
   ]
  },
  {
   "cell_type": "code",
   "execution_count": 161,
   "id": "327b194c",
   "metadata": {},
   "outputs": [
    {
     "data": {
      "text/plain": [
       "-0.05353525627042913"
      ]
     },
     "execution_count": 161,
     "metadata": {},
     "output_type": "execute_result"
    }
   ],
   "source": [
    "clf.coef_[0][list(Count_Vectorizer.get_feature_names_out()).index(\"very\")]"
   ]
  },
  {
   "cell_type": "code",
   "execution_count": 162,
   "id": "19e1f961",
   "metadata": {},
   "outputs": [
    {
     "data": {
      "text/plain": [
       "-0.748038913588151"
      ]
     },
     "execution_count": 162,
     "metadata": {},
     "output_type": "execute_result"
    }
   ],
   "source": [
    "clf.coef_[0][list(Count_Vectorizer.get_feature_names_out()).index(\"happy\")]"
   ]
  },
  {
   "cell_type": "code",
   "execution_count": 130,
   "id": "189c0008",
   "metadata": {},
   "outputs": [
    {
     "data": {
      "text/plain": [
       "-0.23420139103673773"
      ]
     },
     "execution_count": 130,
     "metadata": {},
     "output_type": "execute_result"
    }
   ],
   "source": [
    "clf.coef_[0][list(Count_Vectorizer.get_feature_names_out()).index(\"read\")]"
   ]
  },
  {
   "cell_type": "code",
   "execution_count": 126,
   "id": "d893eda0",
   "metadata": {
    "scrolled": true
   },
   "outputs": [
    {
     "name": "stdout",
     "output_type": "stream",
     "text": [
      "[1]\n"
     ]
    }
   ],
   "source": [
    "detect_emotion(\"I am happy today\")"
   ]
  },
  {
   "cell_type": "code",
   "execution_count": 120,
   "id": "be4d5ac6",
   "metadata": {},
   "outputs": [
    {
     "name": "stdout",
     "output_type": "stream",
     "text": [
      "Hurrah! today i have cracked my interview. I feel very happy after that.\n",
      "[1]\n"
     ]
    }
   ],
   "source": [
    "detect_emotion(\"Hurrah! today i have cracked my interview. I feel very happy after that. \")"
   ]
  },
  {
   "cell_type": "code",
   "execution_count": null,
   "id": "bac4f7bc",
   "metadata": {},
   "outputs": [],
   "source": []
  },
  {
   "cell_type": "code",
   "execution_count": 151,
   "id": "92babc6e",
   "metadata": {},
   "outputs": [
    {
     "data": {
      "text/plain": [
       "0.912954656510785"
      ]
     },
     "execution_count": 151,
     "metadata": {},
     "output_type": "execute_result"
    }
   ],
   "source": [
    "clf_l2 = LogisticRegression(penalty=\"l2\", C=50, random_state=42, max_iter=1000)\n",
    "\n",
    "np.average(cross_val_score(clf_l2, X, y, cv=10))"
   ]
  },
  {
   "cell_type": "code",
   "execution_count": 152,
   "id": "4f1fdfb0",
   "metadata": {},
   "outputs": [
    {
     "data": {
      "text/plain": [
       "LogisticRegression(C=50, max_iter=1000, random_state=42)"
      ]
     },
     "execution_count": 152,
     "metadata": {},
     "output_type": "execute_result"
    }
   ],
   "source": [
    "clf_l2.fit(X_train, y_train)"
   ]
  },
  {
   "cell_type": "code",
   "execution_count": 153,
   "id": "79e3461e",
   "metadata": {},
   "outputs": [
    {
     "name": "stdout",
     "output_type": "stream",
     "text": [
      "[1]\n"
     ]
    }
   ],
   "source": [
    "detect_emotion(clf=clf_l2, sentence=\"Hurrah! today i have cracked my interview. I feel very happy after that.\")"
   ]
  },
  {
   "cell_type": "code",
   "execution_count": 182,
   "id": "2a71ab2e",
   "metadata": {},
   "outputs": [
    {
     "data": {
      "text/plain": [
       "0.41113273987324106"
      ]
     },
     "execution_count": 182,
     "metadata": {},
     "output_type": "execute_result"
    }
   ],
   "source": [
    "clf_l2.coef_[0][list(Count_Vectorizer.get_feature_names_out()).index(\"i\")]"
   ]
  },
  {
   "cell_type": "code",
   "execution_count": null,
   "id": "4de16bea",
   "metadata": {},
   "outputs": [],
   "source": []
  }
 ],
 "metadata": {
  "kernelspec": {
   "display_name": "Python 3 (ipykernel)",
   "language": "python",
   "name": "python3"
  },
  "language_info": {
   "codemirror_mode": {
    "name": "ipython",
    "version": 3
   },
   "file_extension": ".py",
   "mimetype": "text/x-python",
   "name": "python",
   "nbconvert_exporter": "python",
   "pygments_lexer": "ipython3",
   "version": "3.9.12"
  }
 },
 "nbformat": 4,
 "nbformat_minor": 5
}
