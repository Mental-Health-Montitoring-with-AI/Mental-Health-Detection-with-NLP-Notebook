{
 "cells": [
  {
   "cell_type": "code",
   "execution_count": 1,
   "id": "849312bf",
   "metadata": {},
   "outputs": [],
   "source": [
    "import pandas as pd\n",
    "import numpy as np\n",
    "import seaborn as sns\n",
    "import matplotlib.pyplot as plt"
   ]
  },
  {
   "cell_type": "code",
   "execution_count": 2,
   "id": "ba2eed1c",
   "metadata": {
    "scrolled": true
   },
   "outputs": [
    {
     "data": {
      "text/html": [
       "<div>\n",
       "<style scoped>\n",
       "    .dataframe tbody tr th:only-of-type {\n",
       "        vertical-align: middle;\n",
       "    }\n",
       "\n",
       "    .dataframe tbody tr th {\n",
       "        vertical-align: top;\n",
       "    }\n",
       "\n",
       "    .dataframe thead th {\n",
       "        text-align: right;\n",
       "    }\n",
       "</style>\n",
       "<table border=\"1\" class=\"dataframe\">\n",
       "  <thead>\n",
       "    <tr style=\"text-align: right;\">\n",
       "      <th></th>\n",
       "      <th>sentence</th>\n",
       "      <th>emotion</th>\n",
       "      <th>tokens</th>\n",
       "      <th>lemmatizer</th>\n",
       "    </tr>\n",
       "  </thead>\n",
       "  <tbody>\n",
       "    <tr>\n",
       "      <th>0</th>\n",
       "      <td>not feel humiliated</td>\n",
       "      <td>stressed</td>\n",
       "      <td>['not', 'feel', 'humiliated']</td>\n",
       "      <td>['not', 'feel', 'humiliated']</td>\n",
       "    </tr>\n",
       "    <tr>\n",
       "      <th>1</th>\n",
       "      <td>go feeling hopeless damned hopeful around some...</td>\n",
       "      <td>stressed</td>\n",
       "      <td>['go', 'feeling', 'hopeless', 'damned', 'hopef...</td>\n",
       "      <td>['go', 'feeling', 'hopeless', 'damned', 'hopef...</td>\n",
       "    </tr>\n",
       "    <tr>\n",
       "      <th>2</th>\n",
       "      <td>grafting minute post feel greedy wrong</td>\n",
       "      <td>stressed</td>\n",
       "      <td>['grafting', 'minute', 'post', 'feel', 'greedy...</td>\n",
       "      <td>['grafting', 'minute', 'post', 'feel', 'greedy...</td>\n",
       "    </tr>\n",
       "    <tr>\n",
       "      <th>3</th>\n",
       "      <td>ever feeling nostalgic fireplace know still no...</td>\n",
       "      <td>unstressed</td>\n",
       "      <td>['ever', 'feeling', 'nostalgic', 'fireplace', ...</td>\n",
       "      <td>['ever', 'feeling', 'nostalgic', 'fireplace', ...</td>\n",
       "    </tr>\n",
       "    <tr>\n",
       "      <th>4</th>\n",
       "      <td>feeling crouch</td>\n",
       "      <td>stressed</td>\n",
       "      <td>['feeling', 'crouch']</td>\n",
       "      <td>['feeling', 'crouch']</td>\n",
       "    </tr>\n",
       "  </tbody>\n",
       "</table>\n",
       "</div>"
      ],
      "text/plain": [
       "                                            sentence     emotion  \\\n",
       "0                                not feel humiliated    stressed   \n",
       "1  go feeling hopeless damned hopeful around some...    stressed   \n",
       "2             grafting minute post feel greedy wrong    stressed   \n",
       "3  ever feeling nostalgic fireplace know still no...  unstressed   \n",
       "4                                     feeling crouch    stressed   \n",
       "\n",
       "                                              tokens  \\\n",
       "0                      ['not', 'feel', 'humiliated']   \n",
       "1  ['go', 'feeling', 'hopeless', 'damned', 'hopef...   \n",
       "2  ['grafting', 'minute', 'post', 'feel', 'greedy...   \n",
       "3  ['ever', 'feeling', 'nostalgic', 'fireplace', ...   \n",
       "4                              ['feeling', 'crouch']   \n",
       "\n",
       "                                          lemmatizer  \n",
       "0                      ['not', 'feel', 'humiliated']  \n",
       "1  ['go', 'feeling', 'hopeless', 'damned', 'hopef...  \n",
       "2  ['grafting', 'minute', 'post', 'feel', 'greedy...  \n",
       "3  ['ever', 'feeling', 'nostalgic', 'fireplace', ...  \n",
       "4                              ['feeling', 'crouch']  "
      ]
     },
     "execution_count": 2,
     "metadata": {},
     "output_type": "execute_result"
    }
   ],
   "source": [
    "data = pd.read_csv(\"latest.csv\")\n",
    "data.head()"
   ]
  },
  {
   "cell_type": "code",
   "execution_count": 3,
   "id": "df0cc761",
   "metadata": {},
   "outputs": [
    {
     "data": {
      "text/plain": [
       "(34778, 4)"
      ]
     },
     "execution_count": 3,
     "metadata": {},
     "output_type": "execute_result"
    }
   ],
   "source": [
    "data.shape"
   ]
  },
  {
   "cell_type": "code",
   "execution_count": 4,
   "id": "6d7a4bed",
   "metadata": {},
   "outputs": [],
   "source": [
    "y = data.emotion"
   ]
  },
  {
   "cell_type": "code",
   "execution_count": 5,
   "id": "b053a9b0",
   "metadata": {},
   "outputs": [
    {
     "data": {
      "text/plain": [
       "stressed      21413\n",
       "unstressed    13365\n",
       "Name: emotion, dtype: int64"
      ]
     },
     "execution_count": 5,
     "metadata": {},
     "output_type": "execute_result"
    }
   ],
   "source": [
    "y.value_counts()"
   ]
  },
  {
   "cell_type": "code",
   "execution_count": 6,
   "id": "5fe59aee",
   "metadata": {},
   "outputs": [
    {
     "data": {
      "text/plain": [
       "<AxesSubplot:xlabel='emotion', ylabel='count'>"
      ]
     },
     "execution_count": 6,
     "metadata": {},
     "output_type": "execute_result"
    },
    {
     "data": {
      "image/png": "[encoded data removed]",
      "text/plain": [
       "<Figure size 432x288 with 1 Axes>"
      ]
     },
     "metadata": {
      "needs_background": "light"
     },
     "output_type": "display_data"
    }
   ],
   "source": [
    "sns.countplot(data=data, x='emotion')"
   ]
  },
  {
   "cell_type": "markdown",
   "id": "b37d0673",
   "metadata": {},
   "source": [
    "# Feature Engineering\n",
    "\n",
    "Feature Engineering is a very key part of Natural Language Processing. as we all know algorithms and machines can’t understand characters or words or sentences hence we need to encode these words into some specific form of numerical in order to interact with algorithms or machines. we can’t feed the text data containing words /sentences/characters to a machine learning model.\n",
    "\n",
    "There are various ways to perform feature extraction. some popular and mostly used are:-\n",
    "\n",
    "    1. Bag of Words model\n",
    "    2. TF-IDF"
   ]
  },
  {
   "cell_type": "markdown",
   "id": "289ba82f",
   "metadata": {},
   "source": [
    "## 1. Bag of Words model\n",
    "\n",
    "The idea is to take the whole text data and count their frequency of occurrence. and map the words with their frequency. This method doesn’t care about the order of the words, but it does care how many times a word occurs and the default bag of words model treats all words equally.\n",
    "\n",
    "## 2. TF-IDF Model\n",
    "\n",
    "The BOW model doesn’t give good results since it has a drawback. Assume that there is a particular word that is appearing in all the documents and it comes multiple times, eventually, it will have a higher frequency of occurrence and it will have a greater value that will cause a specific word to have more weightage in a sentence, that’s not good for our analysis.\n",
    "\n",
    "Term frequency (TF): Number of times a term has appeared in a document. The term frequency is a measure of how frequently or how common a word is for a given sentence.\n",
    "\n",
    "Inverse Document Frequency (IDF): The inverse document frequency (IDF ) is a measure of how rare a word is in a document. Words like “the”,” a” show up in all the documents but rare words will not occur in all the documents of the corpus.\n",
    "\n",
    "If a word appears in almost every document means it’s not significant for the classification.\n",
    "\n",
    "IDF of a word is = log(N/n)\n",
    "\n",
    "N: total number of documents.\n",
    "n: number of documents containing a term (word)\n",
    "\n",
    "TF-IDF Evaluates how relevant is a word to its sentence in a collection of sentences or documents."
   ]
  },
  {
   "cell_type": "code",
   "execution_count": 7,
   "id": "304a16ec",
   "metadata": {},
   "outputs": [
    {
     "data": {
      "text/html": [
       "<div>\n",
       "<style scoped>\n",
       "    .dataframe tbody tr th:only-of-type {\n",
       "        vertical-align: middle;\n",
       "    }\n",
       "\n",
       "    .dataframe tbody tr th {\n",
       "        vertical-align: top;\n",
       "    }\n",
       "\n",
       "    .dataframe thead th {\n",
       "        text-align: right;\n",
       "    }\n",
       "</style>\n",
       "<table border=\"1\" class=\"dataframe\">\n",
       "  <thead>\n",
       "    <tr style=\"text-align: right;\">\n",
       "      <th></th>\n",
       "      <th>a</th>\n",
       "      <th>aaa</th>\n",
       "      <th>aaaa</th>\n",
       "      <th>aaaaaa</th>\n",
       "      <th>aar</th>\n",
       "      <th>aaron</th>\n",
       "      <th>ab</th>\n",
       "      <th>aba</th>\n",
       "      <th>abandon</th>\n",
       "      <th>abandoned</th>\n",
       "      <th>...</th>\n",
       "      <th>zp</th>\n",
       "      <th>zu</th>\n",
       "      <th>zucchini</th>\n",
       "      <th>zug</th>\n",
       "      <th>zum</th>\n",
       "      <th>zw</th>\n",
       "      <th>zx</th>\n",
       "      <th>zy</th>\n",
       "      <th>zz</th>\n",
       "      <th>zzz</th>\n",
       "    </tr>\n",
       "  </thead>\n",
       "  <tbody>\n",
       "    <tr>\n",
       "      <th>0</th>\n",
       "      <td>0.0</td>\n",
       "      <td>0.0</td>\n",
       "      <td>0.0</td>\n",
       "      <td>0.0</td>\n",
       "      <td>0.0</td>\n",
       "      <td>0.0</td>\n",
       "      <td>0.0</td>\n",
       "      <td>0.0</td>\n",
       "      <td>0.0</td>\n",
       "      <td>0.0</td>\n",
       "      <td>...</td>\n",
       "      <td>0.0</td>\n",
       "      <td>0.0</td>\n",
       "      <td>0.0</td>\n",
       "      <td>0.0</td>\n",
       "      <td>0.0</td>\n",
       "      <td>0.0</td>\n",
       "      <td>0.0</td>\n",
       "      <td>0.0</td>\n",
       "      <td>0.0</td>\n",
       "      <td>0.0</td>\n",
       "    </tr>\n",
       "    <tr>\n",
       "      <th>1</th>\n",
       "      <td>0.0</td>\n",
       "      <td>0.0</td>\n",
       "      <td>0.0</td>\n",
       "      <td>0.0</td>\n",
       "      <td>0.0</td>\n",
       "      <td>0.0</td>\n",
       "      <td>0.0</td>\n",
       "      <td>0.0</td>\n",
       "      <td>0.0</td>\n",
       "      <td>0.0</td>\n",
       "      <td>...</td>\n",
       "      <td>0.0</td>\n",
       "      <td>0.0</td>\n",
       "      <td>0.0</td>\n",
       "      <td>0.0</td>\n",
       "      <td>0.0</td>\n",
       "      <td>0.0</td>\n",
       "      <td>0.0</td>\n",
       "      <td>0.0</td>\n",
       "      <td>0.0</td>\n",
       "      <td>0.0</td>\n",
       "    </tr>\n",
       "    <tr>\n",
       "      <th>2</th>\n",
       "      <td>0.0</td>\n",
       "      <td>0.0</td>\n",
       "      <td>0.0</td>\n",
       "      <td>0.0</td>\n",
       "      <td>0.0</td>\n",
       "      <td>0.0</td>\n",
       "      <td>0.0</td>\n",
       "      <td>0.0</td>\n",
       "      <td>0.0</td>\n",
       "      <td>0.0</td>\n",
       "      <td>...</td>\n",
       "      <td>0.0</td>\n",
       "      <td>0.0</td>\n",
       "      <td>0.0</td>\n",
       "      <td>0.0</td>\n",
       "      <td>0.0</td>\n",
       "      <td>0.0</td>\n",
       "      <td>0.0</td>\n",
       "      <td>0.0</td>\n",
       "      <td>0.0</td>\n",
       "      <td>0.0</td>\n",
       "    </tr>\n",
       "    <tr>\n",
       "      <th>3</th>\n",
       "      <td>0.0</td>\n",
       "      <td>0.0</td>\n",
       "      <td>0.0</td>\n",
       "      <td>0.0</td>\n",
       "      <td>0.0</td>\n",
       "      <td>0.0</td>\n",
       "      <td>0.0</td>\n",
       "      <td>0.0</td>\n",
       "      <td>0.0</td>\n",
       "      <td>0.0</td>\n",
       "      <td>...</td>\n",
       "      <td>0.0</td>\n",
       "      <td>0.0</td>\n",
       "      <td>0.0</td>\n",
       "      <td>0.0</td>\n",
       "      <td>0.0</td>\n",
       "      <td>0.0</td>\n",
       "      <td>0.0</td>\n",
       "      <td>0.0</td>\n",
       "      <td>0.0</td>\n",
       "      <td>0.0</td>\n",
       "    </tr>\n",
       "    <tr>\n",
       "      <th>4</th>\n",
       "      <td>0.0</td>\n",
       "      <td>0.0</td>\n",
       "      <td>0.0</td>\n",
       "      <td>0.0</td>\n",
       "      <td>0.0</td>\n",
       "      <td>0.0</td>\n",
       "      <td>0.0</td>\n",
       "      <td>0.0</td>\n",
       "      <td>0.0</td>\n",
       "      <td>0.0</td>\n",
       "      <td>...</td>\n",
       "      <td>0.0</td>\n",
       "      <td>0.0</td>\n",
       "      <td>0.0</td>\n",
       "      <td>0.0</td>\n",
       "      <td>0.0</td>\n",
       "      <td>0.0</td>\n",
       "      <td>0.0</td>\n",
       "      <td>0.0</td>\n",
       "      <td>0.0</td>\n",
       "      <td>0.0</td>\n",
       "    </tr>\n",
       "  </tbody>\n",
       "</table>\n",
       "<p>5 rows × 15335 columns</p>\n",
       "</div>"
      ],
      "text/plain": [
       "     a  aaa  aaaa  aaaaaa  aar  aaron   ab  aba  abandon  abandoned  ...   zp  \\\n",
       "0  0.0  0.0   0.0     0.0  0.0    0.0  0.0  0.0      0.0        0.0  ...  0.0   \n",
       "1  0.0  0.0   0.0     0.0  0.0    0.0  0.0  0.0      0.0        0.0  ...  0.0   \n",
       "2  0.0  0.0   0.0     0.0  0.0    0.0  0.0  0.0      0.0        0.0  ...  0.0   \n",
       "3  0.0  0.0   0.0     0.0  0.0    0.0  0.0  0.0      0.0        0.0  ...  0.0   \n",
       "4  0.0  0.0   0.0     0.0  0.0    0.0  0.0  0.0      0.0        0.0  ...  0.0   \n",
       "\n",
       "    zu  zucchini  zug  zum   zw   zx   zy   zz  zzz  \n",
       "0  0.0       0.0  0.0  0.0  0.0  0.0  0.0  0.0  0.0  \n",
       "1  0.0       0.0  0.0  0.0  0.0  0.0  0.0  0.0  0.0  \n",
       "2  0.0       0.0  0.0  0.0  0.0  0.0  0.0  0.0  0.0  \n",
       "3  0.0       0.0  0.0  0.0  0.0  0.0  0.0  0.0  0.0  \n",
       "4  0.0       0.0  0.0  0.0  0.0  0.0  0.0  0.0  0.0  \n",
       "\n",
       "[5 rows x 15335 columns]"
      ]
     },
     "execution_count": 7,
     "metadata": {},
     "output_type": "execute_result"
    }
   ],
   "source": [
    "from sklearn.feature_extraction.text import TfidfVectorizer\n",
    "from nltk.tokenize import RegexpTokenizer\n",
    "\n",
    "token = RegexpTokenizer(r'[a-zA-Z0-9]+')\n",
    "\n",
    "TfIdf_Vectorizer = TfidfVectorizer(tokenizer = token.tokenize)\n",
    "\n",
    "X = TfIdf_Vectorizer.fit_transform(data.lemmatizer)\n",
    "\n",
    "X_array = X.toarray()\n",
    "\n",
    "pd.DataFrame(data=X_array, columns = TfIdf_Vectorizer.get_feature_names_out()).head()"
   ]
  },
  {
   "cell_type": "code",
   "execution_count": 8,
   "id": "802ac9a6",
   "metadata": {},
   "outputs": [
    {
     "data": {
      "text/plain": [
       "(34778, 15335)"
      ]
     },
     "execution_count": 8,
     "metadata": {},
     "output_type": "execute_result"
    }
   ],
   "source": [
    "X_array.shape"
   ]
  },
  {
   "cell_type": "code",
   "execution_count": 9,
   "id": "f82658e5",
   "metadata": {},
   "outputs": [
    {
     "data": {
      "text/plain": [
       "(34778,)"
      ]
     },
     "execution_count": 9,
     "metadata": {},
     "output_type": "execute_result"
    }
   ],
   "source": [
    "y.shape"
   ]
  },
  {
   "cell_type": "code",
   "execution_count": 10,
   "id": "52e990ab",
   "metadata": {},
   "outputs": [],
   "source": [
    "# for i in TfIdf_Vectorizer.get_feature_names_out():\n",
    "#     print(i)"
   ]
  },
  {
   "cell_type": "markdown",
   "id": "e29ae312",
   "metadata": {},
   "source": [
    "# Model Building"
   ]
  },
  {
   "cell_type": "code",
   "execution_count": 11,
   "id": "1d136fba",
   "metadata": {},
   "outputs": [],
   "source": [
    "from sklearn.model_selection import train_test_split\n",
    "from sklearn.model_selection import cross_val_score\n",
    "from sklearn.metrics import classification_report, confusion_matrix, accuracy_score"
   ]
  },
  {
   "cell_type": "code",
   "execution_count": 12,
   "id": "87fa2535",
   "metadata": {},
   "outputs": [],
   "source": [
    "X_train, X_test, y_train, y_test = train_test_split(X,y, test_size=.33, random_state=40)"
   ]
  },
  {
   "cell_type": "markdown",
   "id": "97a5bfd1",
   "metadata": {},
   "source": [
    "## 1. Logistic Regression"
   ]
  },
  {
   "cell_type": "code",
   "execution_count": 13,
   "id": "cb217630",
   "metadata": {},
   "outputs": [
    {
     "data": {
      "text/plain": [
       "0.9060275253315841"
      ]
     },
     "execution_count": 13,
     "metadata": {},
     "output_type": "execute_result"
    }
   ],
   "source": [
    "from sklearn.linear_model import LogisticRegression\n",
    "\n",
    "# Check Cross Validation Score\n",
    "\n",
    "clf = LogisticRegression(random_state=42, max_iter=1000)\n",
    "np.average(cross_val_score(clf, X, y, cv=10))"
   ]
  },
  {
   "cell_type": "code",
   "execution_count": 14,
   "id": "801d6c45",
   "metadata": {},
   "outputs": [
    {
     "data": {
      "text/plain": [
       "LogisticRegression(max_iter=1000, random_state=42)"
      ]
     },
     "execution_count": 14,
     "metadata": {},
     "output_type": "execute_result"
    }
   ],
   "source": [
    "# Model Building\n",
    "clf.fit(X_train, y_train)"
   ]
  },
  {
   "cell_type": "code",
   "execution_count": 15,
   "id": "00ba7463",
   "metadata": {},
   "outputs": [],
   "source": [
    "from sklearn.metrics import classification_report, confusion_matrix\n",
    "\n",
    "y_pred = clf.predict(X_test)"
   ]
  },
  {
   "cell_type": "code",
   "execution_count": 16,
   "id": "68d4406d",
   "metadata": {},
   "outputs": [
    {
     "name": "stdout",
     "output_type": "stream",
     "text": [
      "              precision    recall  f1-score   support\n",
      "\n",
      "    stressed       0.91      0.97      0.94      7027\n",
      "  unstressed       0.94      0.84      0.89      4450\n",
      "\n",
      "    accuracy                           0.92     11477\n",
      "   macro avg       0.92      0.90      0.91     11477\n",
      "weighted avg       0.92      0.92      0.92     11477\n",
      "\n"
     ]
    }
   ],
   "source": [
    "print(classification_report(y_test, y_pred))"
   ]
  },
  {
   "cell_type": "code",
   "execution_count": 17,
   "id": "d73ecb7f",
   "metadata": {},
   "outputs": [
    {
     "name": "stdout",
     "output_type": "stream",
     "text": [
      "[[6794  233]\n",
      " [ 707 3743]]\n"
     ]
    },
    {
     "data": {
      "image/png": "[encoded data removed]",
      "text/plain": [
       "<Figure size 432x288 with 2 Axes>"
      ]
     },
     "metadata": {
      "needs_background": "light"
     },
     "output_type": "display_data"
    }
   ],
   "source": [
    "print(confusion_matrix(y_test, y_pred))\n",
    "sns.heatmap(confusion_matrix(y_test, y_pred))\n",
    "plt.show()"
   ]
  },
  {
   "cell_type": "code",
   "execution_count": 18,
   "id": "36d90125",
   "metadata": {},
   "outputs": [
    {
     "data": {
      "text/plain": [
       "-2.9471968179465415"
      ]
     },
     "execution_count": 18,
     "metadata": {},
     "output_type": "execute_result"
    }
   ],
   "source": [
    "# Get Weight of a word\n",
    "\n",
    "clf.coef_[0][list(TfIdf_Vectorizer.get_feature_names_out()).index(\"sad\")]"
   ]
  },
  {
   "cell_type": "code",
   "execution_count": 19,
   "id": "434d8c60",
   "metadata": {},
   "outputs": [
    {
     "data": {
      "text/plain": [
       "2.843781343081766"
      ]
     },
     "execution_count": 19,
     "metadata": {},
     "output_type": "execute_result"
    }
   ],
   "source": [
    "clf.coef_[0][list(TfIdf_Vectorizer.get_feature_names_out()).index(\"happy\")]"
   ]
  },
  {
   "cell_type": "markdown",
   "id": "d332fe94",
   "metadata": {},
   "source": [
    "### Detect Emotion"
   ]
  },
  {
   "cell_type": "code",
   "execution_count": 20,
   "id": "c5b27c7b",
   "metadata": {},
   "outputs": [],
   "source": [
    "from nltk.stem import WordNetLemmatizer\n",
    "from textblob import TextBlob\n",
    "\n",
    "def detect_emotion(clf, sentence):\n",
    "    lm = WordNetLemmatizer()\n",
    "    s =  str(TextBlob(sentence).correct())\n",
    "    snt = ' '.join([lm.lemmatize(i) for i in s.split()])\n",
    "    print(clf.predict(TfIdf_Vectorizer.transform([snt])))"
   ]
  },
  {
   "cell_type": "code",
   "execution_count": 21,
   "id": "1bd1ff30",
   "metadata": {},
   "outputs": [
    {
     "name": "stdout",
     "output_type": "stream",
     "text": [
      "['unstressed']\n"
     ]
    }
   ],
   "source": [
    "detect_emotion(clf, \"this is veby interosting subjact. I feel very hapoy to read this\")"
   ]
  },
  {
   "cell_type": "markdown",
   "id": "1b927ddb",
   "metadata": {},
   "source": [
    "### Get Weight of a word"
   ]
  },
  {
   "cell_type": "code",
   "execution_count": 22,
   "id": "d0cb0bc6",
   "metadata": {},
   "outputs": [],
   "source": [
    "def get_weight(model, word):\n",
    "    try:\n",
    "        print(model.coef_[0][list(TfIdf_Vectorizer.get_feature_names_out()).index(word)])\n",
    "    except IndexError:\n",
    "        print(model.coef_.toarray()[0][list(TfIdf_Vectorizer.get_feature_names_out()).index(word)])"
   ]
  },
  {
   "cell_type": "code",
   "execution_count": 23,
   "id": "01fef0d3",
   "metadata": {},
   "outputs": [
    {
     "name": "stdout",
     "output_type": "stream",
     "text": [
      "0.21535720592383062\n"
     ]
    }
   ],
   "source": [
    "get_weight(clf, \"interesting\")"
   ]
  },
  {
   "cell_type": "code",
   "execution_count": 24,
   "id": "455222c3",
   "metadata": {},
   "outputs": [
    {
     "name": "stdout",
     "output_type": "stream",
     "text": [
      "0.2784316347903588\n"
     ]
    }
   ],
   "source": [
    "get_weight(clf, \"very\")"
   ]
  },
  {
   "cell_type": "code",
   "execution_count": 25,
   "id": "a5727090",
   "metadata": {},
   "outputs": [
    {
     "name": "stdout",
     "output_type": "stream",
     "text": [
      "2.843781343081766\n"
     ]
    }
   ],
   "source": [
    "get_weight(clf, \"happy\")"
   ]
  },
  {
   "cell_type": "code",
   "execution_count": 26,
   "id": "d42eb689",
   "metadata": {},
   "outputs": [
    {
     "name": "stdout",
     "output_type": "stream",
     "text": [
      "0.6037454177403396\n"
     ]
    }
   ],
   "source": [
    "get_weight(clf, \"read\")"
   ]
  },
  {
   "cell_type": "code",
   "execution_count": null,
   "id": "e95b16ee",
   "metadata": {},
   "outputs": [],
   "source": []
  },
  {
   "cell_type": "code",
   "execution_count": 27,
   "id": "153e43fb",
   "metadata": {
    "scrolled": true
   },
   "outputs": [
    {
     "name": "stdout",
     "output_type": "stream",
     "text": [
      "['unstressed']\n"
     ]
    }
   ],
   "source": [
    "detect_emotion(clf,\"I am happy today\")"
   ]
  },
  {
   "cell_type": "code",
   "execution_count": 28,
   "id": "f3acfc34",
   "metadata": {},
   "outputs": [
    {
     "name": "stdout",
     "output_type": "stream",
     "text": [
      "['unstressed']\n"
     ]
    }
   ],
   "source": [
    "detect_emotion(clf, \"hurrah! today i have cracked my interview. I feel very happy after that. \")"
   ]
  },
  {
   "cell_type": "code",
   "execution_count": 29,
   "id": "61412f00",
   "metadata": {},
   "outputs": [
    {
     "name": "stdout",
     "output_type": "stream",
     "text": [
      "['stressed']\n"
     ]
    }
   ],
   "source": [
    "detect_emotion(clf, \"nobody loves me. i am fool person of the world. i do not want to live\")"
   ]
  },
  {
   "cell_type": "code",
   "execution_count": 30,
   "id": "0dda2412",
   "metadata": {},
   "outputs": [
    {
     "name": "stdout",
     "output_type": "stream",
     "text": [
      "['stressed']\n"
     ]
    }
   ],
   "source": [
    "detect_emotion(clf, \"hello, i am ujjwal\")"
   ]
  },
  {
   "cell_type": "markdown",
   "id": "f0df8b88",
   "metadata": {},
   "source": [
    "Some Prediction are not gives good result. Let's try l2 regularization. For that add some penalty"
   ]
  },
  {
   "cell_type": "markdown",
   "id": "1aed50f8",
   "metadata": {},
   "source": [
    "## Using L2 Regularizations"
   ]
  },
  {
   "cell_type": "code",
   "execution_count": 31,
   "id": "2072dc89",
   "metadata": {},
   "outputs": [
    {
     "data": {
      "text/plain": [
       "0.9337772014666991"
      ]
     },
     "execution_count": 31,
     "metadata": {},
     "output_type": "execute_result"
    }
   ],
   "source": [
    "clf_l2 = LogisticRegression(penalty=\"l2\", C=50, random_state=42, max_iter=1000)\n",
    "\n",
    "np.average(cross_val_score(clf_l2, X, y, cv=10))"
   ]
  },
  {
   "cell_type": "code",
   "execution_count": 32,
   "id": "c02eee96",
   "metadata": {},
   "outputs": [
    {
     "data": {
      "text/plain": [
       "0.9340931361482827"
      ]
     },
     "execution_count": 32,
     "metadata": {},
     "output_type": "execute_result"
    }
   ],
   "source": [
    "clf_l2 = LogisticRegression(penalty=\"l2\", C=20, random_state=42, max_iter=1000)\n",
    "\n",
    "np.average(cross_val_score(clf_l2, X, y, cv=10))"
   ]
  },
  {
   "cell_type": "code",
   "execution_count": 33,
   "id": "3d11a3f2",
   "metadata": {},
   "outputs": [
    {
     "data": {
      "text/plain": [
       "0.9320799973141499"
      ]
     },
     "execution_count": 33,
     "metadata": {},
     "output_type": "execute_result"
    }
   ],
   "source": [
    "clf_l2 = LogisticRegression(penalty=\"l2\", C=10, random_state=42, max_iter=1000)\n",
    "\n",
    "np.average(cross_val_score(clf_l2, X, y, cv=10))"
   ]
  },
  {
   "cell_type": "code",
   "execution_count": 34,
   "id": "fe8d2efe",
   "metadata": {},
   "outputs": [
    {
     "data": {
      "text/plain": [
       "0.9322822464488978"
      ]
     },
     "execution_count": 34,
     "metadata": {},
     "output_type": "execute_result"
    }
   ],
   "source": [
    "clf_l2 = LogisticRegression(penalty=\"l2\", C=100, random_state=42, max_iter=1000)\n",
    "\n",
    "np.average(cross_val_score(clf_l2, X, y, cv=10))"
   ]
  },
  {
   "cell_type": "code",
   "execution_count": 35,
   "id": "9d2b6cd7",
   "metadata": {},
   "outputs": [
    {
     "data": {
      "text/plain": [
       "0.9329147360052579"
      ]
     },
     "execution_count": 35,
     "metadata": {},
     "output_type": "execute_result"
    }
   ],
   "source": [
    "clf_l2 = LogisticRegression(penalty=\"l2\", C=80, random_state=42, max_iter=1000)\n",
    "\n",
    "np.average(cross_val_score(clf_l2, X, y, cv=10))"
   ]
  },
  {
   "cell_type": "code",
   "execution_count": null,
   "id": "06900807",
   "metadata": {},
   "outputs": [],
   "source": []
  },
  {
   "cell_type": "code",
   "execution_count": 36,
   "id": "4f93ed32",
   "metadata": {},
   "outputs": [
    {
     "data": {
      "text/plain": [
       "LogisticRegression(C=80, max_iter=1000, random_state=42)"
      ]
     },
     "execution_count": 36,
     "metadata": {},
     "output_type": "execute_result"
    }
   ],
   "source": [
    "clf_l2.fit(X_train, y_train)"
   ]
  },
  {
   "cell_type": "code",
   "execution_count": 37,
   "id": "5bff6000",
   "metadata": {},
   "outputs": [
    {
     "name": "stdout",
     "output_type": "stream",
     "text": [
      "              precision    recall  f1-score   support\n",
      "\n",
      "    stressed       0.94      0.96      0.95      7027\n",
      "  unstressed       0.93      0.90      0.92      4450\n",
      "\n",
      "    accuracy                           0.94     11477\n",
      "   macro avg       0.93      0.93      0.93     11477\n",
      "weighted avg       0.94      0.94      0.94     11477\n",
      "\n"
     ]
    }
   ],
   "source": [
    "y_pred_l2 = clf_l2.predict(X_test)\n",
    "print(classification_report(y_test, y_pred_l2))"
   ]
  },
  {
   "cell_type": "code",
   "execution_count": 38,
   "id": "e76da464",
   "metadata": {},
   "outputs": [
    {
     "name": "stdout",
     "output_type": "stream",
     "text": [
      "[[6730  297]\n",
      " [ 441 4009]]\n"
     ]
    },
    {
     "data": {
      "image/png": "[encoded data removed]",
      "text/plain": [
       "<Figure size 432x288 with 2 Axes>"
      ]
     },
     "metadata": {
      "needs_background": "light"
     },
     "output_type": "display_data"
    }
   ],
   "source": [
    "print(confusion_matrix(y_test, y_pred_l2))\n",
    "sns.heatmap(confusion_matrix(y_test, y_pred_l2))\n",
    "plt.show()"
   ]
  },
  {
   "cell_type": "code",
   "execution_count": 39,
   "id": "8b6135cc",
   "metadata": {},
   "outputs": [
    {
     "name": "stdout",
     "output_type": "stream",
     "text": [
      "['stressed']\n"
     ]
    }
   ],
   "source": [
    "detect_emotion(clf_l2, \"hurrah! today i have cracked my interview. i feel very happy after that.\")"
   ]
  },
  {
   "cell_type": "code",
   "execution_count": 40,
   "id": "aabb0d40",
   "metadata": {},
   "outputs": [
    {
     "name": "stdout",
     "output_type": "stream",
     "text": [
      "['unstressed']\n"
     ]
    }
   ],
   "source": [
    "detect_emotion(clf, \"hurrah! today i have cracked my interview. i feel very happy after that.\")"
   ]
  },
  {
   "cell_type": "markdown",
   "id": "01eb10e6",
   "metadata": {},
   "source": [
    "Accuracy increase but Prediction not perfect."
   ]
  },
  {
   "cell_type": "markdown",
   "id": "af0a6d24",
   "metadata": {},
   "source": [
    "## Using L1 Regularizations"
   ]
  },
  {
   "cell_type": "code",
   "execution_count": 41,
   "id": "a47394e1",
   "metadata": {},
   "outputs": [
    {
     "data": {
      "text/plain": [
       "0.9362786059975493"
      ]
     },
     "execution_count": 41,
     "metadata": {},
     "output_type": "execute_result"
    }
   ],
   "source": [
    "clf_l1 = LogisticRegression(penalty=\"l1\", C=20, random_state=42, max_iter=1000, solver='liblinear')\n",
    "\n",
    "np.average(cross_val_score(clf_l1, X, y, cv=10))"
   ]
  },
  {
   "cell_type": "code",
   "execution_count": 42,
   "id": "b3d753ab",
   "metadata": {},
   "outputs": [
    {
     "data": {
      "text/plain": [
       "0.9322247752130448"
      ]
     },
     "execution_count": 42,
     "metadata": {},
     "output_type": "execute_result"
    }
   ],
   "source": [
    "clf_l1 = LogisticRegression(penalty=\"l1\", C=50, random_state=42, max_iter=1000, solver='liblinear')\n",
    "\n",
    "np.average(cross_val_score(clf_l1, X, y, cv=10))"
   ]
  },
  {
   "cell_type": "code",
   "execution_count": 43,
   "id": "6703145a",
   "metadata": {},
   "outputs": [
    {
     "data": {
      "text/plain": [
       "0.9340936488413222"
      ]
     },
     "execution_count": 43,
     "metadata": {},
     "output_type": "execute_result"
    }
   ],
   "source": [
    "clf_l1 = LogisticRegression(penalty=\"l1\", C=35, random_state=42, max_iter=1000, solver='liblinear')\n",
    "\n",
    "np.average(cross_val_score(clf_l1, X, y, cv=10))"
   ]
  },
  {
   "cell_type": "code",
   "execution_count": 44,
   "id": "a2a6c1a7",
   "metadata": {},
   "outputs": [
    {
     "data": {
      "text/plain": [
       "0.9330298107848455"
      ]
     },
     "execution_count": 44,
     "metadata": {},
     "output_type": "execute_result"
    }
   ],
   "source": [
    "clf_l1 = LogisticRegression(penalty=\"l1\", C=40, random_state=42, max_iter=1000, solver='liblinear')\n",
    "\n",
    "np.average(cross_val_score(clf_l1, X, y, cv=10))"
   ]
  },
  {
   "cell_type": "code",
   "execution_count": 45,
   "id": "a4c58d93",
   "metadata": {},
   "outputs": [
    {
     "data": {
      "text/plain": [
       "LogisticRegression(C=40, max_iter=1000, penalty='l1', random_state=42,\n",
       "                   solver='liblinear')"
      ]
     },
     "execution_count": 45,
     "metadata": {},
     "output_type": "execute_result"
    }
   ],
   "source": [
    "clf_l1.fit(X_train, y_train)"
   ]
  },
  {
   "cell_type": "code",
   "execution_count": 46,
   "id": "c195311b",
   "metadata": {},
   "outputs": [
    {
     "name": "stdout",
     "output_type": "stream",
     "text": [
      "              precision    recall  f1-score   support\n",
      "\n",
      "    stressed       0.94      0.96      0.95      7027\n",
      "  unstressed       0.93      0.91      0.92      4450\n",
      "\n",
      "    accuracy                           0.94     11477\n",
      "   macro avg       0.94      0.93      0.93     11477\n",
      "weighted avg       0.94      0.94      0.94     11477\n",
      "\n"
     ]
    }
   ],
   "source": [
    "y_pred_l1 = clf_l1.predict(X_test)\n",
    "print(classification_report(y_test, y_pred_l1))"
   ]
  },
  {
   "cell_type": "code",
   "execution_count": 47,
   "id": "5bf4b1ca",
   "metadata": {},
   "outputs": [
    {
     "name": "stdout",
     "output_type": "stream",
     "text": [
      "[[6721  306]\n",
      " [ 403 4047]]\n"
     ]
    },
    {
     "data": {
      "image/png": "[encoded data removed]",
      "text/plain": [
       "<Figure size 432x288 with 2 Axes>"
      ]
     },
     "metadata": {
      "needs_background": "light"
     },
     "output_type": "display_data"
    }
   ],
   "source": [
    "print(confusion_matrix(y_test, y_pred_l1))\n",
    "sns.heatmap(confusion_matrix(y_test, y_pred_l1))\n",
    "plt.show()"
   ]
  },
  {
   "cell_type": "code",
   "execution_count": 48,
   "id": "b736c42c",
   "metadata": {},
   "outputs": [
    {
     "name": "stdout",
     "output_type": "stream",
     "text": [
      "['stressed']\n"
     ]
    }
   ],
   "source": [
    "detect_emotion(clf_l1, \"hurrah! today i have cracked my interview. i feel very happy after that.\")"
   ]
  },
  {
   "cell_type": "code",
   "execution_count": 49,
   "id": "340457e4",
   "metadata": {},
   "outputs": [
    {
     "name": "stdout",
     "output_type": "stream",
     "text": [
      "['stressed']\n"
     ]
    }
   ],
   "source": [
    "detect_emotion(clf_l2, \"hurrah! today i have cracked my interview. i feel very happy after that.\")"
   ]
  },
  {
   "cell_type": "code",
   "execution_count": 50,
   "id": "d567acac",
   "metadata": {},
   "outputs": [
    {
     "name": "stdout",
     "output_type": "stream",
     "text": [
      "['unstressed']\n"
     ]
    }
   ],
   "source": [
    "detect_emotion(clf, \"hurrah! today i have cracked my interview. i feel very happy after that.\")"
   ]
  },
  {
   "cell_type": "code",
   "execution_count": 51,
   "id": "6f74883d",
   "metadata": {},
   "outputs": [
    {
     "name": "stdout",
     "output_type": "stream",
     "text": [
      "['stressed']\n"
     ]
    }
   ],
   "source": [
    "detect_emotion(clf, \"people call me only when they need\")"
   ]
  },
  {
   "cell_type": "code",
   "execution_count": 52,
   "id": "dc67a78b",
   "metadata": {},
   "outputs": [
    {
     "name": "stdout",
     "output_type": "stream",
     "text": [
      "['stressed']\n"
     ]
    }
   ],
   "source": [
    "detect_emotion(clf_l1, \"people call me only when they need\")"
   ]
  },
  {
   "cell_type": "code",
   "execution_count": 53,
   "id": "ff2be4cb",
   "metadata": {},
   "outputs": [
    {
     "name": "stdout",
     "output_type": "stream",
     "text": [
      "['stressed']\n"
     ]
    }
   ],
   "source": [
    "detect_emotion(clf_l2, \"people call me only when they need\")"
   ]
  },
  {
   "cell_type": "markdown",
   "id": "f068643b",
   "metadata": {},
   "source": [
    "Accuracy increase but Prediction not perfect."
   ]
  },
  {
   "cell_type": "markdown",
   "id": "529e928f",
   "metadata": {},
   "source": [
    "# 2. Support Vector Machine"
   ]
  },
  {
   "cell_type": "markdown",
   "id": "be3a1c92",
   "metadata": {},
   "source": [
    "### 1. Linear Kernal\n",
    "\n",
    "Linear Kernel is used when the data is Linearly separable, that is, it can be separated using a single Line. It is mostly used when there are a Large number of Features in a particular Data Set. One of the examples where there are a lot of features, is Text Classification, as each alphabet is a new feature. So we mostly use Linear Kernel in Text Classification"
   ]
  },
  {
   "cell_type": "code",
   "execution_count": 54,
   "id": "07c282ac",
   "metadata": {},
   "outputs": [
    {
     "data": {
      "text/plain": [
       "0.9357846127036682"
      ]
     },
     "execution_count": 54,
     "metadata": {},
     "output_type": "execute_result"
    }
   ],
   "source": [
    "from sklearn import svm\n",
    "\n",
    "svc_linear = svm.SVC(kernel ='linear', C = 1)\n",
    "svc_linear.fit(X_train, y_train)\n",
    "\n",
    "y_pred = svc_linear.predict(X_test)\n",
    "\n",
    "accuracy_score(y_pred, y_test)"
   ]
  },
  {
   "cell_type": "code",
   "execution_count": 55,
   "id": "1c6db94c",
   "metadata": {},
   "outputs": [
    {
     "name": "stdout",
     "output_type": "stream",
     "text": [
      "['unstressed']\n"
     ]
    }
   ],
   "source": [
    "detect_emotion(svc_linear, \"today i got very excited after geting this offer\")"
   ]
  },
  {
   "cell_type": "code",
   "execution_count": 56,
   "id": "0abd8d36",
   "metadata": {},
   "outputs": [
    {
     "name": "stdout",
     "output_type": "stream",
     "text": [
      "['unstressed']\n"
     ]
    }
   ],
   "source": [
    "detect_emotion(svc_linear, \"hurrah! today i have cracked my interview. i feel very happy after that.\")"
   ]
  },
  {
   "cell_type": "code",
   "execution_count": 57,
   "id": "1f999820",
   "metadata": {},
   "outputs": [
    {
     "name": "stdout",
     "output_type": "stream",
     "text": [
      "['stressed']\n"
     ]
    }
   ],
   "source": [
    "detect_emotion(svc_linear, \"ohh no, we loose again. why it happen always with me\")"
   ]
  },
  {
   "cell_type": "code",
   "execution_count": 58,
   "id": "a4fc88b4",
   "metadata": {},
   "outputs": [
    {
     "name": "stdout",
     "output_type": "stream",
     "text": [
      "['stressed']\n"
     ]
    }
   ],
   "source": [
    "detect_emotion(svc_linear, \"people call me only when they need\")"
   ]
  },
  {
   "cell_type": "code",
   "execution_count": 59,
   "id": "6db0a504",
   "metadata": {},
   "outputs": [
    {
     "name": "stdout",
     "output_type": "stream",
     "text": [
      "0.00693225419405491\n"
     ]
    }
   ],
   "source": [
    "get_weight(svc_linear, \"today\")"
   ]
  },
  {
   "cell_type": "code",
   "execution_count": 60,
   "id": "efe54c80",
   "metadata": {},
   "outputs": [
    {
     "name": "stdout",
     "output_type": "stream",
     "text": [
      "              precision    recall  f1-score   support\n",
      "\n",
      "    stressed       0.94      0.96      0.95      7027\n",
      "  unstressed       0.94      0.90      0.92      4450\n",
      "\n",
      "    accuracy                           0.94     11477\n",
      "   macro avg       0.94      0.93      0.93     11477\n",
      "weighted avg       0.94      0.94      0.94     11477\n",
      "\n"
     ]
    }
   ],
   "source": [
    "print(classification_report(y_test, y_pred))"
   ]
  },
  {
   "cell_type": "code",
   "execution_count": 61,
   "id": "9e38404a",
   "metadata": {},
   "outputs": [
    {
     "name": "stdout",
     "output_type": "stream",
     "text": [
      "[[6756  271]\n",
      " [ 466 3984]]\n"
     ]
    },
    {
     "data": {
      "image/png": "[encoded data removed]",
      "text/plain": [
       "<Figure size 432x288 with 2 Axes>"
      ]
     },
     "metadata": {
      "needs_background": "light"
     },
     "output_type": "display_data"
    }
   ],
   "source": [
    "print(confusion_matrix(y_test, y_pred))\n",
    "sns.heatmap(confusion_matrix(y_test, y_pred))\n",
    "plt.show()"
   ]
  },
  {
   "cell_type": "markdown",
   "id": "42102052",
   "metadata": {},
   "source": [
    "### 2. Polynomial Kernal"
   ]
  },
  {
   "cell_type": "code",
   "execution_count": 62,
   "id": "c790ffdf",
   "metadata": {},
   "outputs": [],
   "source": [
    "# from sklearn import svm\n",
    "\n",
    "# svc_poly = svm.SVC(kernel ='poly', C = 1)\n",
    "# svc_poly.fit(X_train, y_train)\n",
    "\n",
    "# y_pred = svc_poly.predict(X_test)\n",
    "\n",
    "# accuracy_score(y_pred, y_test)"
   ]
  },
  {
   "cell_type": "code",
   "execution_count": 63,
   "id": "6af249fc",
   "metadata": {},
   "outputs": [],
   "source": [
    "# detect_emotion(svc_poly, \"today i got very excited after geting this offer\")"
   ]
  },
  {
   "cell_type": "code",
   "execution_count": null,
   "id": "1cfc7148",
   "metadata": {},
   "outputs": [],
   "source": []
  },
  {
   "cell_type": "markdown",
   "id": "2459dbd0",
   "metadata": {},
   "source": [
    "# 3. Random Forest Classifier"
   ]
  },
  {
   "cell_type": "code",
   "execution_count": 64,
   "id": "61574685",
   "metadata": {},
   "outputs": [
    {
     "name": "stdout",
     "output_type": "stream",
     "text": [
      "Accuracy : 0.6191513461706021\n"
     ]
    }
   ],
   "source": [
    "from sklearn.ensemble import RandomForestClassifier\n",
    "\n",
    "rfc1 = RandomForestClassifier(max_depth=10, random_state=18)\n",
    "\n",
    "rfc1.fit(X_train, y_train)\n",
    "y_predicted = rfc1.predict(X_test)\n",
    "print(\"Accuracy :\",accuracy_score(y_test, y_predicted))"
   ]
  },
  {
   "cell_type": "code",
   "execution_count": 65,
   "id": "62fd3977",
   "metadata": {},
   "outputs": [
    {
     "name": "stdout",
     "output_type": "stream",
     "text": [
      "Accuracy : 0.634399233249107\n"
     ]
    }
   ],
   "source": [
    "rfc2 = RandomForestClassifier(max_depth=20, random_state=25)\n",
    "\n",
    "rfc2.fit(X_train, y_train)\n",
    "y_predicted = rfc2.predict(X_test)\n",
    "print(\"Accuracy :\",accuracy_score(y_test, y_predicted))"
   ]
  },
  {
   "cell_type": "code",
   "execution_count": 66,
   "id": "51b41a49",
   "metadata": {},
   "outputs": [
    {
     "name": "stdout",
     "output_type": "stream",
     "text": [
      "Accuracy : 0.7379106038163283\n"
     ]
    }
   ],
   "source": [
    "rfc3 = RandomForestClassifier(max_depth=50, random_state=38)\n",
    "\n",
    "rfc3.fit(X_train, y_train)\n",
    "y_predicted = rfc3.predict(X_test)\n",
    "print(\"Accuracy :\",accuracy_score(y_test, y_predicted))"
   ]
  },
  {
   "cell_type": "code",
   "execution_count": 67,
   "id": "d1f0d2ca",
   "metadata": {},
   "outputs": [
    {
     "name": "stdout",
     "output_type": "stream",
     "text": [
      "Accuracy : 0.8596323080944498\n"
     ]
    }
   ],
   "source": [
    "rfc4 = RandomForestClassifier(max_depth=100, random_state=80)\n",
    "\n",
    "rfc4.fit(X_train, y_train)\n",
    "y_predicted = rfc4.predict(X_test)\n",
    "print(\"Accuracy :\",accuracy_score(y_test, y_predicted))"
   ]
  },
  {
   "cell_type": "code",
   "execution_count": 68,
   "id": "d98818be",
   "metadata": {},
   "outputs": [
    {
     "name": "stdout",
     "output_type": "stream",
     "text": [
      "Accuracy : 0.9119979088612007\n"
     ]
    }
   ],
   "source": [
    "rfc5 = RandomForestClassifier(max_depth=200, random_state=150)\n",
    "\n",
    "rfc5.fit(X_train, y_train)\n",
    "y_predicted = rfc5.predict(X_test)\n",
    "print(\"Accuracy :\",accuracy_score(y_test, y_predicted))"
   ]
  },
  {
   "cell_type": "code",
   "execution_count": 69,
   "id": "69d538e1",
   "metadata": {},
   "outputs": [
    {
     "name": "stdout",
     "output_type": "stream",
     "text": [
      "Accuracy : 0.9199268101420232\n"
     ]
    }
   ],
   "source": [
    "rfc6 = RandomForestClassifier(max_depth=300, random_state=280)\n",
    "\n",
    "rfc6.fit(X_train, y_train)\n",
    "y_predicted = rfc6.predict(X_test)\n",
    "print(\"Accuracy :\",accuracy_score(y_test, y_predicted))"
   ]
  },
  {
   "cell_type": "code",
   "execution_count": 70,
   "id": "10c7ce49",
   "metadata": {},
   "outputs": [
    {
     "name": "stdout",
     "output_type": "stream",
     "text": [
      "Accuracy : 0.9254160494902849\n"
     ]
    }
   ],
   "source": [
    "rfc7 = RandomForestClassifier(max_depth=400, random_state=320)\n",
    "\n",
    "rfc7.fit(X_train, y_train)\n",
    "y_predicted = rfc7.predict(X_test)\n",
    "print(\"Accuracy :\",accuracy_score(y_test, y_predicted))"
   ]
  },
  {
   "cell_type": "code",
   "execution_count": 71,
   "id": "b303ec1d",
   "metadata": {},
   "outputs": [
    {
     "name": "stdout",
     "output_type": "stream",
     "text": [
      "Accuracy : 0.9268972728064825\n"
     ]
    }
   ],
   "source": [
    "rfc8 = RandomForestClassifier(max_depth=800, random_state=500)\n",
    "\n",
    "rfc8.fit(X_train, y_train)\n",
    "y_predicted = rfc8.predict(X_test)\n",
    "print(\"Accuracy :\",accuracy_score(y_test, y_predicted))"
   ]
  },
  {
   "cell_type": "code",
   "execution_count": 72,
   "id": "044d19c8",
   "metadata": {},
   "outputs": [
    {
     "name": "stdout",
     "output_type": "stream",
     "text": [
      "Accuracy : 0.926723011239871\n"
     ]
    }
   ],
   "source": [
    "rfc9 = RandomForestClassifier(max_depth=500, random_state=480)\n",
    "\n",
    "rfc9.fit(X_train, y_train)\n",
    "y_predicted = rfc9.predict(X_test)\n",
    "print(\"Accuracy :\",accuracy_score(y_test, y_predicted))"
   ]
  },
  {
   "cell_type": "code",
   "execution_count": 73,
   "id": "a9137512",
   "metadata": {},
   "outputs": [
    {
     "data": {
      "text/plain": [
       "0.9160063511090627"
      ]
     },
     "execution_count": 73,
     "metadata": {},
     "output_type": "execute_result"
    }
   ],
   "source": [
    "np.average(cross_val_score(rfc8, X, y, cv=10))"
   ]
  },
  {
   "cell_type": "code",
   "execution_count": 74,
   "id": "dcba3be6",
   "metadata": {},
   "outputs": [
    {
     "name": "stdout",
     "output_type": "stream",
     "text": [
      "['unstressed']\n"
     ]
    }
   ],
   "source": [
    "detect_emotion(rfc8, \"hurrah! today i have cracked my interview. i feel very happy after that.\")"
   ]
  },
  {
   "cell_type": "code",
   "execution_count": 75,
   "id": "49d52283",
   "metadata": {},
   "outputs": [
    {
     "name": "stdout",
     "output_type": "stream",
     "text": [
      "['stressed']\n"
     ]
    }
   ],
   "source": [
    "detect_emotion(rfc8, \"people call me only when they need\")"
   ]
  },
  {
   "cell_type": "code",
   "execution_count": null,
   "id": "4d4317bc",
   "metadata": {},
   "outputs": [],
   "source": []
  },
  {
   "cell_type": "markdown",
   "id": "224758ac",
   "metadata": {},
   "source": [
    "# 4. K Nearest Neighbors"
   ]
  },
  {
   "cell_type": "code",
   "execution_count": 78,
   "id": "05a10013",
   "metadata": {},
   "outputs": [
    {
     "name": "stdout",
     "output_type": "stream",
     "text": [
      "Accuracy : 0.8455171211989195\n",
      "              precision    recall  f1-score   support\n",
      "\n",
      "    stressed       0.82      0.96      0.88      7027\n",
      "  unstressed       0.92      0.66      0.77      4450\n",
      "\n",
      "    accuracy                           0.85     11477\n",
      "   macro avg       0.87      0.81      0.83     11477\n",
      "weighted avg       0.86      0.85      0.84     11477\n",
      "\n",
      "[[6761  266]\n",
      " [1507 2943]]\n"
     ]
    },
    {
     "data": {
      "image/png": "[encoded data removed]",
      "text/plain": [
       "<Figure size 432x288 with 2 Axes>"
      ]
     },
     "metadata": {
      "needs_background": "light"
     },
     "output_type": "display_data"
    }
   ],
   "source": [
    "from sklearn.neighbors import KNeighborsClassifier\n",
    "\n",
    "neigh = KNeighborsClassifier(n_neighbors=2)\n",
    "neigh.fit(X_train, y_train)\n",
    "\n",
    "y_pred = neigh.predict(X_test)\n",
    "\n",
    "print(\"Accuracy :\",accuracy_score(y_test, y_pred))\n",
    "\n",
    "print(classification_report(y_test, y_pred))\n",
    "\n",
    "print(confusion_matrix(y_test, y_pred))\n",
    "sns.heatmap(confusion_matrix(y_test, y_pred))\n",
    "plt.show()"
   ]
  },
  {
   "cell_type": "markdown",
   "id": "4f6ec5f6",
   "metadata": {},
   "source": [
    "# 5. Naive Bayes\n",
    "\n",
    "\n",
    "1. Gaussian Naive Bayes\n",
    "2. Multinomial Naive Bayes\n",
    "3. Complement Naive Bayes\n",
    "4. Bernoulli Naive Bayes\n",
    "5. Categorical Naive Bayes\n",
    "6. Out-of-core naive Bayes model fitting\n"
   ]
  },
  {
   "cell_type": "markdown",
   "id": "1b31c391",
   "metadata": {},
   "source": [
    "### 1. Gaussian Naive Bayes"
   ]
  },
  {
   "cell_type": "code",
   "execution_count": 79,
   "id": "5a4b43ff",
   "metadata": {},
   "outputs": [
    {
     "name": "stdout",
     "output_type": "stream",
     "text": [
      "Accuracy : 0.6993987975951904\n",
      "              precision    recall  f1-score   support\n",
      "\n",
      "    stressed       0.87      0.59      0.71      7027\n",
      "  unstressed       0.57      0.87      0.69      4450\n",
      "\n",
      "    accuracy                           0.70     11477\n",
      "   macro avg       0.72      0.73      0.70     11477\n",
      "weighted avg       0.76      0.70      0.70     11477\n",
      "\n",
      "[[4174 2853]\n",
      " [ 597 3853]]\n"
     ]
    },
    {
     "data": {
      "image/png": "[encoded data removed]",
      "text/plain": [
       "<Figure size 432x288 with 2 Axes>"
      ]
     },
     "metadata": {
      "needs_background": "light"
     },
     "output_type": "display_data"
    }
   ],
   "source": [
    "from sklearn.naive_bayes import GaussianNB\n",
    "\n",
    "gnb = GaussianNB()\n",
    "gnb.fit(X_train.toarray(), y_train)\n",
    "y_predicted = gnb.predict(X_test.toarray())\n",
    "print(\"Accuracy :\",accuracy_score(y_test, y_predicted))\n",
    "\n",
    "print(classification_report(y_test, y_predicted))\n",
    "\n",
    "print(confusion_matrix(y_test, y_predicted))\n",
    "sns.heatmap(confusion_matrix(y_test, y_predicted))\n",
    "plt.show()"
   ]
  },
  {
   "cell_type": "markdown",
   "id": "0a08b626",
   "metadata": {},
   "source": [
    "### 2. Multinomial Naive Bayes\n"
   ]
  },
  {
   "cell_type": "code",
   "execution_count": 80,
   "id": "83eee1c0",
   "metadata": {},
   "outputs": [
    {
     "name": "stdout",
     "output_type": "stream",
     "text": [
      "Accuracy : 0.8790624727716302\n",
      "              precision    recall  f1-score   support\n",
      "\n",
      "    stressed       0.84      0.98      0.91      7027\n",
      "  unstressed       0.96      0.71      0.82      4450\n",
      "\n",
      "    accuracy                           0.88     11477\n",
      "   macro avg       0.90      0.85      0.86     11477\n",
      "weighted avg       0.89      0.88      0.87     11477\n",
      "\n",
      "[[6910  117]\n",
      " [1271 3179]]\n"
     ]
    },
    {
     "data": {
      "image/png": "[encoded data removed]",
      "text/plain": [
       "<Figure size 432x288 with 2 Axes>"
      ]
     },
     "metadata": {
      "needs_background": "light"
     },
     "output_type": "display_data"
    }
   ],
   "source": [
    "from sklearn.naive_bayes import MultinomialNB\n",
    "\n",
    "mnb = MultinomialNB()\n",
    "mnb.fit(X_train.toarray(), y_train)\n",
    "y_predicted = mnb.predict(X_test.toarray())\n",
    "print(\"Accuracy :\",accuracy_score(y_test, y_predicted))\n",
    "\n",
    "print(classification_report(y_test, y_predicted))\n",
    "\n",
    "print(confusion_matrix(y_test, y_predicted))\n",
    "sns.heatmap(confusion_matrix(y_test, y_predicted))\n",
    "plt.show()"
   ]
  },
  {
   "cell_type": "markdown",
   "id": "e821c34e",
   "metadata": {},
   "source": [
    "### 3. Complement Naive Bayes"
   ]
  },
  {
   "cell_type": "code",
   "execution_count": 81,
   "id": "6ce1fca0",
   "metadata": {},
   "outputs": [
    {
     "name": "stdout",
     "output_type": "stream",
     "text": [
      "Accuracy : 0.9140019168772328\n",
      "              precision    recall  f1-score   support\n",
      "\n",
      "    stressed       0.92      0.94      0.93      7027\n",
      "  unstressed       0.90      0.88      0.89      4450\n",
      "\n",
      "    accuracy                           0.91     11477\n",
      "   macro avg       0.91      0.91      0.91     11477\n",
      "weighted avg       0.91      0.91      0.91     11477\n",
      "\n",
      "[[6592  435]\n",
      " [ 552 3898]]\n"
     ]
    },
    {
     "data": {
      "image/png": "[encoded data removed]",
      "text/plain": [
       "<Figure size 432x288 with 2 Axes>"
      ]
     },
     "metadata": {
      "needs_background": "light"
     },
     "output_type": "display_data"
    }
   ],
   "source": [
    "from sklearn.naive_bayes import ComplementNB\n",
    "\n",
    "cnb = ComplementNB()\n",
    "cnb.fit(X_train, y_train)\n",
    "y_predicted = cnb.predict(X_test.toarray())\n",
    "print(\"Accuracy :\",accuracy_score(y_test, y_predicted))\n",
    "\n",
    "print(classification_report(y_test, y_predicted))\n",
    "\n",
    "print(confusion_matrix(y_test, y_predicted))\n",
    "sns.heatmap(confusion_matrix(y_test, y_predicted))\n",
    "plt.show()"
   ]
  },
  {
   "cell_type": "markdown",
   "id": "6aaddb61",
   "metadata": {},
   "source": [
    "### 4. Bernoulli Naive Bayes"
   ]
  },
  {
   "cell_type": "code",
   "execution_count": 82,
   "id": "8e4f1647",
   "metadata": {},
   "outputs": [
    {
     "name": "stdout",
     "output_type": "stream",
     "text": [
      "Accuracy : 0.9075542389126078\n",
      "              precision    recall  f1-score   support\n",
      "\n",
      "    stressed       0.90      0.95      0.93      7027\n",
      "  unstressed       0.92      0.84      0.88      4450\n",
      "\n",
      "    accuracy                           0.91     11477\n",
      "   macro avg       0.91      0.89      0.90     11477\n",
      "weighted avg       0.91      0.91      0.91     11477\n",
      "\n",
      "[[6697  330]\n",
      " [ 731 3719]]\n"
     ]
    },
    {
     "data": {
      "image/png": "[encoded data removed]",
      "text/plain": [
       "<Figure size 432x288 with 2 Axes>"
      ]
     },
     "metadata": {
      "needs_background": "light"
     },
     "output_type": "display_data"
    }
   ],
   "source": [
    "from sklearn.naive_bayes import BernoulliNB\n",
    "\n",
    "bnb = BernoulliNB()\n",
    "bnb.fit(X_train, y_train)\n",
    "y_predicted = bnb.predict(X_test)\n",
    "print(\"Accuracy :\",accuracy_score(y_test, y_predicted))\n",
    "\n",
    "print(classification_report(y_test, y_predicted))\n",
    "\n",
    "print(confusion_matrix(y_test, y_predicted))\n",
    "sns.heatmap(confusion_matrix(y_test, y_predicted))\n",
    "plt.show()"
   ]
  },
  {
   "cell_type": "markdown",
   "id": "f4fabfe0",
   "metadata": {},
   "source": [
    "### 5. Categorical Naive Bayes\n"
   ]
  },
  {
   "cell_type": "code",
   "execution_count": 83,
   "id": "941d160a",
   "metadata": {},
   "outputs": [
    {
     "ename": "IndexError",
     "evalue": "index 1 is out of bounds for axis 1 with size 1",
     "output_type": "error",
     "traceback": [
      "\u001b[0;31m---------------------------------------------------------------------------\u001b[0m",
      "\u001b[0;31mIndexError\u001b[0m                                Traceback (most recent call last)",
      "Input \u001b[0;32mIn [83]\u001b[0m, in \u001b[0;36m<cell line: 5>\u001b[0;34m()\u001b[0m\n\u001b[1;32m      3\u001b[0m ctnb \u001b[38;5;241m=\u001b[39m CategoricalNB()\n\u001b[1;32m      4\u001b[0m ctnb\u001b[38;5;241m.\u001b[39mfit(X_train\u001b[38;5;241m.\u001b[39mtoarray(), y_train)\n\u001b[0;32m----> 5\u001b[0m y_predicted \u001b[38;5;241m=\u001b[39m \u001b[43mctnb\u001b[49m\u001b[38;5;241;43m.\u001b[39;49m\u001b[43mpredict\u001b[49m\u001b[43m(\u001b[49m\u001b[43mX_test\u001b[49m\u001b[38;5;241;43m.\u001b[39;49m\u001b[43mtoarray\u001b[49m\u001b[43m(\u001b[49m\u001b[43m)\u001b[49m\u001b[43m)\u001b[49m\n\u001b[1;32m      6\u001b[0m \u001b[38;5;28mprint\u001b[39m(\u001b[38;5;124m\"\u001b[39m\u001b[38;5;124mAccuracy :\u001b[39m\u001b[38;5;124m\"\u001b[39m,accuracy_score(y_test, y_predicted))\n\u001b[1;32m      8\u001b[0m \u001b[38;5;28mprint\u001b[39m(classification_report(y_test, y_predicted))\n",
      "File \u001b[0;32m~/anaconda3/lib/python3.9/site-packages/sklearn/naive_bayes.py:83\u001b[0m, in \u001b[0;36m_BaseNB.predict\u001b[0;34m(self, X)\u001b[0m\n\u001b[1;32m     81\u001b[0m check_is_fitted(\u001b[38;5;28mself\u001b[39m)\n\u001b[1;32m     82\u001b[0m X \u001b[38;5;241m=\u001b[39m \u001b[38;5;28mself\u001b[39m\u001b[38;5;241m.\u001b[39m_check_X(X)\n\u001b[0;32m---> 83\u001b[0m jll \u001b[38;5;241m=\u001b[39m \u001b[38;5;28;43mself\u001b[39;49m\u001b[38;5;241;43m.\u001b[39;49m\u001b[43m_joint_log_likelihood\u001b[49m\u001b[43m(\u001b[49m\u001b[43mX\u001b[49m\u001b[43m)\u001b[49m\n\u001b[1;32m     84\u001b[0m \u001b[38;5;28;01mreturn\u001b[39;00m \u001b[38;5;28mself\u001b[39m\u001b[38;5;241m.\u001b[39mclasses_[np\u001b[38;5;241m.\u001b[39margmax(jll, axis\u001b[38;5;241m=\u001b[39m\u001b[38;5;241m1\u001b[39m)]\n",
      "File \u001b[0;32m~/anaconda3/lib/python3.9/site-packages/sklearn/naive_bayes.py:1461\u001b[0m, in \u001b[0;36mCategoricalNB._joint_log_likelihood\u001b[0;34m(self, X)\u001b[0m\n\u001b[1;32m   1459\u001b[0m \u001b[38;5;28;01mfor\u001b[39;00m i \u001b[38;5;129;01min\u001b[39;00m \u001b[38;5;28mrange\u001b[39m(\u001b[38;5;28mself\u001b[39m\u001b[38;5;241m.\u001b[39mn_features_in_):\n\u001b[1;32m   1460\u001b[0m     indices \u001b[38;5;241m=\u001b[39m X[:, i]\n\u001b[0;32m-> 1461\u001b[0m     jll \u001b[38;5;241m+\u001b[39m\u001b[38;5;241m=\u001b[39m \u001b[38;5;28;43mself\u001b[39;49m\u001b[38;5;241;43m.\u001b[39;49m\u001b[43mfeature_log_prob_\u001b[49m\u001b[43m[\u001b[49m\u001b[43mi\u001b[49m\u001b[43m]\u001b[49m\u001b[43m[\u001b[49m\u001b[43m:\u001b[49m\u001b[43m,\u001b[49m\u001b[43m \u001b[49m\u001b[43mindices\u001b[49m\u001b[43m]\u001b[49m\u001b[38;5;241m.\u001b[39mT\n\u001b[1;32m   1462\u001b[0m total_ll \u001b[38;5;241m=\u001b[39m jll \u001b[38;5;241m+\u001b[39m \u001b[38;5;28mself\u001b[39m\u001b[38;5;241m.\u001b[39mclass_log_prior_\n\u001b[1;32m   1463\u001b[0m \u001b[38;5;28;01mreturn\u001b[39;00m total_ll\n",
      "\u001b[0;31mIndexError\u001b[0m: index 1 is out of bounds for axis 1 with size 1"
     ]
    }
   ],
   "source": [
    "from sklearn.naive_bayes import CategoricalNB\n",
    "\n",
    "ctnb = CategoricalNB()\n",
    "ctnb.fit(X_train.toarray(), y_train)\n",
    "y_predicted = ctnb.predict(X_test.toarray())\n",
    "print(\"Accuracy :\",accuracy_score(y_test, y_predicted))\n",
    "\n",
    "print(classification_report(y_test, y_predicted))\n",
    "\n",
    "print(confusion_matrix(y_test, y_predicted))\n",
    "sns.heatmap(confusion_matrix(y_test, y_predicted))\n",
    "plt.show()"
   ]
  },
  {
   "cell_type": "code",
   "execution_count": null,
   "id": "1cb7afcc",
   "metadata": {},
   "outputs": [],
   "source": []
  },
  {
   "cell_type": "markdown",
   "id": "784e75a2",
   "metadata": {},
   "source": [
    "# Detect Mental Health"
   ]
  },
  {
   "cell_type": "code",
   "execution_count": 137,
   "id": "8f013f98",
   "metadata": {},
   "outputs": [],
   "source": [
    "import re\n",
    "from bs4 import BeautifulSoup\n",
    "import string\n",
    "import wordninja as wn\n",
    "from nltk.stem import WordNetLemmatizer\n",
    "from textblob import TextBlob\n",
    "\n",
    "def detect_mental_health(model, sentence):\n",
    "\n",
    "    # make smallercase\n",
    "    sentence = sentence.lower()\n",
    "        \n",
    "    # remove emails\n",
    "    sentence = re.sub(r\"([a-zA-Z0-9_.+-]+@[a-zA-Z0-9-]+\\.[a-zA-Z0-9-.]+$)\", '', sentence)\n",
    "\n",
    "    # remove mentions\n",
    "    sentence = re.sub(r\"@[A-Za-z0-9]+\",\"\", sentence)\n",
    "    \n",
    "    # Remove html\n",
    "    sentence = BeautifulSoup(sentence, 'lxml').get_text().strip()\n",
    "    \n",
    "    # Remove URL\n",
    "    sentence = re.sub(r'https?://\\S+|www\\.\\S+', '', sentence)\n",
    "        \n",
    "    # Removing punctutation, string.punctuation in python consists of !\"#$%&\\'()*+,-./:;<=>?@[\\\\]^_\n",
    "    sentence = sentence.translate(str.maketrans('', '', string.punctuation))\n",
    "    \n",
    "    # Remove non-alphabetic characters\n",
    "    sentence = re.sub(r'[^a-zA-Z ]', '', sentence)\n",
    "\n",
    "    # Spliting words into two meaningful word\n",
    "    sentence = ' '.join(wn.split(str(sentence)))\n",
    "\n",
    "    # Correct the sentence\n",
    "    sentence =  str(TextBlob(sentence).correct())\n",
    "\n",
    "    # Lemmatize\n",
    "    lm = WordNetLemmatizer()\n",
    "    snt = ' '.join([lm.lemmatize(i) for i in sentence.split()])\n",
    "    \n",
    "    return clf.predict(TfIdf_Vectorizer.transform([snt]))[0]"
   ]
  },
  {
   "cell_type": "code",
   "execution_count": 138,
   "id": "9ec0675c",
   "metadata": {},
   "outputs": [
    {
     "data": {
      "text/plain": [
       "'unstressed'"
      ]
     },
     "execution_count": 138,
     "metadata": {},
     "output_type": "execute_result"
    }
   ],
   "source": [
    "detect_mental_health(svc_linear, \"happybirthdayyy Helloworld World4646 http://hello.c ac@gmail.com\")"
   ]
  },
  {
   "cell_type": "code",
   "execution_count": null,
   "id": "15d3b4c3",
   "metadata": {},
   "outputs": [],
   "source": []
  }
 ],
 "metadata": {
  "kernelspec": {
   "display_name": "Python 3 (ipykernel)",
   "language": "python",
   "name": "python3"
  },
  "language_info": {
   "codemirror_mode": {
    "name": "ipython",
    "version": 3
   },
   "file_extension": ".py",
   "mimetype": "text/x-python",
   "name": "python",
   "nbconvert_exporter": "python",
   "pygments_lexer": "ipython3",
   "version": "3.9.12"
  }
 },
 "nbformat": 4,
 "nbformat_minor": 5
}
