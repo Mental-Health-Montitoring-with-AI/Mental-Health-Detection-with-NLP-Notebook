{
 "cells": [
  {
   "cell_type": "code",
   "execution_count": 1,
   "id": "64264e70",
   "metadata": {},
   "outputs": [],
   "source": [
    "import pandas as pd\n",
    "import numpy as np\n",
    "import seaborn as sns\n",
    "import matplotlib.pyplot as plt"
   ]
  },
  {
   "cell_type": "markdown",
   "id": "2f3ef29d",
   "metadata": {},
   "source": [
    "# Prepare Dataset"
   ]
  },
  {
   "cell_type": "code",
   "execution_count": 114,
   "id": "198bde91",
   "metadata": {},
   "outputs": [
    {
     "data": {
      "text/html": [
       "<div>\n",
       "<style scoped>\n",
       "    .dataframe tbody tr th:only-of-type {\n",
       "        vertical-align: middle;\n",
       "    }\n",
       "\n",
       "    .dataframe tbody tr th {\n",
       "        vertical-align: top;\n",
       "    }\n",
       "\n",
       "    .dataframe thead th {\n",
       "        text-align: right;\n",
       "    }\n",
       "</style>\n",
       "<table border=\"1\" class=\"dataframe\">\n",
       "  <thead>\n",
       "    <tr style=\"text-align: right;\">\n",
       "      <th></th>\n",
       "      <th>sentence</th>\n",
       "      <th>emotion</th>\n",
       "    </tr>\n",
       "  </thead>\n",
       "  <tbody>\n",
       "    <tr>\n",
       "      <th>0</th>\n",
       "      <td>i didnt feel humiliated</td>\n",
       "      <td>sadness</td>\n",
       "    </tr>\n",
       "    <tr>\n",
       "      <th>1</th>\n",
       "      <td>i can go from feeling so hopeless to so damned...</td>\n",
       "      <td>sadness</td>\n",
       "    </tr>\n",
       "    <tr>\n",
       "      <th>2</th>\n",
       "      <td>im grabbing a minute to post i feel greedy wrong</td>\n",
       "      <td>anger</td>\n",
       "    </tr>\n",
       "  </tbody>\n",
       "</table>\n",
       "</div>"
      ],
      "text/plain": [
       "                                            sentence  emotion\n",
       "0                            i didnt feel humiliated  sadness\n",
       "1  i can go from feeling so hopeless to so damned...  sadness\n",
       "2   im grabbing a minute to post i feel greedy wrong    anger"
      ]
     },
     "execution_count": 114,
     "metadata": {},
     "output_type": "execute_result"
    }
   ],
   "source": [
    "train_data = pd.read_csv('train.txt',names=['sentence','emotion'],header=None, sep=';')\n",
    "test_data = pd.read_csv('test.txt',names=['sentence','emotion'],header=None, sep=';')\n",
    "val_data= pd.read_csv('val.txt',names=['sentence','emotion'],header=None, sep=';')\n",
    "\n",
    "data = pd.concat([train_data,test_data, val_data])\n",
    "\n",
    "data.head(3)"
   ]
  },
  {
   "cell_type": "code",
   "execution_count": 115,
   "id": "db31c3a7",
   "metadata": {},
   "outputs": [
    {
     "data": {
      "text/plain": [
       "<AxesSubplot:xlabel='emotion', ylabel='count'>"
      ]
     },
     "execution_count": 115,
     "metadata": {},
     "output_type": "execute_result"
    },
    {
     "data": {
      "image/png": "[encoded data removed]",
      "text/plain": [
       "<Figure size 432x288 with 1 Axes>"
      ]
     },
     "metadata": {
      "needs_background": "light"
     },
     "output_type": "display_data"
    }
   ],
   "source": [
    "sns.countplot(data=data, x='emotion')"
   ]
  },
  {
   "cell_type": "code",
   "execution_count": 116,
   "id": "efae8a3a",
   "metadata": {
    "scrolled": true
   },
   "outputs": [
    {
     "data": {
      "text/plain": [
       "<AxesSubplot:xlabel='emotion', ylabel='count'>"
      ]
     },
     "execution_count": 116,
     "metadata": {},
     "output_type": "execute_result"
    },
    {
     "data": {
      "image/png": "[encoded data removed]",
      "text/plain": [
       "<Figure size 432x288 with 1 Axes>"
      ]
     },
     "metadata": {
      "needs_background": "light"
     },
     "output_type": "display_data"
    }
   ],
   "source": [
    "data1 = data.copy()\n",
    "data1['emotion']=data['emotion'].replace({'joy': 0 , 'love': 0,'surprise': 0 , 'sadness': 1, 'anger': 1, 'fear': 1})\n",
    "sns.countplot(data=data1, x='emotion')"
   ]
  },
  {
   "cell_type": "code",
   "execution_count": 117,
   "id": "4eb67003",
   "metadata": {},
   "outputs": [],
   "source": [
    "joy1 =  pd.read_csv('joy1.txt',names=['index','sentence','emotion','rate'],header=None, sep='\\t')\n",
    "joy2 =  pd.read_csv('joy2.txt',names=['index','sentence','emotion','rate'],header=None, sep='\\t')\n",
    "joy3 =  pd.read_csv('joy3.txt',names=['index','sentence','emotion','rate'],header=None, sep='\\t')\n",
    "joy4 =  pd.read_csv('joy4.txt',names=['index','sentence','emotion','rate'],header=None, sep='\\t')\n",
    "\n",
    "\n",
    "data = pd.concat([data, joy1, joy2, joy3, joy4])\n",
    "\n",
    "data.drop(columns=[\"rate\", \"index\"], inplace=True)"
   ]
  },
  {
   "cell_type": "code",
   "execution_count": 118,
   "id": "8f025d37",
   "metadata": {},
   "outputs": [
    {
     "data": {
      "text/plain": [
       "<AxesSubplot:xlabel='emotion', ylabel='count'>"
      ]
     },
     "execution_count": 118,
     "metadata": {},
     "output_type": "execute_result"
    },
    {
     "data": {
      "image/png": "[encoded data removed]",
      "text/plain": [
       "<Figure size 432x288 with 1 Axes>"
      ]
     },
     "metadata": {
      "needs_background": "light"
     },
     "output_type": "display_data"
    }
   ],
   "source": [
    "sns.countplot(data=data, x='emotion')"
   ]
  },
  {
   "cell_type": "code",
   "execution_count": 119,
   "id": "58efc8a9",
   "metadata": {},
   "outputs": [
    {
     "data": {
      "text/plain": [
       "<AxesSubplot:xlabel='emotion', ylabel='count'>"
      ]
     },
     "execution_count": 119,
     "metadata": {},
     "output_type": "execute_result"
    },
    {
     "data": {
      "image/png": "[encoded data removed]",
      "text/plain": [
       "<Figure size 432x288 with 1 Axes>"
      ]
     },
     "metadata": {
      "needs_background": "light"
     },
     "output_type": "display_data"
    }
   ],
   "source": [
    "data1 = data.copy()\n",
    "data1['emotion']=data['emotion'].replace({'joy': 0 , 'love': 0,'surprise': 0 , 'sadness': 1, 'anger': 1, 'fear': 1})\n",
    "sns.countplot(data=data1, x='emotion')"
   ]
  },
  {
   "cell_type": "code",
   "execution_count": 137,
   "id": "211eb7e7",
   "metadata": {},
   "outputs": [],
   "source": [
    "data['emotion']=data['emotion'].replace({'joy': \"un-stressed\" , 'love': \"un-stressed\",'surprise': \"un-stressed\" , 'sadness': \"stressed\", 'anger': \"stressed\", 'fear': \"stressed\"})"
   ]
  },
  {
   "cell_type": "code",
   "execution_count": 138,
   "id": "3a76d5b0",
   "metadata": {
    "scrolled": true
   },
   "outputs": [
    {
     "data": {
      "text/plain": [
       "<AxesSubplot:xlabel='emotion', ylabel='count'>"
      ]
     },
     "execution_count": 138,
     "metadata": {},
     "output_type": "execute_result"
    },
    {
     "data": {
      "image/png": "[encoded data removed]",
      "text/plain": [
       "<Figure size 432x288 with 1 Axes>"
      ]
     },
     "metadata": {
      "needs_background": "light"
     },
     "output_type": "display_data"
    }
   ],
   "source": [
    "sns.countplot(data=data, x='emotion')"
   ]
  },
  {
   "cell_type": "code",
   "execution_count": 84,
   "id": "9f0154f1",
   "metadata": {},
   "outputs": [],
   "source": [
    "# data.to_csv('mental_health.csv')"
   ]
  },
  {
   "cell_type": "markdown",
   "id": "9db5a162",
   "metadata": {},
   "source": [
    "# Data Preprocessing"
   ]
  },
  {
   "cell_type": "code",
   "execution_count": 85,
   "id": "f9babbee",
   "metadata": {},
   "outputs": [],
   "source": [
    "# !pip install text_hammer \n",
    "# import text_hammer as th"
   ]
  },
  {
   "cell_type": "code",
   "execution_count": 120,
   "id": "0d07a6b1",
   "metadata": {},
   "outputs": [],
   "source": [
    "from tqdm import tqdm\n",
    "tqdm.pandas()"
   ]
  },
  {
   "cell_type": "code",
   "execution_count": 121,
   "id": "42ac7044",
   "metadata": {},
   "outputs": [
    {
     "name": "stderr",
     "output_type": "stream",
     "text": [
      "100%|█████████████████████████████████| 21586/21586 [00:00<00:00, 480734.90it/s]\n",
      "100%|███████████████████████████████████| 21586/21586 [00:04<00:00, 5242.15it/s]\n",
      "100%|█████████████████████████████████| 21586/21586 [00:00<00:00, 226372.78it/s]\n",
      "100%|█████████████████████████████████| 21586/21586 [00:00<00:00, 194215.98it/s]\n",
      "100%|█████████████████████████████████| 21586/21586 [00:00<00:00, 123899.40it/s]\n",
      "100%|█████████████████████████████████| 21586/21586 [00:00<00:00, 178939.60it/s]\n"
     ]
    }
   ],
   "source": [
    "import re\n",
    "from bs4 import BeautifulSoup\n",
    "import string\n",
    "\n",
    "# make smallercase\n",
    "data['sentence'] = data['sentence'].str.lower()\n",
    "\n",
    "# remove mentions\n",
    "data['sentence'] = data['sentence'].progress_apply(lambda x: re.sub(r\"@[A-Za-z0-9]+\",\"\", x))\n",
    "\n",
    "# Remove html\n",
    "data['sentence'] = data['sentence'].progress_apply(lambda x: BeautifulSoup(x, 'lxml').get_text().strip())\n",
    "\n",
    "#remove non-alphabetic characters\n",
    "# review_text = re.sub(\"[]\",\" \", review_text)\n",
    "data['sentence'] = data['sentence'].progress_apply(lambda x: re.sub(r'[^a-zA-Z ]', '', x))\n",
    "\n",
    "# Remove URL\n",
    "data['sentence'] = data['sentence'].progress_apply(lambda x: re.sub(r'https?://\\S+|www\\.\\S+', '', x))\n",
    "\n",
    "# Removing punctutation, string.punctuation in python consists of !\"#$%&\\'()*+,-./:;<=>?@[\\\\]^_\n",
    "data['sentence'] = data['sentence'].progress_apply(lambda x: x.translate(str.maketrans('', '', string.punctuation)))\n",
    "\n",
    "# remove emails\n",
    "data['sentence'] = data['sentence'].progress_apply(lambda x: re.sub(r\"(^[a-zA-Z0-9_.+-]+@[a-zA-Z0-9-]+\\.[a-zA-Z0-9-.]+$)\", '', x))"
   ]
  },
  {
   "cell_type": "code",
   "execution_count": 122,
   "id": "ff053d00",
   "metadata": {},
   "outputs": [],
   "source": [
    "def decontracted(phrase):\n",
    "    \"\"\"\n",
    "    We first define a function to expand the contracted phrase into normal words\n",
    "    \"\"\"\n",
    "    # specific\n",
    "    phrase = re.sub(r\"wont\", \"will not\", phrase)\n",
    "    phrase = re.sub(r\"wouldnt\", \"would not\", phrase)\n",
    "    phrase = re.sub(r\"shouldnt\", \"should not\", phrase)\n",
    "    phrase = re.sub(r\"couldnt\", \"could not\", phrase)\n",
    "    phrase = re.sub(r\"cudnt\", \"could not\", phrase)\n",
    "    phrase = re.sub(r\"cant\", \"can not\", phrase)\n",
    "    phrase = re.sub(r\"dont\", \"do not\", phrase)\n",
    "    phrase = re.sub(r\"doesnt\", \"does not\", phrase)\n",
    "    phrase = re.sub(r\"didnt\", \"did not\", phrase)\n",
    "    phrase = re.sub(r\"wasnt\", \"was not\", phrase)\n",
    "    phrase = re.sub(r\"werent\", \"were not\", phrase)\n",
    "    phrase = re.sub(r\"havent\", \"have not\", phrase)\n",
    "    phrase = re.sub(r\"hadnt\", \"had not\", phrase)\n",
    "\n",
    "    # general\n",
    "    phrase = re.sub(r\"n\\ t\", \" not\", phrase)\n",
    "    #phrase = re.sub(r\"\\re\", \" are\", phrase)\n",
    "    phrase = re.sub(r\"\\ s \", \" is \", phrase) # prime \n",
    "    phrase = re.sub(r\"\\ d \", \" would \", phrase)\n",
    "    phrase = re.sub(r\"\\ ll \", \" will \", phrase)\n",
    "    phrase = re.sub(r\"\\dunno\", \"do not \", phrase)\n",
    "    phrase = re.sub(r\"ive \", \"i have \", phrase)\n",
    "    phrase = re.sub(r\"im \", \"i am \", phrase)\n",
    "    phrase = re.sub(r\"i m \", \"i am \", phrase)\n",
    "    phrase = re.sub(r\" w \", \" with \", phrase)\n",
    "    \n",
    "    return phrase"
   ]
  },
  {
   "cell_type": "code",
   "execution_count": 123,
   "id": "ef5c8333",
   "metadata": {},
   "outputs": [
    {
     "name": "stderr",
     "output_type": "stream",
     "text": [
      "100%|██████████████████████████████████| 21586/21586 [00:00<00:00, 30569.43it/s]\n"
     ]
    }
   ],
   "source": [
    "data['sentence'] = data['sentence'].progress_apply(lambda x: decontracted(x))"
   ]
  },
  {
   "cell_type": "code",
   "execution_count": 124,
   "id": "5fe33448",
   "metadata": {},
   "outputs": [
    {
     "data": {
      "text/html": [
       "<div>\n",
       "<style scoped>\n",
       "    .dataframe tbody tr th:only-of-type {\n",
       "        vertical-align: middle;\n",
       "    }\n",
       "\n",
       "    .dataframe tbody tr th {\n",
       "        vertical-align: top;\n",
       "    }\n",
       "\n",
       "    .dataframe thead th {\n",
       "        text-align: right;\n",
       "    }\n",
       "</style>\n",
       "<table border=\"1\" class=\"dataframe\">\n",
       "  <thead>\n",
       "    <tr style=\"text-align: right;\">\n",
       "      <th></th>\n",
       "      <th>sentence</th>\n",
       "      <th>emotion</th>\n",
       "    </tr>\n",
       "  </thead>\n",
       "  <tbody>\n",
       "    <tr>\n",
       "      <th>0</th>\n",
       "      <td>i did not feel humiliated</td>\n",
       "      <td>sadness</td>\n",
       "    </tr>\n",
       "    <tr>\n",
       "      <th>1</th>\n",
       "      <td>i can go from feeling so hopeless to so damned...</td>\n",
       "      <td>sadness</td>\n",
       "    </tr>\n",
       "    <tr>\n",
       "      <th>2</th>\n",
       "      <td>i am grabbing a minute to post i feel greedy w...</td>\n",
       "      <td>anger</td>\n",
       "    </tr>\n",
       "  </tbody>\n",
       "</table>\n",
       "</div>"
      ],
      "text/plain": [
       "                                            sentence  emotion\n",
       "0                          i did not feel humiliated  sadness\n",
       "1  i can go from feeling so hopeless to so damned...  sadness\n",
       "2  i am grabbing a minute to post i feel greedy w...    anger"
      ]
     },
     "execution_count": 124,
     "metadata": {},
     "output_type": "execute_result"
    }
   ],
   "source": [
    "data.head(3)"
   ]
  },
  {
   "cell_type": "markdown",
   "id": "6aaea464",
   "metadata": {},
   "source": [
    "## Stop Words Removal\n",
    "\n",
    "Words that frequently occur in sentences and carry no significant meaning in sentences. These are not important for prediction, so we remove stopwords to reduce data size and prevent overfitting."
   ]
  },
  {
   "cell_type": "code",
   "execution_count": 125,
   "id": "492bede6",
   "metadata": {},
   "outputs": [
    {
     "name": "stderr",
     "output_type": "stream",
     "text": [
      "100%|██████████████████████████████████| 21586/21586 [00:00<00:00, 29538.87it/s]\n"
     ]
    },
    {
     "data": {
      "text/html": [
       "<div>\n",
       "<style scoped>\n",
       "    .dataframe tbody tr th:only-of-type {\n",
       "        vertical-align: middle;\n",
       "    }\n",
       "\n",
       "    .dataframe tbody tr th {\n",
       "        vertical-align: top;\n",
       "    }\n",
       "\n",
       "    .dataframe thead th {\n",
       "        text-align: right;\n",
       "    }\n",
       "</style>\n",
       "<table border=\"1\" class=\"dataframe\">\n",
       "  <thead>\n",
       "    <tr style=\"text-align: right;\">\n",
       "      <th></th>\n",
       "      <th>sentence</th>\n",
       "      <th>emotion</th>\n",
       "    </tr>\n",
       "  </thead>\n",
       "  <tbody>\n",
       "    <tr>\n",
       "      <th>0</th>\n",
       "      <td>not feel humiliated</td>\n",
       "      <td>sadness</td>\n",
       "    </tr>\n",
       "    <tr>\n",
       "      <th>1</th>\n",
       "      <td>go feeling hopeless damned hopeful around some...</td>\n",
       "      <td>sadness</td>\n",
       "    </tr>\n",
       "    <tr>\n",
       "      <th>2</th>\n",
       "      <td>grabbing minute post feel greedy wrong</td>\n",
       "      <td>anger</td>\n",
       "    </tr>\n",
       "    <tr>\n",
       "      <th>3</th>\n",
       "      <td>ever feeling nostalgic fireplace know still no...</td>\n",
       "      <td>love</td>\n",
       "    </tr>\n",
       "    <tr>\n",
       "      <th>4</th>\n",
       "      <td>feeling grouchy</td>\n",
       "      <td>anger</td>\n",
       "    </tr>\n",
       "    <tr>\n",
       "      <th>...</th>\n",
       "      <td>...</td>\n",
       "      <td>...</td>\n",
       "    </tr>\n",
       "    <tr>\n",
       "      <th>709</th>\n",
       "      <td>tired body mind sparkling teeth say followers ...</td>\n",
       "      <td>joy</td>\n",
       "    </tr>\n",
       "    <tr>\n",
       "      <th>710</th>\n",
       "      <td>refuse chirp chirp girl</td>\n",
       "      <td>joy</td>\n",
       "    </tr>\n",
       "    <tr>\n",
       "      <th>711</th>\n",
       "      <td>hard stifle laughter overheard comment really ...</td>\n",
       "      <td>joy</td>\n",
       "    </tr>\n",
       "    <tr>\n",
       "      <th>712</th>\n",
       "      <td>walking little boy red shirt years age shoutin...</td>\n",
       "      <td>joy</td>\n",
       "    </tr>\n",
       "    <tr>\n",
       "      <th>713</th>\n",
       "      <td>asked one thing guys tonight got happy proud d...</td>\n",
       "      <td>joy</td>\n",
       "    </tr>\n",
       "  </tbody>\n",
       "</table>\n",
       "<p>21586 rows × 2 columns</p>\n",
       "</div>"
      ],
      "text/plain": [
       "                                              sentence  emotion\n",
       "0                                  not feel humiliated  sadness\n",
       "1    go feeling hopeless damned hopeful around some...  sadness\n",
       "2               grabbing minute post feel greedy wrong    anger\n",
       "3    ever feeling nostalgic fireplace know still no...     love\n",
       "4                                      feeling grouchy    anger\n",
       "..                                                 ...      ...\n",
       "709  tired body mind sparkling teeth say followers ...      joy\n",
       "710                            refuse chirp chirp girl      joy\n",
       "711  hard stifle laughter overheard comment really ...      joy\n",
       "712  walking little boy red shirt years age shoutin...      joy\n",
       "713  asked one thing guys tonight got happy proud d...      joy\n",
       "\n",
       "[21586 rows x 2 columns]"
      ]
     },
     "execution_count": 125,
     "metadata": {},
     "output_type": "execute_result"
    }
   ],
   "source": [
    "import nltk \n",
    "# nltk.download('stopwords') \n",
    "from nltk.corpus import stopwords\n",
    "allstopwords = stopwords.words('english')\n",
    "allstopwords.remove('not')\n",
    "allstopwords.remove('nor')\n",
    "allstopwords.remove('no')\n",
    "\n",
    "data['sentence'] = data.sentence.progress_apply(lambda x: \" \".join(i for i in x.split() if i not in allstopwords))\n",
    "data"
   ]
  },
  {
   "cell_type": "markdown",
   "id": "d18d5460",
   "metadata": {},
   "source": [
    "## Correct sentences"
   ]
  },
  {
   "cell_type": "code",
   "execution_count": 126,
   "id": "2f53058a",
   "metadata": {},
   "outputs": [
    {
     "name": "stderr",
     "output_type": "stream",
     "text": [
      "100%|███████████████████████████████████| 21586/21586 [1:01:04<00:00,  5.89it/s]\n"
     ]
    },
    {
     "data": {
      "text/html": [
       "<div>\n",
       "<style scoped>\n",
       "    .dataframe tbody tr th:only-of-type {\n",
       "        vertical-align: middle;\n",
       "    }\n",
       "\n",
       "    .dataframe tbody tr th {\n",
       "        vertical-align: top;\n",
       "    }\n",
       "\n",
       "    .dataframe thead th {\n",
       "        text-align: right;\n",
       "    }\n",
       "</style>\n",
       "<table border=\"1\" class=\"dataframe\">\n",
       "  <thead>\n",
       "    <tr style=\"text-align: right;\">\n",
       "      <th></th>\n",
       "      <th>sentence</th>\n",
       "      <th>emotion</th>\n",
       "    </tr>\n",
       "  </thead>\n",
       "  <tbody>\n",
       "    <tr>\n",
       "      <th>0</th>\n",
       "      <td>not feel humiliated</td>\n",
       "      <td>sadness</td>\n",
       "    </tr>\n",
       "    <tr>\n",
       "      <th>1</th>\n",
       "      <td>go feeling hopeless damned hopeful around some...</td>\n",
       "      <td>sadness</td>\n",
       "    </tr>\n",
       "    <tr>\n",
       "      <th>2</th>\n",
       "      <td>grafting minute post feel greedy wrong</td>\n",
       "      <td>anger</td>\n",
       "    </tr>\n",
       "    <tr>\n",
       "      <th>3</th>\n",
       "      <td>ever feeling nostalgic fireplace know still no...</td>\n",
       "      <td>love</td>\n",
       "    </tr>\n",
       "    <tr>\n",
       "      <th>4</th>\n",
       "      <td>feeling crouch</td>\n",
       "      <td>anger</td>\n",
       "    </tr>\n",
       "    <tr>\n",
       "      <th>...</th>\n",
       "      <td>...</td>\n",
       "      <td>...</td>\n",
       "    </tr>\n",
       "    <tr>\n",
       "      <th>709</th>\n",
       "      <td>tired body mind sparkling teeth say followers ...</td>\n",
       "      <td>joy</td>\n",
       "    </tr>\n",
       "    <tr>\n",
       "      <th>710</th>\n",
       "      <td>refuse chip chip girl</td>\n",
       "      <td>joy</td>\n",
       "    </tr>\n",
       "    <tr>\n",
       "      <th>711</th>\n",
       "      <td>hard stifle laughter overheard comment really ...</td>\n",
       "      <td>joy</td>\n",
       "    </tr>\n",
       "    <tr>\n",
       "      <th>712</th>\n",
       "      <td>walking little boy red shirt years age shoutin...</td>\n",
       "      <td>joy</td>\n",
       "    </tr>\n",
       "    <tr>\n",
       "      <th>713</th>\n",
       "      <td>asked one thing guns tonight got happy proud d...</td>\n",
       "      <td>joy</td>\n",
       "    </tr>\n",
       "  </tbody>\n",
       "</table>\n",
       "<p>21586 rows × 2 columns</p>\n",
       "</div>"
      ],
      "text/plain": [
       "                                              sentence  emotion\n",
       "0                                  not feel humiliated  sadness\n",
       "1    go feeling hopeless damned hopeful around some...  sadness\n",
       "2               grafting minute post feel greedy wrong    anger\n",
       "3    ever feeling nostalgic fireplace know still no...     love\n",
       "4                                       feeling crouch    anger\n",
       "..                                                 ...      ...\n",
       "709  tired body mind sparkling teeth say followers ...      joy\n",
       "710                              refuse chip chip girl      joy\n",
       "711  hard stifle laughter overheard comment really ...      joy\n",
       "712  walking little boy red shirt years age shoutin...      joy\n",
       "713  asked one thing guns tonight got happy proud d...      joy\n",
       "\n",
       "[21586 rows x 2 columns]"
      ]
     },
     "execution_count": 126,
     "metadata": {},
     "output_type": "execute_result"
    }
   ],
   "source": [
    "from textblob import TextBlob\n",
    "\n",
    "data['sentence'] = data.sentence.progress_apply(lambda x: str(TextBlob(x).correct()))\n",
    "data"
   ]
  },
  {
   "cell_type": "code",
   "execution_count": 117,
   "id": "20ebf88a",
   "metadata": {},
   "outputs": [],
   "source": [
    "data.to_csv(\"cleaned_data.csv\", index=False)  # Save Dataset"
   ]
  },
  {
   "cell_type": "markdown",
   "id": "911130fb",
   "metadata": {},
   "source": [
    "# Text Preprocessing"
   ]
  },
  {
   "cell_type": "code",
   "execution_count": 2,
   "id": "c1c69919",
   "metadata": {},
   "outputs": [],
   "source": [
    "data = pd.read_csv(\"cleaned_data.csv\")"
   ]
  },
  {
   "cell_type": "code",
   "execution_count": 3,
   "id": "874a9a57",
   "metadata": {},
   "outputs": [
    {
     "data": {
      "text/html": [
       "<div>\n",
       "<style scoped>\n",
       "    .dataframe tbody tr th:only-of-type {\n",
       "        vertical-align: middle;\n",
       "    }\n",
       "\n",
       "    .dataframe tbody tr th {\n",
       "        vertical-align: top;\n",
       "    }\n",
       "\n",
       "    .dataframe thead th {\n",
       "        text-align: right;\n",
       "    }\n",
       "</style>\n",
       "<table border=\"1\" class=\"dataframe\">\n",
       "  <thead>\n",
       "    <tr style=\"text-align: right;\">\n",
       "      <th></th>\n",
       "      <th>sentence</th>\n",
       "      <th>emotion</th>\n",
       "    </tr>\n",
       "  </thead>\n",
       "  <tbody>\n",
       "    <tr>\n",
       "      <th>0</th>\n",
       "      <td>not feel humiliated</td>\n",
       "      <td>1</td>\n",
       "    </tr>\n",
       "    <tr>\n",
       "      <th>1</th>\n",
       "      <td>go feeling hopeless damned hopeful around some...</td>\n",
       "      <td>1</td>\n",
       "    </tr>\n",
       "    <tr>\n",
       "      <th>2</th>\n",
       "      <td>grafting minute post feel greedy wrong</td>\n",
       "      <td>1</td>\n",
       "    </tr>\n",
       "    <tr>\n",
       "      <th>3</th>\n",
       "      <td>ever feeling nostalgic fireplace know still no...</td>\n",
       "      <td>0</td>\n",
       "    </tr>\n",
       "    <tr>\n",
       "      <th>4</th>\n",
       "      <td>feeling crouch</td>\n",
       "      <td>1</td>\n",
       "    </tr>\n",
       "    <tr>\n",
       "      <th>...</th>\n",
       "      <td>...</td>\n",
       "      <td>...</td>\n",
       "    </tr>\n",
       "    <tr>\n",
       "      <th>27096</th>\n",
       "      <td>thank much home stunned happy not think sunk y...</td>\n",
       "      <td>1</td>\n",
       "    </tr>\n",
       "    <tr>\n",
       "      <th>27097</th>\n",
       "      <td>put winter due</td>\n",
       "      <td>1</td>\n",
       "    </tr>\n",
       "    <tr>\n",
       "      <th>27098</th>\n",
       "      <td>that pretty love sky note background purple hi...</td>\n",
       "      <td>1</td>\n",
       "    </tr>\n",
       "    <tr>\n",
       "      <th>27099</th>\n",
       "      <td>second artist announcement looking good bluesf...</td>\n",
       "      <td>1</td>\n",
       "    </tr>\n",
       "    <tr>\n",
       "      <th>27100</th>\n",
       "      <td>literally eat creamy pest past topped drilled ...</td>\n",
       "      <td>1</td>\n",
       "    </tr>\n",
       "  </tbody>\n",
       "</table>\n",
       "<p>27101 rows × 2 columns</p>\n",
       "</div>"
      ],
      "text/plain": [
       "                                                sentence  emotion\n",
       "0                                    not feel humiliated        1\n",
       "1      go feeling hopeless damned hopeful around some...        1\n",
       "2                 grafting minute post feel greedy wrong        1\n",
       "3      ever feeling nostalgic fireplace know still no...        0\n",
       "4                                         feeling crouch        1\n",
       "...                                                  ...      ...\n",
       "27096  thank much home stunned happy not think sunk y...        1\n",
       "27097                                     put winter due        1\n",
       "27098  that pretty love sky note background purple hi...        1\n",
       "27099  second artist announcement looking good bluesf...        1\n",
       "27100  literally eat creamy pest past topped drilled ...        1\n",
       "\n",
       "[27101 rows x 2 columns]"
      ]
     },
     "execution_count": 3,
     "metadata": {},
     "output_type": "execute_result"
    }
   ],
   "source": [
    "data"
   ]
  },
  {
   "cell_type": "markdown",
   "id": "e60c7cb4",
   "metadata": {},
   "source": [
    "## Tokenization\n",
    "\n",
    "Tokenization means splitting text into meaningful unit words"
   ]
  },
  {
   "cell_type": "code",
   "execution_count": 127,
   "id": "2228934e",
   "metadata": {},
   "outputs": [],
   "source": [
    "from tqdm import tqdm\n",
    "tqdm.pandas()"
   ]
  },
  {
   "cell_type": "code",
   "execution_count": 128,
   "id": "50d7e7d2",
   "metadata": {
    "scrolled": true
   },
   "outputs": [
    {
     "name": "stderr",
     "output_type": "stream",
     "text": [
      "100%|███████████████████████████████████| 21586/21586 [00:04<00:00, 5292.08it/s]\n"
     ]
    },
    {
     "data": {
      "text/html": [
       "<div>\n",
       "<style scoped>\n",
       "    .dataframe tbody tr th:only-of-type {\n",
       "        vertical-align: middle;\n",
       "    }\n",
       "\n",
       "    .dataframe tbody tr th {\n",
       "        vertical-align: top;\n",
       "    }\n",
       "\n",
       "    .dataframe thead th {\n",
       "        text-align: right;\n",
       "    }\n",
       "</style>\n",
       "<table border=\"1\" class=\"dataframe\">\n",
       "  <thead>\n",
       "    <tr style=\"text-align: right;\">\n",
       "      <th></th>\n",
       "      <th>sentence</th>\n",
       "      <th>emotion</th>\n",
       "      <th>tokens</th>\n",
       "    </tr>\n",
       "  </thead>\n",
       "  <tbody>\n",
       "    <tr>\n",
       "      <th>0</th>\n",
       "      <td>not feel humiliated</td>\n",
       "      <td>sadness</td>\n",
       "      <td>[not, feel, humiliated]</td>\n",
       "    </tr>\n",
       "    <tr>\n",
       "      <th>1</th>\n",
       "      <td>go feeling hopeless damned hopeful around some...</td>\n",
       "      <td>sadness</td>\n",
       "      <td>[go, feeling, hopeless, damned, hopeful, aroun...</td>\n",
       "    </tr>\n",
       "    <tr>\n",
       "      <th>2</th>\n",
       "      <td>grafting minute post feel greedy wrong</td>\n",
       "      <td>anger</td>\n",
       "      <td>[grafting, minute, post, feel, greedy, wrong]</td>\n",
       "    </tr>\n",
       "    <tr>\n",
       "      <th>3</th>\n",
       "      <td>ever feeling nostalgic fireplace know still no...</td>\n",
       "      <td>love</td>\n",
       "      <td>[ever, feeling, nostalgic, fireplace, know, st...</td>\n",
       "    </tr>\n",
       "    <tr>\n",
       "      <th>4</th>\n",
       "      <td>feeling crouch</td>\n",
       "      <td>anger</td>\n",
       "      <td>[feeling, crouch]</td>\n",
       "    </tr>\n",
       "    <tr>\n",
       "      <th>...</th>\n",
       "      <td>...</td>\n",
       "      <td>...</td>\n",
       "      <td>...</td>\n",
       "    </tr>\n",
       "    <tr>\n",
       "      <th>709</th>\n",
       "      <td>tired body mind sparkling teeth say followers ...</td>\n",
       "      <td>joy</td>\n",
       "      <td>[tired, body, mind, sparkling, teeth, say, fol...</td>\n",
       "    </tr>\n",
       "    <tr>\n",
       "      <th>710</th>\n",
       "      <td>refuse chip chip girl</td>\n",
       "      <td>joy</td>\n",
       "      <td>[refuse, chip, chip, girl]</td>\n",
       "    </tr>\n",
       "    <tr>\n",
       "      <th>711</th>\n",
       "      <td>hard stifle laughter overheard comment really ...</td>\n",
       "      <td>joy</td>\n",
       "      <td>[hard, stifle, laughter, overheard, comment, r...</td>\n",
       "    </tr>\n",
       "    <tr>\n",
       "      <th>712</th>\n",
       "      <td>walking little boy red shirt years age shoutin...</td>\n",
       "      <td>joy</td>\n",
       "      <td>[walking, little, boy, red, shirt, years, age,...</td>\n",
       "    </tr>\n",
       "    <tr>\n",
       "      <th>713</th>\n",
       "      <td>asked one thing guns tonight got happy proud d...</td>\n",
       "      <td>joy</td>\n",
       "      <td>[asked, one, thing, guns, tonight, got, happy,...</td>\n",
       "    </tr>\n",
       "  </tbody>\n",
       "</table>\n",
       "<p>21586 rows × 3 columns</p>\n",
       "</div>"
      ],
      "text/plain": [
       "                                              sentence  emotion  \\\n",
       "0                                  not feel humiliated  sadness   \n",
       "1    go feeling hopeless damned hopeful around some...  sadness   \n",
       "2               grafting minute post feel greedy wrong    anger   \n",
       "3    ever feeling nostalgic fireplace know still no...     love   \n",
       "4                                       feeling crouch    anger   \n",
       "..                                                 ...      ...   \n",
       "709  tired body mind sparkling teeth say followers ...      joy   \n",
       "710                              refuse chip chip girl      joy   \n",
       "711  hard stifle laughter overheard comment really ...      joy   \n",
       "712  walking little boy red shirt years age shoutin...      joy   \n",
       "713  asked one thing guns tonight got happy proud d...      joy   \n",
       "\n",
       "                                                tokens  \n",
       "0                              [not, feel, humiliated]  \n",
       "1    [go, feeling, hopeless, damned, hopeful, aroun...  \n",
       "2        [grafting, minute, post, feel, greedy, wrong]  \n",
       "3    [ever, feeling, nostalgic, fireplace, know, st...  \n",
       "4                                    [feeling, crouch]  \n",
       "..                                                 ...  \n",
       "709  [tired, body, mind, sparkling, teeth, say, fol...  \n",
       "710                         [refuse, chip, chip, girl]  \n",
       "711  [hard, stifle, laughter, overheard, comment, r...  \n",
       "712  [walking, little, boy, red, shirt, years, age,...  \n",
       "713  [asked, one, thing, guns, tonight, got, happy,...  \n",
       "\n",
       "[21586 rows x 3 columns]"
      ]
     },
     "execution_count": 128,
     "metadata": {},
     "output_type": "execute_result"
    }
   ],
   "source": [
    "import nltk\n",
    "# nltk.download('punkt')\n",
    "\n",
    "data['tokens'] = data.sentence.progress_apply(lambda x: nltk.word_tokenize(x))\n",
    "data"
   ]
  },
  {
   "cell_type": "markdown",
   "id": "6c8763d1",
   "metadata": {},
   "source": [
    "## Stemming\n",
    "\n",
    "Stemming is converting words into their root word.\n",
    "\n",
    "    “fish,” “fishes,” and “fishing” are stemmed into “fish”.\n",
    "    “playing”, “played”,” plays” are stemmed into “play”.\n",
    "\n",
    "Stemming helps to reduce the vocabulary hence improving the accuracy."
   ]
  },
  {
   "cell_type": "code",
   "execution_count": 129,
   "id": "c090237a",
   "metadata": {},
   "outputs": [
    {
     "name": "stderr",
     "output_type": "stream",
     "text": [
      "100%|███████████████████████████████████| 21586/21586 [00:06<00:00, 3144.09it/s]\n"
     ]
    },
    {
     "data": {
      "text/html": [
       "<div>\n",
       "<style scoped>\n",
       "    .dataframe tbody tr th:only-of-type {\n",
       "        vertical-align: middle;\n",
       "    }\n",
       "\n",
       "    .dataframe tbody tr th {\n",
       "        vertical-align: top;\n",
       "    }\n",
       "\n",
       "    .dataframe thead th {\n",
       "        text-align: right;\n",
       "    }\n",
       "</style>\n",
       "<table border=\"1\" class=\"dataframe\">\n",
       "  <thead>\n",
       "    <tr style=\"text-align: right;\">\n",
       "      <th></th>\n",
       "      <th>sentence</th>\n",
       "      <th>emotion</th>\n",
       "      <th>tokens</th>\n",
       "      <th>Stemming</th>\n",
       "    </tr>\n",
       "  </thead>\n",
       "  <tbody>\n",
       "    <tr>\n",
       "      <th>0</th>\n",
       "      <td>not feel humiliated</td>\n",
       "      <td>sadness</td>\n",
       "      <td>[not, feel, humiliated]</td>\n",
       "      <td>[not, feel, humili]</td>\n",
       "    </tr>\n",
       "    <tr>\n",
       "      <th>1</th>\n",
       "      <td>go feeling hopeless damned hopeful around some...</td>\n",
       "      <td>sadness</td>\n",
       "      <td>[go, feeling, hopeless, damned, hopeful, aroun...</td>\n",
       "      <td>[go, feel, hopeless, damn, hope, around, someo...</td>\n",
       "    </tr>\n",
       "    <tr>\n",
       "      <th>2</th>\n",
       "      <td>grafting minute post feel greedy wrong</td>\n",
       "      <td>anger</td>\n",
       "      <td>[grafting, minute, post, feel, greedy, wrong]</td>\n",
       "      <td>[graft, minut, post, feel, greedi, wrong]</td>\n",
       "    </tr>\n",
       "    <tr>\n",
       "      <th>3</th>\n",
       "      <td>ever feeling nostalgic fireplace know still no...</td>\n",
       "      <td>love</td>\n",
       "      <td>[ever, feeling, nostalgic, fireplace, know, st...</td>\n",
       "      <td>[ever, feel, nostalg, fireplac, know, still, n...</td>\n",
       "    </tr>\n",
       "    <tr>\n",
       "      <th>4</th>\n",
       "      <td>feeling crouch</td>\n",
       "      <td>anger</td>\n",
       "      <td>[feeling, crouch]</td>\n",
       "      <td>[feel, crouch]</td>\n",
       "    </tr>\n",
       "    <tr>\n",
       "      <th>...</th>\n",
       "      <td>...</td>\n",
       "      <td>...</td>\n",
       "      <td>...</td>\n",
       "      <td>...</td>\n",
       "    </tr>\n",
       "    <tr>\n",
       "      <th>709</th>\n",
       "      <td>tired body mind sparkling teeth say followers ...</td>\n",
       "      <td>joy</td>\n",
       "      <td>[tired, body, mind, sparkling, teeth, say, fol...</td>\n",
       "      <td>[tire, bodi, mind, sparkl, teeth, say, follow,...</td>\n",
       "    </tr>\n",
       "    <tr>\n",
       "      <th>710</th>\n",
       "      <td>refuse chip chip girl</td>\n",
       "      <td>joy</td>\n",
       "      <td>[refuse, chip, chip, girl]</td>\n",
       "      <td>[refus, chip, chip, girl]</td>\n",
       "    </tr>\n",
       "    <tr>\n",
       "      <th>711</th>\n",
       "      <td>hard stifle laughter overheard comment really ...</td>\n",
       "      <td>joy</td>\n",
       "      <td>[hard, stifle, laughter, overheard, comment, r...</td>\n",
       "      <td>[hard, stifl, laughter, overheard, comment, re...</td>\n",
       "    </tr>\n",
       "    <tr>\n",
       "      <th>712</th>\n",
       "      <td>walking little boy red shirt years age shoutin...</td>\n",
       "      <td>joy</td>\n",
       "      <td>[walking, little, boy, red, shirt, years, age,...</td>\n",
       "      <td>[walk, littl, boy, red, shirt, year, age, shou...</td>\n",
       "    </tr>\n",
       "    <tr>\n",
       "      <th>713</th>\n",
       "      <td>asked one thing guns tonight got happy proud d...</td>\n",
       "      <td>joy</td>\n",
       "      <td>[asked, one, thing, guns, tonight, got, happy,...</td>\n",
       "      <td>[ask, one, thing, gun, tonight, got, happi, pr...</td>\n",
       "    </tr>\n",
       "  </tbody>\n",
       "</table>\n",
       "<p>21586 rows × 4 columns</p>\n",
       "</div>"
      ],
      "text/plain": [
       "                                              sentence  emotion  \\\n",
       "0                                  not feel humiliated  sadness   \n",
       "1    go feeling hopeless damned hopeful around some...  sadness   \n",
       "2               grafting minute post feel greedy wrong    anger   \n",
       "3    ever feeling nostalgic fireplace know still no...     love   \n",
       "4                                       feeling crouch    anger   \n",
       "..                                                 ...      ...   \n",
       "709  tired body mind sparkling teeth say followers ...      joy   \n",
       "710                              refuse chip chip girl      joy   \n",
       "711  hard stifle laughter overheard comment really ...      joy   \n",
       "712  walking little boy red shirt years age shoutin...      joy   \n",
       "713  asked one thing guns tonight got happy proud d...      joy   \n",
       "\n",
       "                                                tokens  \\\n",
       "0                              [not, feel, humiliated]   \n",
       "1    [go, feeling, hopeless, damned, hopeful, aroun...   \n",
       "2        [grafting, minute, post, feel, greedy, wrong]   \n",
       "3    [ever, feeling, nostalgic, fireplace, know, st...   \n",
       "4                                    [feeling, crouch]   \n",
       "..                                                 ...   \n",
       "709  [tired, body, mind, sparkling, teeth, say, fol...   \n",
       "710                         [refuse, chip, chip, girl]   \n",
       "711  [hard, stifle, laughter, overheard, comment, r...   \n",
       "712  [walking, little, boy, red, shirt, years, age,...   \n",
       "713  [asked, one, thing, guns, tonight, got, happy,...   \n",
       "\n",
       "                                              Stemming  \n",
       "0                                  [not, feel, humili]  \n",
       "1    [go, feel, hopeless, damn, hope, around, someo...  \n",
       "2            [graft, minut, post, feel, greedi, wrong]  \n",
       "3    [ever, feel, nostalg, fireplac, know, still, n...  \n",
       "4                                       [feel, crouch]  \n",
       "..                                                 ...  \n",
       "709  [tire, bodi, mind, sparkl, teeth, say, follow,...  \n",
       "710                          [refus, chip, chip, girl]  \n",
       "711  [hard, stifl, laughter, overheard, comment, re...  \n",
       "712  [walk, littl, boy, red, shirt, year, age, shou...  \n",
       "713  [ask, one, thing, gun, tonight, got, happi, pr...  \n",
       "\n",
       "[21586 rows x 4 columns]"
      ]
     },
     "execution_count": 129,
     "metadata": {},
     "output_type": "execute_result"
    }
   ],
   "source": [
    "from nltk.stem import PorterStemmer\n",
    "st = PorterStemmer()\n",
    "\n",
    "data['Stemming'] = data.tokens.progress_apply(lambda x: [st.stem(word) for word in x])\n",
    "data"
   ]
  },
  {
   "cell_type": "markdown",
   "id": "b80cf7c9",
   "metadata": {},
   "source": [
    "## Lemmatization\n",
    "\n",
    "Lemmatization is converting words into their root word using vocabulary mapping. Lemmatization is done with the help of part of speech and its meaning.\n",
    "\n",
    "    “good,” “better,” or “best” is lemmatized into “good“.\n",
    "\n",
    "Lemmatization will convert all synonyms into a single root word.\n",
    "\n",
    "    “automobile“, “car“,” truck“,” vehicles” are lemmatized into “automobile”.\n",
    "\n",
    "Lemmatization usually gets better results.\n",
    "\n",
    "    leaves stemmed to leav while leafs , leaves lemmatized to leaf\n",
    "\n",
    "But lemmatization is slower than stemming."
   ]
  },
  {
   "cell_type": "code",
   "execution_count": 130,
   "id": "6f90c52a",
   "metadata": {},
   "outputs": [
    {
     "name": "stderr",
     "output_type": "stream",
     "text": [
      "100%|██████████████████████████████████| 21586/21586 [00:01<00:00, 17269.51it/s]\n"
     ]
    },
    {
     "data": {
      "text/html": [
       "<div>\n",
       "<style scoped>\n",
       "    .dataframe tbody tr th:only-of-type {\n",
       "        vertical-align: middle;\n",
       "    }\n",
       "\n",
       "    .dataframe tbody tr th {\n",
       "        vertical-align: top;\n",
       "    }\n",
       "\n",
       "    .dataframe thead th {\n",
       "        text-align: right;\n",
       "    }\n",
       "</style>\n",
       "<table border=\"1\" class=\"dataframe\">\n",
       "  <thead>\n",
       "    <tr style=\"text-align: right;\">\n",
       "      <th></th>\n",
       "      <th>sentence</th>\n",
       "      <th>emotion</th>\n",
       "      <th>tokens</th>\n",
       "      <th>Stemming</th>\n",
       "      <th>lemmatizer</th>\n",
       "    </tr>\n",
       "  </thead>\n",
       "  <tbody>\n",
       "    <tr>\n",
       "      <th>0</th>\n",
       "      <td>not feel humiliated</td>\n",
       "      <td>sadness</td>\n",
       "      <td>[not, feel, humiliated]</td>\n",
       "      <td>[not, feel, humili]</td>\n",
       "      <td>[not, feel, humili]</td>\n",
       "    </tr>\n",
       "    <tr>\n",
       "      <th>1</th>\n",
       "      <td>go feeling hopeless damned hopeful around some...</td>\n",
       "      <td>sadness</td>\n",
       "      <td>[go, feeling, hopeless, damned, hopeful, aroun...</td>\n",
       "      <td>[go, feel, hopeless, damn, hope, around, someo...</td>\n",
       "      <td>[go, feel, hopeless, damn, hope, around, someo...</td>\n",
       "    </tr>\n",
       "    <tr>\n",
       "      <th>2</th>\n",
       "      <td>grafting minute post feel greedy wrong</td>\n",
       "      <td>anger</td>\n",
       "      <td>[grafting, minute, post, feel, greedy, wrong]</td>\n",
       "      <td>[graft, minut, post, feel, greedi, wrong]</td>\n",
       "      <td>[graft, minut, post, feel, greedi, wrong]</td>\n",
       "    </tr>\n",
       "    <tr>\n",
       "      <th>3</th>\n",
       "      <td>ever feeling nostalgic fireplace know still no...</td>\n",
       "      <td>love</td>\n",
       "      <td>[ever, feeling, nostalgic, fireplace, know, st...</td>\n",
       "      <td>[ever, feel, nostalg, fireplac, know, still, n...</td>\n",
       "      <td>[ever, feel, nostalg, fireplac, know, still, n...</td>\n",
       "    </tr>\n",
       "    <tr>\n",
       "      <th>4</th>\n",
       "      <td>feeling crouch</td>\n",
       "      <td>anger</td>\n",
       "      <td>[feeling, crouch]</td>\n",
       "      <td>[feel, crouch]</td>\n",
       "      <td>[feel, crouch]</td>\n",
       "    </tr>\n",
       "    <tr>\n",
       "      <th>...</th>\n",
       "      <td>...</td>\n",
       "      <td>...</td>\n",
       "      <td>...</td>\n",
       "      <td>...</td>\n",
       "      <td>...</td>\n",
       "    </tr>\n",
       "    <tr>\n",
       "      <th>709</th>\n",
       "      <td>tired body mind sparkling teeth say followers ...</td>\n",
       "      <td>joy</td>\n",
       "      <td>[tired, body, mind, sparkling, teeth, say, fol...</td>\n",
       "      <td>[tire, bodi, mind, sparkl, teeth, say, follow,...</td>\n",
       "      <td>[tire, bodi, mind, sparkl, teeth, say, follow,...</td>\n",
       "    </tr>\n",
       "    <tr>\n",
       "      <th>710</th>\n",
       "      <td>refuse chip chip girl</td>\n",
       "      <td>joy</td>\n",
       "      <td>[refuse, chip, chip, girl]</td>\n",
       "      <td>[refus, chip, chip, girl]</td>\n",
       "      <td>[refus, chip, chip, girl]</td>\n",
       "    </tr>\n",
       "    <tr>\n",
       "      <th>711</th>\n",
       "      <td>hard stifle laughter overheard comment really ...</td>\n",
       "      <td>joy</td>\n",
       "      <td>[hard, stifle, laughter, overheard, comment, r...</td>\n",
       "      <td>[hard, stifl, laughter, overheard, comment, re...</td>\n",
       "      <td>[hard, stifl, laughter, overheard, comment, re...</td>\n",
       "    </tr>\n",
       "    <tr>\n",
       "      <th>712</th>\n",
       "      <td>walking little boy red shirt years age shoutin...</td>\n",
       "      <td>joy</td>\n",
       "      <td>[walking, little, boy, red, shirt, years, age,...</td>\n",
       "      <td>[walk, littl, boy, red, shirt, year, age, shou...</td>\n",
       "      <td>[walk, littl, boy, red, shirt, year, age, shou...</td>\n",
       "    </tr>\n",
       "    <tr>\n",
       "      <th>713</th>\n",
       "      <td>asked one thing guns tonight got happy proud d...</td>\n",
       "      <td>joy</td>\n",
       "      <td>[asked, one, thing, guns, tonight, got, happy,...</td>\n",
       "      <td>[ask, one, thing, gun, tonight, got, happi, pr...</td>\n",
       "      <td>[ask, one, thing, gun, tonight, got, happi, pr...</td>\n",
       "    </tr>\n",
       "  </tbody>\n",
       "</table>\n",
       "<p>21586 rows × 5 columns</p>\n",
       "</div>"
      ],
      "text/plain": [
       "                                              sentence  emotion  \\\n",
       "0                                  not feel humiliated  sadness   \n",
       "1    go feeling hopeless damned hopeful around some...  sadness   \n",
       "2               grafting minute post feel greedy wrong    anger   \n",
       "3    ever feeling nostalgic fireplace know still no...     love   \n",
       "4                                       feeling crouch    anger   \n",
       "..                                                 ...      ...   \n",
       "709  tired body mind sparkling teeth say followers ...      joy   \n",
       "710                              refuse chip chip girl      joy   \n",
       "711  hard stifle laughter overheard comment really ...      joy   \n",
       "712  walking little boy red shirt years age shoutin...      joy   \n",
       "713  asked one thing guns tonight got happy proud d...      joy   \n",
       "\n",
       "                                                tokens  \\\n",
       "0                              [not, feel, humiliated]   \n",
       "1    [go, feeling, hopeless, damned, hopeful, aroun...   \n",
       "2        [grafting, minute, post, feel, greedy, wrong]   \n",
       "3    [ever, feeling, nostalgic, fireplace, know, st...   \n",
       "4                                    [feeling, crouch]   \n",
       "..                                                 ...   \n",
       "709  [tired, body, mind, sparkling, teeth, say, fol...   \n",
       "710                         [refuse, chip, chip, girl]   \n",
       "711  [hard, stifle, laughter, overheard, comment, r...   \n",
       "712  [walking, little, boy, red, shirt, years, age,...   \n",
       "713  [asked, one, thing, guns, tonight, got, happy,...   \n",
       "\n",
       "                                              Stemming  \\\n",
       "0                                  [not, feel, humili]   \n",
       "1    [go, feel, hopeless, damn, hope, around, someo...   \n",
       "2            [graft, minut, post, feel, greedi, wrong]   \n",
       "3    [ever, feel, nostalg, fireplac, know, still, n...   \n",
       "4                                       [feel, crouch]   \n",
       "..                                                 ...   \n",
       "709  [tire, bodi, mind, sparkl, teeth, say, follow,...   \n",
       "710                          [refus, chip, chip, girl]   \n",
       "711  [hard, stifl, laughter, overheard, comment, re...   \n",
       "712  [walk, littl, boy, red, shirt, year, age, shou...   \n",
       "713  [ask, one, thing, gun, tonight, got, happi, pr...   \n",
       "\n",
       "                                            lemmatizer  \n",
       "0                                  [not, feel, humili]  \n",
       "1    [go, feel, hopeless, damn, hope, around, someo...  \n",
       "2            [graft, minut, post, feel, greedi, wrong]  \n",
       "3    [ever, feel, nostalg, fireplac, know, still, n...  \n",
       "4                                       [feel, crouch]  \n",
       "..                                                 ...  \n",
       "709  [tire, bodi, mind, sparkl, teeth, say, follow,...  \n",
       "710                          [refus, chip, chip, girl]  \n",
       "711  [hard, stifl, laughter, overheard, comment, re...  \n",
       "712  [walk, littl, boy, red, shirt, year, age, shou...  \n",
       "713  [ask, one, thing, gun, tonight, got, happi, pr...  \n",
       "\n",
       "[21586 rows x 5 columns]"
      ]
     },
     "execution_count": 130,
     "metadata": {},
     "output_type": "execute_result"
    }
   ],
   "source": [
    "from nltk.stem import WordNetLemmatizer\n",
    "# nltk.download('wordnet')\n",
    "# nltk.download('omw-1.4')\n",
    "\n",
    "lm = WordNetLemmatizer()\n",
    "\n",
    "data['lemmatizer'] = data.Stemming.progress_apply(lambda x: [lm.lemmatize(word) for word in x])\n",
    "data"
   ]
  },
  {
   "cell_type": "code",
   "execution_count": 135,
   "id": "1d020974",
   "metadata": {},
   "outputs": [],
   "source": [
    "data.to_csv(\"final_dataset.csv\", index=False)"
   ]
  },
  {
   "cell_type": "code",
   "execution_count": 132,
   "id": "76a2d828",
   "metadata": {},
   "outputs": [],
   "source": [
    "import time\n",
    "from sklearn.metrics import accuracy_score"
   ]
  },
  {
   "cell_type": "markdown",
   "id": "f1ad909a",
   "metadata": {},
   "source": [
    "# Feature Engineering\n",
    "\n",
    "Feature Engineering is a very key part of Natural Language Processing. as we all know algorithms and machines can’t understand characters or words or sentences hence we need to encode these words into some specific form of numerical in order to interact with algorithms or machines. we can’t feed the text data containing words /sentences/characters to a machine learning model.\n",
    "\n",
    "There are various ways to perform feature extraction. some popular and mostly used are:-\n",
    "\n",
    "    1. Bag of Words model\n",
    "    2. TF-IDF"
   ]
  },
  {
   "cell_type": "markdown",
   "id": "b482d3d1",
   "metadata": {},
   "source": [
    "## 1. Bag of Words model\n",
    "\n",
    "The idea is to take the whole text data and count their frequency of occurrence. and map the words with their frequency. This method doesn’t care about the order of the words, but it does care how many times a word occurs and the default bag of words model treats all words equally."
   ]
  },
  {
   "cell_type": "code",
   "execution_count": 9,
   "id": "33152143",
   "metadata": {},
   "outputs": [
    {
     "data": {
      "text/html": [
       "<div>\n",
       "<style scoped>\n",
       "    .dataframe tbody tr th:only-of-type {\n",
       "        vertical-align: middle;\n",
       "    }\n",
       "\n",
       "    .dataframe tbody tr th {\n",
       "        vertical-align: top;\n",
       "    }\n",
       "\n",
       "    .dataframe thead th {\n",
       "        text-align: right;\n",
       "    }\n",
       "</style>\n",
       "<table border=\"1\" class=\"dataframe\">\n",
       "  <thead>\n",
       "    <tr style=\"text-align: right;\">\n",
       "      <th></th>\n",
       "      <th>a</th>\n",
       "      <th>aaaaaaand</th>\n",
       "      <th>aaaaand</th>\n",
       "      <th>aaaaarrrrgghhh</th>\n",
       "      <th>aaaand</th>\n",
       "      <th>aaahhhh</th>\n",
       "      <th>aaron</th>\n",
       "      <th>ab</th>\n",
       "      <th>abandon</th>\n",
       "      <th>abandoned</th>\n",
       "      <th>...</th>\n",
       "      <th>zimbabweans</th>\n",
       "      <th>zimmerman</th>\n",
       "      <th>ziplocks</th>\n",
       "      <th>zis</th>\n",
       "      <th>zone</th>\n",
       "      <th>zonisamide</th>\n",
       "      <th>zoolander</th>\n",
       "      <th>zu</th>\n",
       "      <th>zucchini</th>\n",
       "      <th>zum</th>\n",
       "    </tr>\n",
       "  </thead>\n",
       "  <tbody>\n",
       "    <tr>\n",
       "      <th>0</th>\n",
       "      <td>0</td>\n",
       "      <td>0</td>\n",
       "      <td>0</td>\n",
       "      <td>0</td>\n",
       "      <td>0</td>\n",
       "      <td>0</td>\n",
       "      <td>0</td>\n",
       "      <td>0</td>\n",
       "      <td>0</td>\n",
       "      <td>0</td>\n",
       "      <td>...</td>\n",
       "      <td>0</td>\n",
       "      <td>0</td>\n",
       "      <td>0</td>\n",
       "      <td>0</td>\n",
       "      <td>0</td>\n",
       "      <td>0</td>\n",
       "      <td>0</td>\n",
       "      <td>0</td>\n",
       "      <td>0</td>\n",
       "      <td>0</td>\n",
       "    </tr>\n",
       "    <tr>\n",
       "      <th>1</th>\n",
       "      <td>0</td>\n",
       "      <td>0</td>\n",
       "      <td>0</td>\n",
       "      <td>0</td>\n",
       "      <td>0</td>\n",
       "      <td>0</td>\n",
       "      <td>0</td>\n",
       "      <td>0</td>\n",
       "      <td>0</td>\n",
       "      <td>0</td>\n",
       "      <td>...</td>\n",
       "      <td>0</td>\n",
       "      <td>0</td>\n",
       "      <td>0</td>\n",
       "      <td>0</td>\n",
       "      <td>0</td>\n",
       "      <td>0</td>\n",
       "      <td>0</td>\n",
       "      <td>0</td>\n",
       "      <td>0</td>\n",
       "      <td>0</td>\n",
       "    </tr>\n",
       "    <tr>\n",
       "      <th>2</th>\n",
       "      <td>0</td>\n",
       "      <td>0</td>\n",
       "      <td>0</td>\n",
       "      <td>0</td>\n",
       "      <td>0</td>\n",
       "      <td>0</td>\n",
       "      <td>0</td>\n",
       "      <td>0</td>\n",
       "      <td>0</td>\n",
       "      <td>0</td>\n",
       "      <td>...</td>\n",
       "      <td>0</td>\n",
       "      <td>0</td>\n",
       "      <td>0</td>\n",
       "      <td>0</td>\n",
       "      <td>0</td>\n",
       "      <td>0</td>\n",
       "      <td>0</td>\n",
       "      <td>0</td>\n",
       "      <td>0</td>\n",
       "      <td>0</td>\n",
       "    </tr>\n",
       "    <tr>\n",
       "      <th>3</th>\n",
       "      <td>0</td>\n",
       "      <td>0</td>\n",
       "      <td>0</td>\n",
       "      <td>0</td>\n",
       "      <td>0</td>\n",
       "      <td>0</td>\n",
       "      <td>0</td>\n",
       "      <td>0</td>\n",
       "      <td>0</td>\n",
       "      <td>0</td>\n",
       "      <td>...</td>\n",
       "      <td>0</td>\n",
       "      <td>0</td>\n",
       "      <td>0</td>\n",
       "      <td>0</td>\n",
       "      <td>0</td>\n",
       "      <td>0</td>\n",
       "      <td>0</td>\n",
       "      <td>0</td>\n",
       "      <td>0</td>\n",
       "      <td>0</td>\n",
       "    </tr>\n",
       "    <tr>\n",
       "      <th>4</th>\n",
       "      <td>0</td>\n",
       "      <td>0</td>\n",
       "      <td>0</td>\n",
       "      <td>0</td>\n",
       "      <td>0</td>\n",
       "      <td>0</td>\n",
       "      <td>0</td>\n",
       "      <td>0</td>\n",
       "      <td>0</td>\n",
       "      <td>0</td>\n",
       "      <td>...</td>\n",
       "      <td>0</td>\n",
       "      <td>0</td>\n",
       "      <td>0</td>\n",
       "      <td>0</td>\n",
       "      <td>0</td>\n",
       "      <td>0</td>\n",
       "      <td>0</td>\n",
       "      <td>0</td>\n",
       "      <td>0</td>\n",
       "      <td>0</td>\n",
       "    </tr>\n",
       "  </tbody>\n",
       "</table>\n",
       "<p>5 rows × 17264 columns</p>\n",
       "</div>"
      ],
      "text/plain": [
       "   a  aaaaaaand  aaaaand  aaaaarrrrgghhh  aaaand  aaahhhh  aaron  ab  abandon  \\\n",
       "0  0          0        0               0       0        0      0   0        0   \n",
       "1  0          0        0               0       0        0      0   0        0   \n",
       "2  0          0        0               0       0        0      0   0        0   \n",
       "3  0          0        0               0       0        0      0   0        0   \n",
       "4  0          0        0               0       0        0      0   0        0   \n",
       "\n",
       "   abandoned  ...  zimbabweans  zimmerman  ziplocks  zis  zone  zonisamide  \\\n",
       "0          0  ...            0          0         0    0     0           0   \n",
       "1          0  ...            0          0         0    0     0           0   \n",
       "2          0  ...            0          0         0    0     0           0   \n",
       "3          0  ...            0          0         0    0     0           0   \n",
       "4          0  ...            0          0         0    0     0           0   \n",
       "\n",
       "   zoolander  zu  zucchini  zum  \n",
       "0          0   0         0    0  \n",
       "1          0   0         0    0  \n",
       "2          0   0         0    0  \n",
       "3          0   0         0    0  \n",
       "4          0   0         0    0  \n",
       "\n",
       "[5 rows x 17264 columns]"
      ]
     },
     "execution_count": 9,
     "metadata": {},
     "output_type": "execute_result"
    }
   ],
   "source": [
    "from sklearn.feature_extraction.text import CountVectorizer\n",
    "from nltk.tokenize import RegexpTokenizer\n",
    "\n",
    "token = RegexpTokenizer(r'[a-zA-Z0-9]+')\n",
    "\n",
    "Count_Vectorizer = CountVectorizer(tokenizer = token.tokenize)\n",
    "\n",
    "X_BOW = Count_Vectorizer.fit_transform(data.sentence)\n",
    "\n",
    "X_BOW_array = X_BOW.toarray()\n",
    "\n",
    "pd.DataFrame(data=X_BOW_array, columns = Count_Vectorizer.get_feature_names_out()).head()"
   ]
  },
  {
   "cell_type": "code",
   "execution_count": 10,
   "id": "13b4109f",
   "metadata": {},
   "outputs": [],
   "source": [
    "y = data.emotion"
   ]
  },
  {
   "cell_type": "markdown",
   "id": "c4e5a6bb",
   "metadata": {},
   "source": [
    "## 2. TF-IDF model\n",
    "\n",
    "The BOW model doesn’t give good results since it has a drawback. Assume that there is a particular word that is appearing in all the documents and it comes multiple times, eventually, it will have a higher frequency of occurrence and it will have a greater value that will cause a specific word to have more weightage in a sentence, that’s not good for our analysis.\n",
    "\n",
    "Term frequency (TF): Number of times a term has appeared in a document. The term frequency is a measure of how frequently or how common a word is for a given sentence.\n",
    "\n",
    "Inverse Document Frequency (IDF): The inverse document frequency (IDF ) is a measure of how rare a word is in a document. Words like “the”,” a” show up in all the documents but rare words will not occur in all the documents of the corpus.\n",
    "\n",
    "If a word appears in almost every document means it’s not significant for the classification.\n",
    "\n",
    "IDF of a word is = log(N/n)\n",
    "\n",
    "N: total number of documents.\n",
    "n: number of documents containing a term (word)\n",
    "\n",
    "TF-IDF Evaluates how relevant is a word to its sentence in a collection of sentences or documents."
   ]
  },
  {
   "cell_type": "code",
   "execution_count": 11,
   "id": "6a590479",
   "metadata": {},
   "outputs": [
    {
     "data": {
      "text/html": [
       "<div>\n",
       "<style scoped>\n",
       "    .dataframe tbody tr th:only-of-type {\n",
       "        vertical-align: middle;\n",
       "    }\n",
       "\n",
       "    .dataframe tbody tr th {\n",
       "        vertical-align: top;\n",
       "    }\n",
       "\n",
       "    .dataframe thead th {\n",
       "        text-align: right;\n",
       "    }\n",
       "</style>\n",
       "<table border=\"1\" class=\"dataframe\">\n",
       "  <thead>\n",
       "    <tr style=\"text-align: right;\">\n",
       "      <th></th>\n",
       "      <th>aaaaaaand</th>\n",
       "      <th>aaaaand</th>\n",
       "      <th>aaaaarrrrgghhh</th>\n",
       "      <th>aaaand</th>\n",
       "      <th>aaahhhh</th>\n",
       "      <th>aaron</th>\n",
       "      <th>ab</th>\n",
       "      <th>abandon</th>\n",
       "      <th>abandoned</th>\n",
       "      <th>abandoning</th>\n",
       "      <th>...</th>\n",
       "      <th>zimbabweans</th>\n",
       "      <th>zimmerman</th>\n",
       "      <th>ziplocks</th>\n",
       "      <th>zis</th>\n",
       "      <th>zone</th>\n",
       "      <th>zonisamide</th>\n",
       "      <th>zoolander</th>\n",
       "      <th>zu</th>\n",
       "      <th>zucchini</th>\n",
       "      <th>zum</th>\n",
       "    </tr>\n",
       "  </thead>\n",
       "  <tbody>\n",
       "    <tr>\n",
       "      <th>0</th>\n",
       "      <td>0.0</td>\n",
       "      <td>0.0</td>\n",
       "      <td>0.0</td>\n",
       "      <td>0.0</td>\n",
       "      <td>0.0</td>\n",
       "      <td>0.0</td>\n",
       "      <td>0.0</td>\n",
       "      <td>0.0</td>\n",
       "      <td>0.0</td>\n",
       "      <td>0.0</td>\n",
       "      <td>...</td>\n",
       "      <td>0.0</td>\n",
       "      <td>0.0</td>\n",
       "      <td>0.0</td>\n",
       "      <td>0.0</td>\n",
       "      <td>0.0</td>\n",
       "      <td>0.0</td>\n",
       "      <td>0.0</td>\n",
       "      <td>0.0</td>\n",
       "      <td>0.0</td>\n",
       "      <td>0.0</td>\n",
       "    </tr>\n",
       "    <tr>\n",
       "      <th>1</th>\n",
       "      <td>0.0</td>\n",
       "      <td>0.0</td>\n",
       "      <td>0.0</td>\n",
       "      <td>0.0</td>\n",
       "      <td>0.0</td>\n",
       "      <td>0.0</td>\n",
       "      <td>0.0</td>\n",
       "      <td>0.0</td>\n",
       "      <td>0.0</td>\n",
       "      <td>0.0</td>\n",
       "      <td>...</td>\n",
       "      <td>0.0</td>\n",
       "      <td>0.0</td>\n",
       "      <td>0.0</td>\n",
       "      <td>0.0</td>\n",
       "      <td>0.0</td>\n",
       "      <td>0.0</td>\n",
       "      <td>0.0</td>\n",
       "      <td>0.0</td>\n",
       "      <td>0.0</td>\n",
       "      <td>0.0</td>\n",
       "    </tr>\n",
       "    <tr>\n",
       "      <th>2</th>\n",
       "      <td>0.0</td>\n",
       "      <td>0.0</td>\n",
       "      <td>0.0</td>\n",
       "      <td>0.0</td>\n",
       "      <td>0.0</td>\n",
       "      <td>0.0</td>\n",
       "      <td>0.0</td>\n",
       "      <td>0.0</td>\n",
       "      <td>0.0</td>\n",
       "      <td>0.0</td>\n",
       "      <td>...</td>\n",
       "      <td>0.0</td>\n",
       "      <td>0.0</td>\n",
       "      <td>0.0</td>\n",
       "      <td>0.0</td>\n",
       "      <td>0.0</td>\n",
       "      <td>0.0</td>\n",
       "      <td>0.0</td>\n",
       "      <td>0.0</td>\n",
       "      <td>0.0</td>\n",
       "      <td>0.0</td>\n",
       "    </tr>\n",
       "    <tr>\n",
       "      <th>3</th>\n",
       "      <td>0.0</td>\n",
       "      <td>0.0</td>\n",
       "      <td>0.0</td>\n",
       "      <td>0.0</td>\n",
       "      <td>0.0</td>\n",
       "      <td>0.0</td>\n",
       "      <td>0.0</td>\n",
       "      <td>0.0</td>\n",
       "      <td>0.0</td>\n",
       "      <td>0.0</td>\n",
       "      <td>...</td>\n",
       "      <td>0.0</td>\n",
       "      <td>0.0</td>\n",
       "      <td>0.0</td>\n",
       "      <td>0.0</td>\n",
       "      <td>0.0</td>\n",
       "      <td>0.0</td>\n",
       "      <td>0.0</td>\n",
       "      <td>0.0</td>\n",
       "      <td>0.0</td>\n",
       "      <td>0.0</td>\n",
       "    </tr>\n",
       "    <tr>\n",
       "      <th>4</th>\n",
       "      <td>0.0</td>\n",
       "      <td>0.0</td>\n",
       "      <td>0.0</td>\n",
       "      <td>0.0</td>\n",
       "      <td>0.0</td>\n",
       "      <td>0.0</td>\n",
       "      <td>0.0</td>\n",
       "      <td>0.0</td>\n",
       "      <td>0.0</td>\n",
       "      <td>0.0</td>\n",
       "      <td>...</td>\n",
       "      <td>0.0</td>\n",
       "      <td>0.0</td>\n",
       "      <td>0.0</td>\n",
       "      <td>0.0</td>\n",
       "      <td>0.0</td>\n",
       "      <td>0.0</td>\n",
       "      <td>0.0</td>\n",
       "      <td>0.0</td>\n",
       "      <td>0.0</td>\n",
       "      <td>0.0</td>\n",
       "    </tr>\n",
       "  </tbody>\n",
       "</table>\n",
       "<p>5 rows × 17241 columns</p>\n",
       "</div>"
      ],
      "text/plain": [
       "   aaaaaaand  aaaaand  aaaaarrrrgghhh  aaaand  aaahhhh  aaron   ab  abandon  \\\n",
       "0        0.0      0.0             0.0     0.0      0.0    0.0  0.0      0.0   \n",
       "1        0.0      0.0             0.0     0.0      0.0    0.0  0.0      0.0   \n",
       "2        0.0      0.0             0.0     0.0      0.0    0.0  0.0      0.0   \n",
       "3        0.0      0.0             0.0     0.0      0.0    0.0  0.0      0.0   \n",
       "4        0.0      0.0             0.0     0.0      0.0    0.0  0.0      0.0   \n",
       "\n",
       "   abandoned  abandoning  ...  zimbabweans  zimmerman  ziplocks  zis  zone  \\\n",
       "0        0.0         0.0  ...          0.0        0.0       0.0  0.0   0.0   \n",
       "1        0.0         0.0  ...          0.0        0.0       0.0  0.0   0.0   \n",
       "2        0.0         0.0  ...          0.0        0.0       0.0  0.0   0.0   \n",
       "3        0.0         0.0  ...          0.0        0.0       0.0  0.0   0.0   \n",
       "4        0.0         0.0  ...          0.0        0.0       0.0  0.0   0.0   \n",
       "\n",
       "   zonisamide  zoolander   zu  zucchini  zum  \n",
       "0         0.0        0.0  0.0       0.0  0.0  \n",
       "1         0.0        0.0  0.0       0.0  0.0  \n",
       "2         0.0        0.0  0.0       0.0  0.0  \n",
       "3         0.0        0.0  0.0       0.0  0.0  \n",
       "4         0.0        0.0  0.0       0.0  0.0  \n",
       "\n",
       "[5 rows x 17241 columns]"
      ]
     },
     "execution_count": 11,
     "metadata": {},
     "output_type": "execute_result"
    }
   ],
   "source": [
    "from sklearn.feature_extraction.text import TfidfVectorizer\n",
    "from nltk.tokenize import RegexpTokenizer\n",
    "\n",
    "token = RegexpTokenizer(r'[a-zA-Z0-9]+')\n",
    "\n",
    "Tfidf_Vectorizer = TfidfVectorizer()\n",
    "\n",
    "X_TFIDF = Tfidf_Vectorizer.fit_transform(data.sentence)\n",
    "\n",
    "X_TFIDF_array = X_TFIDF.toarray()\n",
    "\n",
    "pd.DataFrame(data=X_TFIDF_array, columns = Tfidf_Vectorizer.get_feature_names_out()).head()"
   ]
  },
  {
   "cell_type": "code",
   "execution_count": 12,
   "id": "f2b173d6",
   "metadata": {},
   "outputs": [],
   "source": [
    "y = data.emotion"
   ]
  },
  {
   "cell_type": "code",
   "execution_count": null,
   "id": "469abe78",
   "metadata": {},
   "outputs": [],
   "source": []
  },
  {
   "cell_type": "code",
   "execution_count": 14,
   "id": "f4c48459",
   "metadata": {},
   "outputs": [
    {
     "name": "stderr",
     "output_type": "stream",
     "text": [
      "2022-05-12 00:50:49.037547: W tensorflow/stream_executor/platform/default/dso_loader.cc:64] Could not load dynamic library 'libcudart.so.11.0'; dlerror: libcudart.so.11.0: cannot open shared object file: No such file or directory\n",
      "2022-05-12 00:50:49.037630: I tensorflow/stream_executor/cuda/cudart_stub.cc:29] Ignore above cudart dlerror if you do not have a GPU set up on your machine.\n"
     ]
    }
   ],
   "source": [
    "from keras.models import Sequential\n",
    "from keras.layers import Dense, Flatten, InputLayer\n",
    "from keras.layers.convolutional import Conv2D, MaxPooling1D\n",
    "from keras.layers.embeddings import Embedding\n",
    "from keras.preprocessing import sequence\n",
    "from tensorflow.keras.optimizers import SGD\n"
   ]
  },
  {
   "cell_type": "code",
   "execution_count": 15,
   "id": "a4470886",
   "metadata": {},
   "outputs": [
    {
     "name": "stdout",
     "output_type": "stream",
     "text": [
      "Model: \"sequential\"\n",
      "_________________________________________________________________\n",
      " Layer (type)                Output Shape              Param #   \n",
      "=================================================================\n",
      " dense (Dense)               (None, 1)                 17242     \n",
      "                                                                 \n",
      "=================================================================\n",
      "Total params: 17,242\n",
      "Trainable params: 17,242\n",
      "Non-trainable params: 0\n",
      "_________________________________________________________________\n"
     ]
    },
    {
     "name": "stderr",
     "output_type": "stream",
     "text": [
      "/home/ujjwal/anaconda3/lib/python3.9/site-packages/keras/optimizer_v2/gradient_descent.py:102: UserWarning: The `lr` argument is deprecated, use `learning_rate` instead.\n",
      "  super(SGD, self).__init__(name, **kwargs)\n",
      "2022-05-12 00:51:01.349062: E tensorflow/stream_executor/cuda/cuda_driver.cc:271] failed call to cuInit: CUDA_ERROR_UNKNOWN: unknown error\n",
      "2022-05-12 00:51:01.349125: I tensorflow/stream_executor/cuda/cuda_diagnostics.cc:169] retrieving CUDA diagnostic information for host: ujjwal\n",
      "2022-05-12 00:51:01.349142: I tensorflow/stream_executor/cuda/cuda_diagnostics.cc:176] hostname: ujjwal\n",
      "2022-05-12 00:51:01.349369: I tensorflow/stream_executor/cuda/cuda_diagnostics.cc:200] libcuda reported version is: 470.103.1\n",
      "2022-05-12 00:51:01.349459: I tensorflow/stream_executor/cuda/cuda_diagnostics.cc:204] kernel reported version is: 470.103.1\n",
      "2022-05-12 00:51:01.349477: I tensorflow/stream_executor/cuda/cuda_diagnostics.cc:310] kernel version seems to match DSO: 470.103.1\n",
      "2022-05-12 00:51:01.350940: I tensorflow/core/platform/cpu_feature_guard.cc:151] This TensorFlow binary is optimized with oneAPI Deep Neural Network Library (oneDNN) to use the following CPU instructions in performance-critical operations:  AVX2 FMA\n",
      "To enable them in other operations, rebuild TensorFlow with the appropriate compiler flags.\n"
     ]
    }
   ],
   "source": [
    "opt = SGD(lr=0.01)\n",
    "\n",
    "model=Sequential()\n",
    "\n",
    "model.add(InputLayer(input_shape=(X_TFIDF.shape[1],)))\n",
    "model.add(Dense(1, activation='softmax'))\n",
    "model.compile(loss='categorical_crossentropy', optimizer=opt, metrics=['accuracy'])\n",
    "model.summary()"
   ]
  },
  {
   "cell_type": "code",
   "execution_count": 16,
   "id": "f36ce47f",
   "metadata": {},
   "outputs": [],
   "source": [
    "from tensorflow.keras.callbacks import EarlyStopping\n",
    "early_stop=EarlyStopping(monitor='val_loss',mode='min',verbose=1,patience=5)"
   ]
  },
  {
   "cell_type": "code",
   "execution_count": 17,
   "id": "c65e7aeb",
   "metadata": {},
   "outputs": [
    {
     "name": "stderr",
     "output_type": "stream",
     "text": [
      "2022-05-12 00:51:10.990170: W tensorflow/core/framework/cpu_allocator_impl.cc:82] Allocation of 1868993364 exceeds 10% of free system memory.\n"
     ]
    },
    {
     "name": "stdout",
     "output_type": "stream",
     "text": [
      "Epoch 1/30\n",
      "844/847 [============================>.] - ETA: 0s - loss: 0.0000e+00 - accuracy: 0.6040WARNING:tensorflow:Early stopping conditioned on metric `val_loss` which is not available. Available metrics are: loss,accuracy\n",
      "847/847 [==============================] - 4s 3ms/step - loss: 0.0000e+00 - accuracy: 0.6039\n",
      "Epoch 2/30\n",
      "831/847 [============================>.] - ETA: 0s - loss: 0.0000e+00 - accuracy: 0.6047WARNING:tensorflow:Early stopping conditioned on metric `val_loss` which is not available. Available metrics are: loss,accuracy\n",
      "847/847 [==============================] - 2s 3ms/step - loss: 0.0000e+00 - accuracy: 0.6039\n",
      "Epoch 3/30\n",
      "835/847 [============================>.] - ETA: 0s - loss: 0.0000e+00 - accuracy: 0.6037WARNING:tensorflow:Early stopping conditioned on metric `val_loss` which is not available. Available metrics are: loss,accuracy\n",
      "847/847 [==============================] - 2s 3ms/step - loss: 0.0000e+00 - accuracy: 0.6039\n",
      "Epoch 4/30\n",
      "828/847 [============================>.] - ETA: 0s - loss: 0.0000e+00 - accuracy: 0.6039WARNING:tensorflow:Early stopping conditioned on metric `val_loss` which is not available. Available metrics are: loss,accuracy\n",
      "847/847 [==============================] - 2s 3ms/step - loss: 0.0000e+00 - accuracy: 0.6039\n",
      "Epoch 5/30\n",
      "836/847 [============================>.] - ETA: 0s - loss: 0.0000e+00 - accuracy: 0.6037WARNING:tensorflow:Early stopping conditioned on metric `val_loss` which is not available. Available metrics are: loss,accuracy\n",
      "847/847 [==============================] - 2s 3ms/step - loss: 0.0000e+00 - accuracy: 0.6039\n",
      "Epoch 6/30\n",
      "842/847 [============================>.] - ETA: 0s - loss: 0.0000e+00 - accuracy: 0.6036WARNING:tensorflow:Early stopping conditioned on metric `val_loss` which is not available. Available metrics are: loss,accuracy\n",
      "847/847 [==============================] - 2s 3ms/step - loss: 0.0000e+00 - accuracy: 0.6039\n",
      "Epoch 7/30\n",
      "836/847 [============================>.] - ETA: 0s - loss: 0.0000e+00 - accuracy: 0.6037WARNING:tensorflow:Early stopping conditioned on metric `val_loss` which is not available. Available metrics are: loss,accuracy\n",
      "847/847 [==============================] - 2s 3ms/step - loss: 0.0000e+00 - accuracy: 0.6039\n",
      "Epoch 8/30\n",
      "847/847 [==============================] - ETA: 0s - loss: 0.0000e+00 - accuracy: 0.6039WARNING:tensorflow:Early stopping conditioned on metric `val_loss` which is not available. Available metrics are: loss,accuracy\n",
      "847/847 [==============================] - 2s 3ms/step - loss: 0.0000e+00 - accuracy: 0.6039\n",
      "Epoch 9/30\n",
      "834/847 [============================>.] - ETA: 0s - loss: 0.0000e+00 - accuracy: 0.6035WARNING:tensorflow:Early stopping conditioned on metric `val_loss` which is not available. Available metrics are: loss,accuracy\n",
      "847/847 [==============================] - 2s 3ms/step - loss: 0.0000e+00 - accuracy: 0.6039\n",
      "Epoch 10/30\n",
      "838/847 [============================>.] - ETA: 0s - loss: 0.0000e+00 - accuracy: 0.6036WARNING:tensorflow:Early stopping conditioned on metric `val_loss` which is not available. Available metrics are: loss,accuracy\n",
      "847/847 [==============================] - 2s 3ms/step - loss: 0.0000e+00 - accuracy: 0.6039\n",
      "Epoch 11/30\n",
      "830/847 [============================>.] - ETA: 0s - loss: 0.0000e+00 - accuracy: 0.6042WARNING:tensorflow:Early stopping conditioned on metric `val_loss` which is not available. Available metrics are: loss,accuracy\n",
      "847/847 [==============================] - 2s 3ms/step - loss: 0.0000e+00 - accuracy: 0.6039\n",
      "Epoch 12/30\n",
      "845/847 [============================>.] - ETA: 0s - loss: 0.0000e+00 - accuracy: 0.6040WARNING:tensorflow:Early stopping conditioned on metric `val_loss` which is not available. Available metrics are: loss,accuracy\n",
      "847/847 [==============================] - 2s 3ms/step - loss: 0.0000e+00 - accuracy: 0.6039\n",
      "Epoch 13/30\n",
      "841/847 [============================>.] - ETA: 0s - loss: 0.0000e+00 - accuracy: 0.6040WARNING:tensorflow:Early stopping conditioned on metric `val_loss` which is not available. Available metrics are: loss,accuracy\n",
      "847/847 [==============================] - 2s 3ms/step - loss: 0.0000e+00 - accuracy: 0.6039\n",
      "Epoch 14/30\n",
      "842/847 [============================>.] - ETA: 0s - loss: 0.0000e+00 - accuracy: 0.6037WARNING:tensorflow:Early stopping conditioned on metric `val_loss` which is not available. Available metrics are: loss,accuracy\n",
      "847/847 [==============================] - 2s 3ms/step - loss: 0.0000e+00 - accuracy: 0.6039\n",
      "Epoch 15/30\n",
      "846/847 [============================>.] - ETA: 0s - loss: 0.0000e+00 - accuracy: 0.6037WARNING:tensorflow:Early stopping conditioned on metric `val_loss` which is not available. Available metrics are: loss,accuracy\n",
      "847/847 [==============================] - 2s 3ms/step - loss: 0.0000e+00 - accuracy: 0.6039\n",
      "Epoch 16/30\n",
      "839/847 [============================>.] - ETA: 0s - loss: 0.0000e+00 - accuracy: 0.6041WARNING:tensorflow:Early stopping conditioned on metric `val_loss` which is not available. Available metrics are: loss,accuracy\n",
      "847/847 [==============================] - 2s 3ms/step - loss: 0.0000e+00 - accuracy: 0.6039\n",
      "Epoch 17/30\n",
      "832/847 [============================>.] - ETA: 0s - loss: 0.0000e+00 - accuracy: 0.6037WARNING:tensorflow:Early stopping conditioned on metric `val_loss` which is not available. Available metrics are: loss,accuracy\n",
      "847/847 [==============================] - 2s 3ms/step - loss: 0.0000e+00 - accuracy: 0.6039\n",
      "Epoch 18/30\n",
      "832/847 [============================>.] - ETA: 0s - loss: 0.0000e+00 - accuracy: 0.6038WARNING:tensorflow:Early stopping conditioned on metric `val_loss` which is not available. Available metrics are: loss,accuracy\n",
      "847/847 [==============================] - 2s 3ms/step - loss: 0.0000e+00 - accuracy: 0.6039\n",
      "Epoch 19/30\n",
      "847/847 [==============================] - ETA: 0s - loss: 0.0000e+00 - accuracy: 0.6039WARNING:tensorflow:Early stopping conditioned on metric `val_loss` which is not available. Available metrics are: loss,accuracy\n",
      "847/847 [==============================] - 2s 3ms/step - loss: 0.0000e+00 - accuracy: 0.6039\n",
      "Epoch 20/30\n",
      "842/847 [============================>.] - ETA: 0s - loss: 0.0000e+00 - accuracy: 0.6040WARNING:tensorflow:Early stopping conditioned on metric `val_loss` which is not available. Available metrics are: loss,accuracy\n",
      "847/847 [==============================] - 2s 3ms/step - loss: 0.0000e+00 - accuracy: 0.6039\n",
      "Epoch 21/30\n",
      "845/847 [============================>.] - ETA: 0s - loss: 0.0000e+00 - accuracy: 0.6038WARNING:tensorflow:Early stopping conditioned on metric `val_loss` which is not available. Available metrics are: loss,accuracy\n",
      "847/847 [==============================] - 2s 3ms/step - loss: 0.0000e+00 - accuracy: 0.6039\n",
      "Epoch 22/30\n",
      "834/847 [============================>.] - ETA: 0s - loss: 0.0000e+00 - accuracy: 0.6040WARNING:tensorflow:Early stopping conditioned on metric `val_loss` which is not available. Available metrics are: loss,accuracy\n",
      "847/847 [==============================] - 3s 3ms/step - loss: 0.0000e+00 - accuracy: 0.6039\n",
      "Epoch 23/30\n",
      "827/847 [============================>.] - ETA: 0s - loss: 0.0000e+00 - accuracy: 0.6043WARNING:tensorflow:Early stopping conditioned on metric `val_loss` which is not available. Available metrics are: loss,accuracy\n",
      "847/847 [==============================] - 3s 3ms/step - loss: 0.0000e+00 - accuracy: 0.6039\n",
      "Epoch 24/30\n",
      "843/847 [============================>.] - ETA: 0s - loss: 0.0000e+00 - accuracy: 0.6038WARNING:tensorflow:Early stopping conditioned on metric `val_loss` which is not available. Available metrics are: loss,accuracy\n",
      "847/847 [==============================] - 2s 3ms/step - loss: 0.0000e+00 - accuracy: 0.6039\n",
      "Epoch 25/30\n",
      "843/847 [============================>.] - ETA: 0s - loss: 0.0000e+00 - accuracy: 0.6038WARNING:tensorflow:Early stopping conditioned on metric `val_loss` which is not available. Available metrics are: loss,accuracy\n",
      "847/847 [==============================] - 2s 3ms/step - loss: 0.0000e+00 - accuracy: 0.6039\n",
      "Epoch 26/30\n",
      "841/847 [============================>.] - ETA: 0s - loss: 0.0000e+00 - accuracy: 0.6039WARNING:tensorflow:Early stopping conditioned on metric `val_loss` which is not available. Available metrics are: loss,accuracy\n"
     ]
    },
    {
     "name": "stdout",
     "output_type": "stream",
     "text": [
      "847/847 [==============================] - 2s 3ms/step - loss: 0.0000e+00 - accuracy: 0.6039\n",
      "Epoch 27/30\n",
      "831/847 [============================>.] - ETA: 0s - loss: 0.0000e+00 - accuracy: 0.6042WARNING:tensorflow:Early stopping conditioned on metric `val_loss` which is not available. Available metrics are: loss,accuracy\n",
      "847/847 [==============================] - 2s 3ms/step - loss: 0.0000e+00 - accuracy: 0.6039\n",
      "Epoch 28/30\n",
      "834/847 [============================>.] - ETA: 0s - loss: 0.0000e+00 - accuracy: 0.6036WARNING:tensorflow:Early stopping conditioned on metric `val_loss` which is not available. Available metrics are: loss,accuracy\n",
      "847/847 [==============================] - 2s 3ms/step - loss: 0.0000e+00 - accuracy: 0.6039\n",
      "Epoch 29/30\n",
      "829/847 [============================>.] - ETA: 0s - loss: 0.0000e+00 - accuracy: 0.6044WARNING:tensorflow:Early stopping conditioned on metric `val_loss` which is not available. Available metrics are: loss,accuracy\n",
      "847/847 [==============================] - 2s 3ms/step - loss: 0.0000e+00 - accuracy: 0.6039\n",
      "Epoch 30/30\n",
      "828/847 [============================>.] - ETA: 0s - loss: 0.0000e+00 - accuracy: 0.6047WARNING:tensorflow:Early stopping conditioned on metric `val_loss` which is not available. Available metrics are: loss,accuracy\n",
      "847/847 [==============================] - 2s 2ms/step - loss: 0.0000e+00 - accuracy: 0.6039\n"
     ]
    }
   ],
   "source": [
    "history = model.fit(X_TFIDF.toarray(), y, verbose=1, epochs=30, validation_steps=0.3, callbacks=[early_stop],shuffle=True)"
   ]
  },
  {
   "cell_type": "code",
   "execution_count": null,
   "id": "449a9229",
   "metadata": {},
   "outputs": [],
   "source": []
  },
  {
   "cell_type": "code",
   "execution_count": null,
   "id": "919d7db0",
   "metadata": {},
   "outputs": [],
   "source": []
  },
  {
   "cell_type": "code",
   "execution_count": null,
   "id": "b5021181",
   "metadata": {},
   "outputs": [],
   "source": []
  },
  {
   "cell_type": "code",
   "execution_count": null,
   "id": "cf91101c",
   "metadata": {},
   "outputs": [],
   "source": []
  },
  {
   "cell_type": "code",
   "execution_count": null,
   "id": "b05754fb",
   "metadata": {},
   "outputs": [],
   "source": []
  },
  {
   "cell_type": "code",
   "execution_count": null,
   "id": "2f9582b3",
   "metadata": {},
   "outputs": [],
   "source": []
  },
  {
   "cell_type": "code",
   "execution_count": null,
   "id": "d2a3a8e0",
   "metadata": {},
   "outputs": [],
   "source": []
  },
  {
   "cell_type": "code",
   "execution_count": null,
   "id": "c2c656ae",
   "metadata": {},
   "outputs": [],
   "source": []
  },
  {
   "cell_type": "code",
   "execution_count": null,
   "id": "41a3fdac",
   "metadata": {},
   "outputs": [],
   "source": []
  },
  {
   "cell_type": "code",
   "execution_count": null,
   "id": "ada0a204",
   "metadata": {},
   "outputs": [],
   "source": []
  },
  {
   "cell_type": "code",
   "execution_count": null,
   "id": "f035e364",
   "metadata": {},
   "outputs": [],
   "source": []
  },
  {
   "cell_type": "markdown",
   "id": "558a79e0",
   "metadata": {},
   "source": [
    "# Model Building"
   ]
  },
  {
   "cell_type": "code",
   "execution_count": 16,
   "id": "ddc217e4",
   "metadata": {},
   "outputs": [],
   "source": [
    "from sklearn.model_selection import train_test_split\n",
    "from sklearn.model_selection import cross_val_score\n",
    "from sklearn.metrics import classification_report, confusion_matrix"
   ]
  },
  {
   "cell_type": "markdown",
   "id": "22e8f039",
   "metadata": {},
   "source": [
    "## 1. Logistic Regression"
   ]
  },
  {
   "cell_type": "markdown",
   "id": "79eaa202",
   "metadata": {},
   "source": [
    "### Bag of Words Model\n"
   ]
  },
  {
   "cell_type": "code",
   "execution_count": 17,
   "id": "2eca184e",
   "metadata": {},
   "outputs": [
    {
     "data": {
      "text/plain": [
       "0.9315150384997027"
      ]
     },
     "execution_count": 17,
     "metadata": {},
     "output_type": "execute_result"
    }
   ],
   "source": [
    "from sklearn.linear_model import LogisticRegression\n",
    "\n",
    "# Check Cross Validation Score\n",
    "\n",
    "clf_bow = LogisticRegression(random_state=42, max_iter=1000)\n",
    "np.average(cross_val_score(clf_bow, X_BOW, y, cv=10))"
   ]
  },
  {
   "cell_type": "code",
   "execution_count": 18,
   "id": "65da50d5",
   "metadata": {},
   "outputs": [
    {
     "data": {
      "text/plain": [
       "LogisticRegression(max_iter=1000, random_state=42)"
      ]
     },
     "execution_count": 18,
     "metadata": {},
     "output_type": "execute_result"
    }
   ],
   "source": [
    "# Model Building\n",
    "X_BOW_train, X_BOW_test, y_BOW_train, y_BOW_test = train_test_split(X_BOW,y, test_size=.33, random_state=40)\n",
    "\n",
    "clf_bow.fit(X_BOW_train, y_BOW_train)"
   ]
  },
  {
   "cell_type": "code",
   "execution_count": 19,
   "id": "657944de",
   "metadata": {},
   "outputs": [],
   "source": [
    "from sklearn.metrics import classification_report, confusion_matrix\n",
    "\n",
    "y_BOW_pred = clf_bow.predict(X_BOW_test)"
   ]
  },
  {
   "cell_type": "code",
   "execution_count": 20,
   "id": "5049b04d",
   "metadata": {},
   "outputs": [
    {
     "name": "stdout",
     "output_type": "stream",
     "text": [
      "              precision    recall  f1-score   support\n",
      "\n",
      "           0       0.93      0.91      0.92      3538\n",
      "           1       0.94      0.95      0.95      5406\n",
      "\n",
      "    accuracy                           0.94      8944\n",
      "   macro avg       0.94      0.93      0.93      8944\n",
      "weighted avg       0.94      0.94      0.94      8944\n",
      "\n"
     ]
    }
   ],
   "source": [
    "print(classification_report(y_BOW_test, y_BOW_pred))"
   ]
  },
  {
   "cell_type": "code",
   "execution_count": 21,
   "id": "8f9f22e6",
   "metadata": {},
   "outputs": [
    {
     "name": "stdout",
     "output_type": "stream",
     "text": [
      "[[3232  306]\n",
      " [ 250 5156]]\n"
     ]
    },
    {
     "data": {
      "image/png": "[encoded data removed]",
      "text/plain": [
       "<Figure size 432x288 with 2 Axes>"
      ]
     },
     "metadata": {
      "needs_background": "light"
     },
     "output_type": "display_data"
    }
   ],
   "source": [
    "print(confusion_matrix(y_BOW_test, y_BOW_pred))\n",
    "sns.heatmap(confusion_matrix(y_BOW_test, y_BOW_pred))\n",
    "plt.show()"
   ]
  },
  {
   "cell_type": "code",
   "execution_count": 22,
   "id": "9c45bb88",
   "metadata": {},
   "outputs": [
    {
     "data": {
      "text/plain": [
       "array([1, 1, 0, 1, 1])"
      ]
     },
     "execution_count": 22,
     "metadata": {},
     "output_type": "execute_result"
    }
   ],
   "source": [
    "# Make Prediction\n",
    "\n",
    "clf_bow.predict(Count_Vectorizer.transform([\"i am Ujjwal\", \"i am happy\",\"ever feeling nostalgic fireplace know still note property\", \"i am sad\", \"i did not feel humiliated\"]))"
   ]
  },
  {
   "cell_type": "code",
   "execution_count": 23,
   "id": "8d6c6865",
   "metadata": {},
   "outputs": [
    {
     "data": {
      "text/plain": [
       "1.6007072237830255"
      ]
     },
     "execution_count": 23,
     "metadata": {},
     "output_type": "execute_result"
    }
   ],
   "source": [
    "# Get Weight of a word\n",
    "\n",
    "clf_bow.coef_[0][list(Count_Vectorizer.get_feature_names_out()).index(\"sad\")]"
   ]
  },
  {
   "cell_type": "code",
   "execution_count": 24,
   "id": "c8f98857",
   "metadata": {},
   "outputs": [
    {
     "data": {
      "text/plain": [
       "-0.7308190553752932"
      ]
     },
     "execution_count": 24,
     "metadata": {},
     "output_type": "execute_result"
    }
   ],
   "source": [
    "clf_bow.coef_[0][list(Count_Vectorizer.get_feature_names_out()).index(\"happy\")]"
   ]
  },
  {
   "cell_type": "markdown",
   "id": "3fa4e94d",
   "metadata": {},
   "source": [
    "### TF-IDF Model"
   ]
  },
  {
   "cell_type": "code",
   "execution_count": 25,
   "id": "40bc645d",
   "metadata": {},
   "outputs": [],
   "source": [
    "X_TFIDF_train, X_TFIDF_test, y_TFIDF_train, y_TFIDF_test = train_test_split(X_TFIDF,y, test_size=.33, random_state=40)"
   ]
  },
  {
   "cell_type": "code",
   "execution_count": 26,
   "id": "c08140aa",
   "metadata": {},
   "outputs": [
    {
     "data": {
      "text/plain": [
       "(18157, 17241)"
      ]
     },
     "execution_count": 26,
     "metadata": {},
     "output_type": "execute_result"
    }
   ],
   "source": [
    "X_TFIDF_train.shape"
   ]
  },
  {
   "cell_type": "code",
   "execution_count": 27,
   "id": "1a272e5e",
   "metadata": {},
   "outputs": [
    {
     "data": {
      "text/plain": [
       "(8944, 17241)"
      ]
     },
     "execution_count": 27,
     "metadata": {},
     "output_type": "execute_result"
    }
   ],
   "source": [
    "X_TFIDF_test.shape"
   ]
  },
  {
   "cell_type": "code",
   "execution_count": 28,
   "id": "fb556927",
   "metadata": {},
   "outputs": [
    {
     "data": {
      "text/plain": [
       "0.9125116615238452"
      ]
     },
     "execution_count": 28,
     "metadata": {},
     "output_type": "execute_result"
    }
   ],
   "source": [
    "from sklearn.linear_model import LogisticRegression\n",
    "\n",
    "# Check Cross Validation Score\n",
    "\n",
    "clf_TFIDF = LogisticRegression(random_state=42, max_iter=1000)\n",
    "np.average(cross_val_score(clf_TFIDF, X_TFIDF, y, cv=10))"
   ]
  },
  {
   "cell_type": "code",
   "execution_count": 29,
   "id": "91e386d3",
   "metadata": {},
   "outputs": [
    {
     "data": {
      "text/plain": [
       "LogisticRegression(max_iter=1000, random_state=42)"
      ]
     },
     "execution_count": 29,
     "metadata": {},
     "output_type": "execute_result"
    }
   ],
   "source": [
    "# Model Building\n",
    "\n",
    "clf_TFIDF.fit(X_TFIDF_train, y_TFIDF_train)"
   ]
  },
  {
   "cell_type": "code",
   "execution_count": 30,
   "id": "86a9c508",
   "metadata": {},
   "outputs": [],
   "source": [
    "y_TFIDF_pred = clf_TFIDF.predict(X_TFIDF_test)"
   ]
  },
  {
   "cell_type": "code",
   "execution_count": 31,
   "id": "7e1242ad",
   "metadata": {},
   "outputs": [
    {
     "name": "stdout",
     "output_type": "stream",
     "text": [
      "              precision    recall  f1-score   support\n",
      "\n",
      "           0       0.85      0.95      0.90      3183\n",
      "           1       0.97      0.91      0.94      5761\n",
      "\n",
      "    accuracy                           0.92      8944\n",
      "   macro avg       0.91      0.93      0.92      8944\n",
      "weighted avg       0.93      0.92      0.92      8944\n",
      "\n"
     ]
    }
   ],
   "source": [
    "print(classification_report(y_TFIDF_pred, y_TFIDF_test))"
   ]
  },
  {
   "cell_type": "code",
   "execution_count": 32,
   "id": "1bb9e577",
   "metadata": {},
   "outputs": [
    {
     "name": "stdout",
     "output_type": "stream",
     "text": [
      "[[3009  529]\n",
      " [ 174 5232]]\n"
     ]
    },
    {
     "data": {
      "image/png": "[encoded data removed]",
      "text/plain": [
       "<Figure size 432x288 with 2 Axes>"
      ]
     },
     "metadata": {
      "needs_background": "light"
     },
     "output_type": "display_data"
    }
   ],
   "source": [
    "print(confusion_matrix(y_TFIDF_test, y_TFIDF_pred))\n",
    "sns.heatmap(confusion_matrix(y_TFIDF_test, y_TFIDF_pred))\n",
    "plt.show()"
   ]
  },
  {
   "cell_type": "code",
   "execution_count": 33,
   "id": "067c76a1",
   "metadata": {},
   "outputs": [
    {
     "data": {
      "text/plain": [
       "array([1, 1, 1])"
      ]
     },
     "execution_count": 33,
     "metadata": {},
     "output_type": "execute_result"
    }
   ],
   "source": [
    "# Make Prediction\n",
    "\n",
    "clf_TFIDF.predict(Tfidf_Vectorizer.transform([\"i am ujjwal\", \"i am happy\", \"i am sad\"]))"
   ]
  },
  {
   "cell_type": "code",
   "execution_count": 34,
   "id": "04c5c8ff",
   "metadata": {},
   "outputs": [
    {
     "data": {
      "text/plain": [
       "2.6957359184457212"
      ]
     },
     "execution_count": 34,
     "metadata": {},
     "output_type": "execute_result"
    }
   ],
   "source": [
    "# Get Weight of a word\n",
    "\n",
    "clf_TFIDF.coef_[0][list(Tfidf_Vectorizer.get_feature_names_out()).index(\"sad\")]"
   ]
  },
  {
   "cell_type": "code",
   "execution_count": 35,
   "id": "7ccc1969",
   "metadata": {},
   "outputs": [
    {
     "data": {
      "text/plain": [
       "-1.7731857763302126"
      ]
     },
     "execution_count": 35,
     "metadata": {},
     "output_type": "execute_result"
    }
   ],
   "source": [
    "clf_TFIDF.coef_[0][list(Tfidf_Vectorizer.get_feature_names_out()).index(\"happy\")]"
   ]
  },
  {
   "cell_type": "markdown",
   "id": "d4449f3f",
   "metadata": {},
   "source": [
    "## 2. Support Vector Machine"
   ]
  },
  {
   "cell_type": "markdown",
   "id": "ac53766b",
   "metadata": {},
   "source": [
    "### Bag of Words model\n",
    "\n",
    "### 1. Linear Kernal\n",
    "\n",
    "Linear Kernel is used when the data is Linearly separable, that is, it can be separated using a single Line. It is mostly used when there are a Large number of Features in a particular Data Set. One of the examples where there are a lot of features, is Text Classification, as each alphabet is a new feature. So we mostly use Linear Kernel in Text Classification"
   ]
  },
  {
   "cell_type": "code",
   "execution_count": 36,
   "id": "57a12376",
   "metadata": {},
   "outputs": [
    {
     "data": {
      "text/plain": [
       "0.931015205724508"
      ]
     },
     "execution_count": 36,
     "metadata": {},
     "output_type": "execute_result"
    }
   ],
   "source": [
    "from sklearn import svm\n",
    "\n",
    "svc = svm.SVC(kernel ='linear', C = 1)\n",
    "svc.fit(X_BOW_train, y_BOW_train)\n",
    "\n",
    "y_BOW_pred = svc.predict(X_BOW_test)\n",
    "\n",
    "accuracy_score(y_BOW_pred, y_BOW_test)"
   ]
  },
  {
   "cell_type": "code",
   "execution_count": 37,
   "id": "93fc6318",
   "metadata": {},
   "outputs": [
    {
     "data": {
      "text/plain": [
       "array([1, 1, 1])"
      ]
     },
     "execution_count": 37,
     "metadata": {},
     "output_type": "execute_result"
    }
   ],
   "source": [
    "svc.predict(Count_Vectorizer.transform([\"i am ujjwal\", \"i am happy\", \"i am sad\"]))"
   ]
  },
  {
   "cell_type": "code",
   "execution_count": 38,
   "id": "cca03cb4",
   "metadata": {},
   "outputs": [
    {
     "name": "stdout",
     "output_type": "stream",
     "text": [
      "              precision    recall  f1-score   support\n",
      "\n",
      "           0       0.92      0.91      0.91      3557\n",
      "           1       0.94      0.94      0.94      5387\n",
      "\n",
      "    accuracy                           0.93      8944\n",
      "   macro avg       0.93      0.93      0.93      8944\n",
      "weighted avg       0.93      0.93      0.93      8944\n",
      "\n"
     ]
    }
   ],
   "source": [
    "print(classification_report(y_BOW_pred, y_BOW_test))"
   ]
  },
  {
   "cell_type": "code",
   "execution_count": 39,
   "id": "a5176ece",
   "metadata": {},
   "outputs": [
    {
     "name": "stdout",
     "output_type": "stream",
     "text": [
      "[[3239  299]\n",
      " [ 318 5088]]\n"
     ]
    },
    {
     "data": {
      "text/plain": [
       "<AxesSubplot:>"
      ]
     },
     "execution_count": 39,
     "metadata": {},
     "output_type": "execute_result"
    },
    {
     "data": {
      "image/png": "[encoded data removed]",
      "text/plain": [
       "<Figure size 432x288 with 2 Axes>"
      ]
     },
     "metadata": {
      "needs_background": "light"
     },
     "output_type": "display_data"
    }
   ],
   "source": [
    "print(confusion_matrix(y_BOW_test, y_BOW_pred))\n",
    "sns.heatmap(confusion_matrix(y_BOW_test, y_BOW_pred))"
   ]
  },
  {
   "cell_type": "markdown",
   "id": "83c9ff38",
   "metadata": {},
   "source": [
    "### 2. Polynomial Kernal\n"
   ]
  },
  {
   "cell_type": "code",
   "execution_count": 40,
   "id": "52c7c1a1",
   "metadata": {},
   "outputs": [
    {
     "data": {
      "text/plain": [
       "0.6681574239713775"
      ]
     },
     "execution_count": 40,
     "metadata": {},
     "output_type": "execute_result"
    }
   ],
   "source": [
    "from sklearn import svm\n",
    "\n",
    "svc = svm.SVC(kernel ='poly', C = 1)\n",
    "svc.fit(X_BOW_train, y_BOW_train)\n",
    "accuracy_score(svc.predict(X_BOW_test), y_BOW_test)"
   ]
  },
  {
   "cell_type": "code",
   "execution_count": 128,
   "id": "b5abc0bc",
   "metadata": {},
   "outputs": [
    {
     "data": {
      "text/plain": [
       "array([1, 1, 1])"
      ]
     },
     "execution_count": 128,
     "metadata": {},
     "output_type": "execute_result"
    }
   ],
   "source": [
    "svc.predict(Count_Vectorizer.transform([\"i am ujjwal\", \"i am happy\", \"i am sad\"]))"
   ]
  },
  {
   "cell_type": "markdown",
   "id": "abb904de",
   "metadata": {},
   "source": [
    "### 3. Gaussian Kernal"
   ]
  },
  {
   "cell_type": "code",
   "execution_count": null,
   "id": "f4fe3ebe",
   "metadata": {},
   "outputs": [],
   "source": [
    "from sklearn import svm\n",
    "\n",
    "svc = svm.SVC(kernel ='poly', C = 1)\n",
    "svc.fit(X_BOW_train, y_BOW_train)\n",
    "accuracy_score(svc.predict(X_BOW_test), y_BOW_test)"
   ]
  },
  {
   "cell_type": "code",
   "execution_count": null,
   "id": "38490c8b",
   "metadata": {},
   "outputs": [],
   "source": []
  },
  {
   "cell_type": "code",
   "execution_count": null,
   "id": "f57210ec",
   "metadata": {},
   "outputs": [],
   "source": []
  },
  {
   "cell_type": "code",
   "execution_count": null,
   "id": "5941a2ae",
   "metadata": {},
   "outputs": [],
   "source": []
  },
  {
   "cell_type": "code",
   "execution_count": null,
   "id": "1a082025",
   "metadata": {},
   "outputs": [],
   "source": []
  },
  {
   "cell_type": "code",
   "execution_count": null,
   "id": "2f835b50",
   "metadata": {},
   "outputs": [],
   "source": []
  },
  {
   "cell_type": "code",
   "execution_count": null,
   "id": "95c7b408",
   "metadata": {},
   "outputs": [],
   "source": []
  },
  {
   "cell_type": "code",
   "execution_count": null,
   "id": "f2a55c84",
   "metadata": {},
   "outputs": [],
   "source": []
  },
  {
   "cell_type": "code",
   "execution_count": null,
   "id": "1d690237",
   "metadata": {},
   "outputs": [],
   "source": []
  },
  {
   "cell_type": "code",
   "execution_count": null,
   "id": "4037b95e",
   "metadata": {},
   "outputs": [],
   "source": []
  },
  {
   "cell_type": "code",
   "execution_count": null,
   "id": "a3148d9a",
   "metadata": {},
   "outputs": [],
   "source": []
  },
  {
   "cell_type": "code",
   "execution_count": null,
   "id": "2f79c40b",
   "metadata": {},
   "outputs": [],
   "source": []
  },
  {
   "cell_type": "code",
   "execution_count": null,
   "id": "6a386781",
   "metadata": {},
   "outputs": [],
   "source": []
  },
  {
   "cell_type": "code",
   "execution_count": 46,
   "id": "ca344c0f",
   "metadata": {},
   "outputs": [],
   "source": [
    "from gensim.models import Word2Vec"
   ]
  },
  {
   "cell_type": "code",
   "execution_count": 47,
   "id": "784b02aa",
   "metadata": {},
   "outputs": [],
   "source": [
    "model = Word2Vec(data.lemmatizer)"
   ]
  },
  {
   "cell_type": "code",
   "execution_count": 51,
   "id": "f332d517",
   "metadata": {},
   "outputs": [
    {
     "data": {
      "text/plain": [
       "(4960, 100)"
      ]
     },
     "execution_count": 51,
     "metadata": {},
     "output_type": "execute_result"
    }
   ],
   "source": [
    "model.wv.vectors.shape"
   ]
  },
  {
   "cell_type": "code",
   "execution_count": 52,
   "id": "d8842e04",
   "metadata": {},
   "outputs": [
    {
     "data": {
      "text/plain": [
       "(27101,)"
      ]
     },
     "execution_count": 52,
     "metadata": {},
     "output_type": "execute_result"
    }
   ],
   "source": [
    "data.lemmatizer.shape"
   ]
  },
  {
   "cell_type": "code",
   "execution_count": 74,
   "id": "8631b311",
   "metadata": {},
   "outputs": [
    {
     "data": {
      "text/plain": [
       "[('alone', 0.9961678385734558),\n",
       " ('also', 0.997504711151123),\n",
       " ('awkward', 0.9960864782333374),\n",
       " ('hate', 0.9970659017562866),\n",
       " ('intimidated', 0.9962077140808105),\n",
       " ('mad', 0.9966421723365784),\n",
       " ('scared', 0.997677206993103),\n",
       " ('thirty', 0.9970403909683228),\n",
       " ('unhappy', 0.9971572756767273),\n",
       " ('weird', 0.9974347949028015)]"
      ]
     },
     "execution_count": 74,
     "metadata": {},
     "output_type": "execute_result"
    }
   ],
   "source": [
    "sorted(model.wv.most_similar(\"sad\"))"
   ]
  },
  {
   "cell_type": "code",
   "execution_count": 92,
   "id": "666fb3a2",
   "metadata": {},
   "outputs": [
    {
     "data": {
      "text/plain": [
       "{'through',\n",
       " 'bring',\n",
       " 'touched',\n",
       " 'soup',\n",
       " 'ancient',\n",
       " 'cent',\n",
       " 'sleeping',\n",
       " 'produce',\n",
       " 'to',\n",
       " 'excellent',\n",
       " 'creativity',\n",
       " 'collection',\n",
       " 'stroll',\n",
       " 'drained',\n",
       " 'severe',\n",
       " 'pleased',\n",
       " 'jack',\n",
       " 'partly',\n",
       " 'reaction',\n",
       " 'clean',\n",
       " 'justify',\n",
       " 'pressed',\n",
       " 'havana',\n",
       " 'dependent',\n",
       " 'afraid',\n",
       " 'dropped',\n",
       " 'logical',\n",
       " 'document',\n",
       " 'low',\n",
       " 'pour',\n",
       " 'ham',\n",
       " 'president',\n",
       " 'gene',\n",
       " 'desperate',\n",
       " 'stressing',\n",
       " 'bare',\n",
       " 'musical',\n",
       " 'least',\n",
       " 'lake',\n",
       " 'comparing',\n",
       " 'awake',\n",
       " 'relieved',\n",
       " 'wednesday',\n",
       " 'shipping',\n",
       " 'arch',\n",
       " 'cooped',\n",
       " 'never',\n",
       " 'husband',\n",
       " 'interesting',\n",
       " 'tag',\n",
       " 'word',\n",
       " 'food',\n",
       " 'relate',\n",
       " 'music',\n",
       " 'jazz',\n",
       " 'insincere',\n",
       " 'distant',\n",
       " 'neutral',\n",
       " 'sorted',\n",
       " 'fearless',\n",
       " 'backed',\n",
       " 'gross',\n",
       " 'cancel',\n",
       " 'actually',\n",
       " 'together',\n",
       " 'traveling',\n",
       " 'climbing',\n",
       " 'potentially',\n",
       " 'tempered',\n",
       " 'park',\n",
       " 'continuing',\n",
       " 'quitting',\n",
       " 'whole',\n",
       " 'single',\n",
       " 'region',\n",
       " 'june',\n",
       " 'answered',\n",
       " 'twenty',\n",
       " 'fever',\n",
       " 'market',\n",
       " 'repressed',\n",
       " 'canceled',\n",
       " 'him',\n",
       " 'oddly',\n",
       " 'mixture',\n",
       " 'belly',\n",
       " 'rose',\n",
       " 'cruel',\n",
       " 'definition',\n",
       " 'expressing',\n",
       " 'trip',\n",
       " 'maiden',\n",
       " 'hole',\n",
       " 'locked',\n",
       " 'greater',\n",
       " 'beginning',\n",
       " 'mention',\n",
       " '―',\n",
       " 'crashing',\n",
       " 'echo',\n",
       " 'editor',\n",
       " 'maggie',\n",
       " 'pen',\n",
       " 'action',\n",
       " 'forest',\n",
       " 'frozen',\n",
       " 'sorry',\n",
       " 'accomplishing',\n",
       " 'c',\n",
       " 'dangerous',\n",
       " 'weep',\n",
       " 'gay',\n",
       " 'lifetime',\n",
       " 'beach',\n",
       " 'pity',\n",
       " 'passion',\n",
       " 'celebrated',\n",
       " 'combine',\n",
       " 'projection',\n",
       " 'ruin',\n",
       " 'reporter',\n",
       " 'despondency',\n",
       " 'looting',\n",
       " 'quite',\n",
       " 'basis',\n",
       " 'from',\n",
       " 'antrum',\n",
       " 'honoured',\n",
       " 'gather',\n",
       " 'disgusted',\n",
       " 'despair',\n",
       " 'bedroom',\n",
       " 'selling',\n",
       " 'convince',\n",
       " 'holder',\n",
       " 'bound',\n",
       " 'syndrome',\n",
       " 'forehead',\n",
       " 'ex',\n",
       " 'accepting',\n",
       " 'again',\n",
       " 'yuri',\n",
       " 'french',\n",
       " 'authentic',\n",
       " 'page',\n",
       " 'generation',\n",
       " 'version',\n",
       " 'temporarily',\n",
       " 'fall',\n",
       " 'second',\n",
       " 'contented',\n",
       " 'silently',\n",
       " 'stream',\n",
       " 'closet',\n",
       " 'sell',\n",
       " 'rank',\n",
       " 'super',\n",
       " 'piano',\n",
       " 'personally',\n",
       " 'nominated',\n",
       " 'popped',\n",
       " 'lot',\n",
       " 'psychology',\n",
       " 'crossed',\n",
       " 'economy',\n",
       " 'supporting',\n",
       " 'socialmedia',\n",
       " 'sacred',\n",
       " 'ohio',\n",
       " 'per',\n",
       " 'serious',\n",
       " 'calmer',\n",
       " 'pipe',\n",
       " 'round',\n",
       " 'speed',\n",
       " 'woman',\n",
       " 'beyond',\n",
       " '😞',\n",
       " 'threat',\n",
       " 'proper',\n",
       " 'lunch',\n",
       " 'painted',\n",
       " 'appreciation',\n",
       " 'adam',\n",
       " 'prayed',\n",
       " 'check',\n",
       " 'socially',\n",
       " 'mike',\n",
       " 'raised',\n",
       " 'clown',\n",
       " 'shared',\n",
       " 'financially',\n",
       " 'towel',\n",
       " 'consumed',\n",
       " 'yes',\n",
       " 'grandparent',\n",
       " 'openly',\n",
       " 'amazing',\n",
       " 'til',\n",
       " 'goodby',\n",
       " 'olympic',\n",
       " 'picking',\n",
       " 'official',\n",
       " 'relation',\n",
       " 'tossing',\n",
       " 'nicholas',\n",
       " 'foggy',\n",
       " 'rolled',\n",
       " 'ludicrous',\n",
       " 'strategy',\n",
       " 'pessimism',\n",
       " 'album',\n",
       " 'furious',\n",
       " 'intensely',\n",
       " 'shouting',\n",
       " 'insight',\n",
       " 'simultaneously',\n",
       " 'certainly',\n",
       " 'dollar',\n",
       " 'latest',\n",
       " 'ignorance',\n",
       " 'determined',\n",
       " 'direct',\n",
       " 'seen',\n",
       " 'raise',\n",
       " 'premature',\n",
       " 'regain',\n",
       " 'breast',\n",
       " 'life',\n",
       " 'bullshit',\n",
       " 'cool',\n",
       " 'crush',\n",
       " 'elated',\n",
       " 'and',\n",
       " 'generous',\n",
       " 'hannah',\n",
       " 'beaten',\n",
       " 'memory',\n",
       " 'sens',\n",
       " 'rainy',\n",
       " 'lifestyle',\n",
       " 'arrives',\n",
       " 'bridge',\n",
       " 'model',\n",
       " 'movement',\n",
       " 'strength',\n",
       " 'sandwich',\n",
       " 'rising',\n",
       " 'analyzing',\n",
       " 'ward',\n",
       " 'u',\n",
       " 'trivial',\n",
       " 'capacity',\n",
       " 'keeping',\n",
       " 'burned',\n",
       " 'legend',\n",
       " 'popular',\n",
       " 'biggest',\n",
       " 'certain',\n",
       " 'balanced',\n",
       " 'weekly',\n",
       " 'magazine',\n",
       " 'refugee',\n",
       " 'cause',\n",
       " 'bone',\n",
       " 'enraged',\n",
       " 'journalist',\n",
       " 'tattoo',\n",
       " 'affected',\n",
       " 'mirth',\n",
       " 'parallel',\n",
       " 'ruining',\n",
       " 'designer',\n",
       " 'praise',\n",
       " 'calming',\n",
       " 'heaviness',\n",
       " 'fighting',\n",
       " 'divided',\n",
       " 'health',\n",
       " 'disgusting',\n",
       " 'fluid',\n",
       " 'feedback',\n",
       " 'walk',\n",
       " 'excited',\n",
       " 'taking',\n",
       " 'disorder',\n",
       " 'ch',\n",
       " 'sometimes',\n",
       " 'isolation',\n",
       " 'tension',\n",
       " 'nobody',\n",
       " 'lively',\n",
       " 'delayed',\n",
       " 'significant',\n",
       " 'candidate',\n",
       " 'writing',\n",
       " 'press',\n",
       " 'ungrateful',\n",
       " 'garrett',\n",
       " 'treatment',\n",
       " 'courage',\n",
       " 'another',\n",
       " 'next',\n",
       " 'estate',\n",
       " 'court',\n",
       " 'prime',\n",
       " 'would',\n",
       " 'silence',\n",
       " 'attended',\n",
       " 'neighbor',\n",
       " 'tied',\n",
       " 'did',\n",
       " 'mr',\n",
       " 'easy',\n",
       " 'respond',\n",
       " 'awareness',\n",
       " 'granted',\n",
       " 'click',\n",
       " 'unable',\n",
       " 'an',\n",
       " 'deserved',\n",
       " 'plug',\n",
       " 'singapore',\n",
       " 'splendid',\n",
       " 'swing',\n",
       " 'unsuccessful',\n",
       " 'nod',\n",
       " 'spray',\n",
       " 'machine',\n",
       " 'runner',\n",
       " 'none',\n",
       " 'uplift',\n",
       " 'neglectful',\n",
       " 'resentful',\n",
       " 'birch',\n",
       " 'marie',\n",
       " '4',\n",
       " 'agitated',\n",
       " 'participate',\n",
       " 'loyalty',\n",
       " 'obvious',\n",
       " 'angle',\n",
       " 'disability',\n",
       " 'unacceptable',\n",
       " 'confusion',\n",
       " 'spy',\n",
       " 'sub',\n",
       " 'desert',\n",
       " 'block',\n",
       " 'peter',\n",
       " 'religious',\n",
       " 'remove',\n",
       " 'upright',\n",
       " 'adjust',\n",
       " 'building',\n",
       " 'poster',\n",
       " 'beast',\n",
       " 'reduce',\n",
       " 'attention',\n",
       " 'complacent',\n",
       " 'addition',\n",
       " 'denied',\n",
       " 'application',\n",
       " 'revealed',\n",
       " 'end',\n",
       " 'st',\n",
       " 'rested',\n",
       " 'production',\n",
       " 'race',\n",
       " 'directly',\n",
       " 'little',\n",
       " '20',\n",
       " 'hook',\n",
       " 'know',\n",
       " 'genuinely',\n",
       " 'male',\n",
       " 'tail',\n",
       " 'rabid',\n",
       " 'shiny',\n",
       " 'oregon',\n",
       " 'pressure',\n",
       " 'comforted',\n",
       " 'spell',\n",
       " 'admit',\n",
       " 'genius',\n",
       " 'sarah',\n",
       " 'provoke',\n",
       " 'neither',\n",
       " 'designed',\n",
       " 'annoyed',\n",
       " 'emerging',\n",
       " 'huge',\n",
       " 'confess',\n",
       " 'lay',\n",
       " 'lose',\n",
       " 'forever',\n",
       " 'marketing',\n",
       " '💕',\n",
       " 'amongst',\n",
       " 'corn',\n",
       " 'brighter',\n",
       " 'rudely',\n",
       " 'charmed',\n",
       " 'enthusiastic',\n",
       " 'starved',\n",
       " 'hacked',\n",
       " 'squad',\n",
       " 'bah',\n",
       " 'liveliness',\n",
       " 'status',\n",
       " 'included',\n",
       " 'piling',\n",
       " 'skill',\n",
       " 'entertainment',\n",
       " 'address',\n",
       " 'drove',\n",
       " 'phil',\n",
       " 'furniture',\n",
       " 'win',\n",
       " 'reputation',\n",
       " 'drain',\n",
       " 'hesitate',\n",
       " 'opened',\n",
       " 'happens',\n",
       " 'ra',\n",
       " 'horny',\n",
       " 'inspiring',\n",
       " 'inability',\n",
       " 'melbourne',\n",
       " 'state',\n",
       " 'sign',\n",
       " 'tying',\n",
       " 'tends',\n",
       " 'however',\n",
       " 'lest',\n",
       " 'rousing',\n",
       " 'might',\n",
       " 'chasing',\n",
       " 'penny',\n",
       " 'infection',\n",
       " 'mainstream',\n",
       " 'marry',\n",
       " 'riot',\n",
       " 'disrespected',\n",
       " 'posting',\n",
       " 'fabulous',\n",
       " 'our',\n",
       " 'love',\n",
       " 'source',\n",
       " 'diverse',\n",
       " 'dish',\n",
       " 'want',\n",
       " 'figure',\n",
       " 'outdoor',\n",
       " 'serve',\n",
       " 'nurse',\n",
       " 'scream',\n",
       " 'release',\n",
       " 'mode',\n",
       " 'rarely',\n",
       " 'comedy',\n",
       " 'association',\n",
       " 'fate',\n",
       " 'dealing',\n",
       " 'silk',\n",
       " 'hide',\n",
       " '21',\n",
       " 'china',\n",
       " 'engagement',\n",
       " 'author',\n",
       " 'si',\n",
       " 'independent',\n",
       " 'scar',\n",
       " 'dire',\n",
       " 'foot',\n",
       " 'fiery',\n",
       " 'success',\n",
       " 'order',\n",
       " 'lazy',\n",
       " 'budget',\n",
       " 'heroine',\n",
       " 'lying',\n",
       " 'disappointed',\n",
       " 'photographer',\n",
       " 'interest',\n",
       " 'relevant',\n",
       " 'embarrassment',\n",
       " 'train',\n",
       " '11',\n",
       " 'pleasing',\n",
       " 'tense',\n",
       " 'shocking',\n",
       " 'radiation',\n",
       " 'dared',\n",
       " 'lied',\n",
       " 'floor',\n",
       " 'select',\n",
       " 'match',\n",
       " 'resolution',\n",
       " 'un',\n",
       " 'sundry',\n",
       " 'your',\n",
       " 'outrage',\n",
       " 'ca',\n",
       " 'holy',\n",
       " 'survivor',\n",
       " 'christian',\n",
       " 'playing',\n",
       " 'ashamed',\n",
       " 'priest',\n",
       " 'devoid',\n",
       " 'request',\n",
       " 'pot',\n",
       " 'regard',\n",
       " 'call',\n",
       " 'light',\n",
       " 'veto',\n",
       " 'employee',\n",
       " 'sans',\n",
       " 'happily',\n",
       " 'named',\n",
       " 'devastating',\n",
       " 'mud',\n",
       " 'tour',\n",
       " 'peaceful',\n",
       " 'explain',\n",
       " 'exciting',\n",
       " 'access',\n",
       " 'apology',\n",
       " 'freshness',\n",
       " 'alarmed',\n",
       " 'sold',\n",
       " 'slight',\n",
       " 'canvas',\n",
       " 'thy',\n",
       " 'awhile',\n",
       " 'sacrifice',\n",
       " 'procedure',\n",
       " 'plastic',\n",
       " 'optimism',\n",
       " 'affliction',\n",
       " 'cheap',\n",
       " 'fraud',\n",
       " 'remote',\n",
       " 'sparkle',\n",
       " 'risk',\n",
       " 'chose',\n",
       " 'spare',\n",
       " 'saw',\n",
       " 'stop',\n",
       " 'hollywood',\n",
       " 'trial',\n",
       " 'polished',\n",
       " 'se',\n",
       " 'expression',\n",
       " 'affair',\n",
       " 'nausea',\n",
       " 'learning',\n",
       " 'ordinary',\n",
       " 'actual',\n",
       " 'chink',\n",
       " 'between',\n",
       " 'd',\n",
       " 'paw',\n",
       " 'ice',\n",
       " 'had',\n",
       " 'hesitation',\n",
       " 'unwelcome',\n",
       " 'jackson',\n",
       " 'bob',\n",
       " 'testing',\n",
       " 'sol',\n",
       " 'replacement',\n",
       " 'pm',\n",
       " 'perfect',\n",
       " 'landscape',\n",
       " 'gotten',\n",
       " 'financial',\n",
       " 'defect',\n",
       " 'height',\n",
       " 'large',\n",
       " 'flowing',\n",
       " 'chocolate',\n",
       " 'clearer',\n",
       " 'pursuing',\n",
       " 'west',\n",
       " 'femme',\n",
       " 'responded',\n",
       " 'buzz',\n",
       " 'spider',\n",
       " 'set',\n",
       " 'comfort',\n",
       " 'drill',\n",
       " 'no',\n",
       " 'lightly',\n",
       " 'unique',\n",
       " 'aggravate',\n",
       " 'what',\n",
       " 'delusion',\n",
       " 'missed',\n",
       " 'nothing',\n",
       " 'kick',\n",
       " 'double',\n",
       " 'restaurant',\n",
       " 'reasoning',\n",
       " 'regretful',\n",
       " 'racing',\n",
       " 'hurry',\n",
       " 'harmful',\n",
       " '8',\n",
       " 'known',\n",
       " 'verse',\n",
       " 'survey',\n",
       " 'jug',\n",
       " 'wishing',\n",
       " 'client',\n",
       " 'exhausted',\n",
       " 'broadcast',\n",
       " 'humbled',\n",
       " 'truthful',\n",
       " 'owe',\n",
       " 'bundle',\n",
       " 'east',\n",
       " 'mask',\n",
       " 'snug',\n",
       " 'quit',\n",
       " 'inevitable',\n",
       " 'hearing',\n",
       " 'expose',\n",
       " 'may',\n",
       " 'domo',\n",
       " 'meeting',\n",
       " 'settled',\n",
       " 'asking',\n",
       " 'rice',\n",
       " 'assumption',\n",
       " 'paused',\n",
       " 'mixed',\n",
       " 'gate',\n",
       " 'upper',\n",
       " 'notre',\n",
       " 'ministry',\n",
       " '70',\n",
       " 'wing',\n",
       " 'die',\n",
       " 'immature',\n",
       " 'defeated',\n",
       " 'intimidate',\n",
       " 'investment',\n",
       " 'forgiving',\n",
       " 'dull',\n",
       " 'pulled',\n",
       " 'drawing',\n",
       " 'recent',\n",
       " 'mon',\n",
       " 'noise',\n",
       " 'julia',\n",
       " 'warfare',\n",
       " 'marathon',\n",
       " 'manila',\n",
       " 'importantly',\n",
       " 'netflix',\n",
       " 'act',\n",
       " 'foreign',\n",
       " 'base',\n",
       " 'settling',\n",
       " 'pas',\n",
       " 'differently',\n",
       " 'commercial',\n",
       " 'others',\n",
       " 'jungle',\n",
       " 'cheek',\n",
       " '9',\n",
       " 'candy',\n",
       " 'forth',\n",
       " 'monster',\n",
       " 'brief',\n",
       " 'typical',\n",
       " 'contributed',\n",
       " 'apparent',\n",
       " 'later',\n",
       " 'withdrawal',\n",
       " 'old',\n",
       " 'environment',\n",
       " 'currently',\n",
       " 'duke',\n",
       " 'dizzy',\n",
       " 'spoiled',\n",
       " 'thanks',\n",
       " 'released',\n",
       " 'queue',\n",
       " 'needy',\n",
       " 'quiet',\n",
       " 'grandmother',\n",
       " 'shaking',\n",
       " 'freak',\n",
       " 'apparently',\n",
       " 'finishing',\n",
       " 'begun',\n",
       " 'affront',\n",
       " 'pill',\n",
       " 'fitting',\n",
       " 'whether',\n",
       " 'charming',\n",
       " 'revelation',\n",
       " 'scotland',\n",
       " 'enter',\n",
       " 'warrior',\n",
       " 'notion',\n",
       " 'engaging',\n",
       " 'search',\n",
       " 'coffee',\n",
       " 'intent',\n",
       " 'system',\n",
       " 'fix',\n",
       " 'sensory',\n",
       " 'tell',\n",
       " 'saying',\n",
       " 'respectful',\n",
       " 'valued',\n",
       " 'sweating',\n",
       " 'protesting',\n",
       " 'crime',\n",
       " 'confrontation',\n",
       " 'lawton',\n",
       " 'becoming',\n",
       " 'tall',\n",
       " 'month',\n",
       " 'fret',\n",
       " 'wished',\n",
       " 'alive',\n",
       " 'considered',\n",
       " 'priority',\n",
       " 'killed',\n",
       " 'question',\n",
       " 'bipolar',\n",
       " 'r',\n",
       " 'oh',\n",
       " 'behaviour',\n",
       " 'startled',\n",
       " 'fresh',\n",
       " 'vigorous',\n",
       " 'depends',\n",
       " 'afternoon',\n",
       " 'heard',\n",
       " '🤗',\n",
       " 'prevent',\n",
       " 'steady',\n",
       " 'impossible',\n",
       " 'adventurous',\n",
       " 'toe',\n",
       " 'surface',\n",
       " 'uncontrollable',\n",
       " 'balance',\n",
       " 'button',\n",
       " 'curiosity',\n",
       " 'wonderfully',\n",
       " 'bringing',\n",
       " 'primary',\n",
       " 'cow',\n",
       " 'property',\n",
       " 'mainly',\n",
       " 'election',\n",
       " 'each',\n",
       " 'sobbing',\n",
       " 'duty',\n",
       " 'ignored',\n",
       " 'advanced',\n",
       " 'ringing',\n",
       " 'section',\n",
       " 'value',\n",
       " 'fully',\n",
       " 'manner',\n",
       " 'rep',\n",
       " 'yell',\n",
       " '☺️',\n",
       " 'afterward',\n",
       " 'age',\n",
       " 'buried',\n",
       " 'accident',\n",
       " 'le',\n",
       " 'throwing',\n",
       " 'disaster',\n",
       " 'universal',\n",
       " 'tempted',\n",
       " 'mostly',\n",
       " 'lack',\n",
       " 'devil',\n",
       " 'infuriated',\n",
       " 'moral',\n",
       " 'q',\n",
       " 'finance',\n",
       " 'resting',\n",
       " 'regarding',\n",
       " 'near',\n",
       " 'tactic',\n",
       " 'lawless',\n",
       " 'democrat',\n",
       " 'lived',\n",
       " 'struck',\n",
       " 'virtuous',\n",
       " 'naturally',\n",
       " 'gown',\n",
       " 'ugliness',\n",
       " 'growth',\n",
       " 'layout',\n",
       " 'overcoat',\n",
       " 'wreck',\n",
       " 'wave',\n",
       " 'white',\n",
       " 'unkind',\n",
       " 'numb',\n",
       " 'forum',\n",
       " 'blister',\n",
       " 'viewed',\n",
       " 'mobile',\n",
       " 'cap',\n",
       " 'job',\n",
       " 'couture',\n",
       " 'breakfast',\n",
       " 'wearing',\n",
       " 'village',\n",
       " 'tie',\n",
       " 'unknown',\n",
       " 'indulge',\n",
       " 'amp',\n",
       " 'nasty',\n",
       " 'seeing',\n",
       " 'canal',\n",
       " 'tow',\n",
       " 'gazing',\n",
       " 'whereas',\n",
       " 'via',\n",
       " 'corner',\n",
       " 'helped',\n",
       " 'supported',\n",
       " 'helping',\n",
       " 'sight',\n",
       " 'indecision',\n",
       " 'reality',\n",
       " 'variety',\n",
       " 'moment',\n",
       " 'passed',\n",
       " 'cover',\n",
       " 'policy',\n",
       " 'l',\n",
       " 'associate',\n",
       " 'flick',\n",
       " 'hospital',\n",
       " 'entertain',\n",
       " 'achieve',\n",
       " 'signing',\n",
       " 'laugh',\n",
       " 'master',\n",
       " 'leadership',\n",
       " 'barrier',\n",
       " 'wrote',\n",
       " 'heal',\n",
       " 'ios10',\n",
       " 'flogged',\n",
       " 'losing',\n",
       " 'gold',\n",
       " 'apple',\n",
       " 'gladly',\n",
       " 'peak',\n",
       " 'cheat',\n",
       " 'temporary',\n",
       " 'letting',\n",
       " 'staring',\n",
       " 'owned',\n",
       " 'pitch',\n",
       " 'initially',\n",
       " 'italian',\n",
       " 'dressing',\n",
       " 'combination',\n",
       " 'gesture',\n",
       " 'laurel',\n",
       " 'unmoved',\n",
       " 'unhappy',\n",
       " 'immensely',\n",
       " 'considering',\n",
       " '2',\n",
       " 'politics',\n",
       " 'curtain',\n",
       " 'replace',\n",
       " 'vibration',\n",
       " 'phase',\n",
       " 'interaction',\n",
       " 'introspect',\n",
       " 'entry',\n",
       " 'milk',\n",
       " 'watching',\n",
       " 'population',\n",
       " 'suspect',\n",
       " 'fast',\n",
       " 'louse',\n",
       " 'b',\n",
       " 'jubilant',\n",
       " 'offering',\n",
       " 'season',\n",
       " 'cab',\n",
       " 'managed',\n",
       " 'smoking',\n",
       " 'neighbour',\n",
       " 'frequently',\n",
       " 'moving',\n",
       " 'animated',\n",
       " 'bank',\n",
       " 'somber',\n",
       " 'cringe',\n",
       " 'victimized',\n",
       " 'holiday',\n",
       " 'pool',\n",
       " 'donald',\n",
       " 'since',\n",
       " 'nd',\n",
       " 'medicine',\n",
       " 'bat',\n",
       " 'jose',\n",
       " 'spying',\n",
       " 'watch',\n",
       " 'journal',\n",
       " 'washed',\n",
       " 'original',\n",
       " 'flash',\n",
       " 'secret',\n",
       " 'function',\n",
       " 'term',\n",
       " 'atrocious',\n",
       " 'online',\n",
       " 'dropping',\n",
       " 'thrilled',\n",
       " 'education',\n",
       " 'expects',\n",
       " 'cease',\n",
       " 'relaxed',\n",
       " 'burgher',\n",
       " 'theory',\n",
       " 'faced',\n",
       " 'fury',\n",
       " 'fan',\n",
       " 'brick',\n",
       " 'deed',\n",
       " 'telephone',\n",
       " 'square',\n",
       " 'rare',\n",
       " 'choice',\n",
       " 'comb',\n",
       " 'finland',\n",
       " 'pregnant',\n",
       " 'grammar',\n",
       " 'embracing',\n",
       " 'understands',\n",
       " 'disturbed',\n",
       " 'decided',\n",
       " 'portray',\n",
       " 'reminds',\n",
       " 'leave',\n",
       " 'abroad',\n",
       " '😅',\n",
       " 'tightly',\n",
       " 'nicer',\n",
       " 'bc',\n",
       " 'intelligence',\n",
       " 'uncertain',\n",
       " 'abdomen',\n",
       " 'snapping',\n",
       " 'regardless',\n",
       " 'customer',\n",
       " 'quicker',\n",
       " 'wait',\n",
       " 'delay',\n",
       " '‘',\n",
       " 'boring',\n",
       " 'injustice',\n",
       " 'poleon',\n",
       " 'party',\n",
       " 'accidentally',\n",
       " 'insomnia',\n",
       " 'succeed',\n",
       " 'shameful',\n",
       " 'grab',\n",
       " 'supporter',\n",
       " 'headache',\n",
       " 'horrible',\n",
       " 'ready',\n",
       " 'mean',\n",
       " '48',\n",
       " 'luke',\n",
       " 'stamped',\n",
       " 'distraught',\n",
       " 'en',\n",
       " 'tiger',\n",
       " 'lethargy',\n",
       " 'glamourous',\n",
       " 'problem',\n",
       " 'capture',\n",
       " 'exposing',\n",
       " 'bear',\n",
       " 'harder',\n",
       " ...}"
      ]
     },
     "execution_count": 92,
     "metadata": {},
     "output_type": "execute_result"
    }
   ],
   "source": [
    "words = set(model.wv.index_to_key )\n",
    "words"
   ]
  },
  {
   "cell_type": "code",
   "execution_count": 87,
   "id": "9ad94d07",
   "metadata": {},
   "outputs": [
    {
     "data": {
      "text/plain": [
       "5030"
      ]
     },
     "execution_count": 87,
     "metadata": {},
     "output_type": "execute_result"
    }
   ],
   "source": [
    "len(words)"
   ]
  },
  {
   "cell_type": "code",
   "execution_count": 106,
   "id": "34fa5f51",
   "metadata": {},
   "outputs": [
    {
     "data": {
      "text/plain": [
       "array([[ 0.03672324,  0.33683994,  0.19385214, ..., -0.27972418,\n",
       "         0.4612694 ,  0.6420736 ],\n",
       "       [-0.13178866,  0.32273015,  0.38596547, ..., -0.11925524,\n",
       "         0.27586716,  0.2714046 ],\n",
       "       [-0.05361671,  0.43145293, -0.19735986, ..., -0.15051317,\n",
       "         0.37576267,  0.32169044],\n",
       "       ...,\n",
       "       [-0.039137  ,  0.04419075,  0.01120599, ..., -0.03791609,\n",
       "         0.04849275,  0.01784392],\n",
       "       [-0.02622917,  0.02503941,  0.01968725, ..., -0.0287315 ,\n",
       "         0.02842952,  0.01261154],\n",
       "       [-0.03542253,  0.04393824,  0.01274175, ..., -0.03950763,\n",
       "         0.0455777 ,  0.00625113]], dtype=float32)"
      ]
     },
     "execution_count": 106,
     "metadata": {},
     "output_type": "execute_result"
    }
   ],
   "source": [
    "model.wv.vectors"
   ]
  },
  {
   "cell_type": "code",
   "execution_count": 104,
   "id": "a85fb915",
   "metadata": {},
   "outputs": [
    {
     "data": {
      "text/plain": [
       "(5030, 100)"
      ]
     },
     "execution_count": 104,
     "metadata": {},
     "output_type": "execute_result"
    }
   ],
   "source": [
    "model.wv.vectors.shape"
   ]
  },
  {
   "cell_type": "code",
   "execution_count": null,
   "id": "96b61b07",
   "metadata": {},
   "outputs": [],
   "source": []
  },
  {
   "cell_type": "code",
   "execution_count": null,
   "id": "9f0e616f",
   "metadata": {},
   "outputs": [],
   "source": []
  },
  {
   "cell_type": "code",
   "execution_count": null,
   "id": "829afc96",
   "metadata": {},
   "outputs": [],
   "source": []
  },
  {
   "cell_type": "code",
   "execution_count": null,
   "id": "024d3a5a",
   "metadata": {},
   "outputs": [],
   "source": []
  },
  {
   "cell_type": "code",
   "execution_count": null,
   "id": "db218158",
   "metadata": {},
   "outputs": [],
   "source": []
  },
  {
   "cell_type": "code",
   "execution_count": null,
   "id": "12024565",
   "metadata": {},
   "outputs": [],
   "source": []
  },
  {
   "cell_type": "code",
   "execution_count": null,
   "id": "a510d31b",
   "metadata": {},
   "outputs": [],
   "source": []
  },
  {
   "cell_type": "code",
   "execution_count": null,
   "id": "b0440a97",
   "metadata": {},
   "outputs": [],
   "source": []
  },
  {
   "cell_type": "code",
   "execution_count": 73,
   "id": "786e78e7",
   "metadata": {},
   "outputs": [],
   "source": [
    "from tensorflow.keras.utils import to_categorical"
   ]
  },
  {
   "cell_type": "code",
   "execution_count": 77,
   "id": "1de2d1b6",
   "metadata": {},
   "outputs": [],
   "source": [
    "y = to_categorical(data.emotion)"
   ]
  },
  {
   "cell_type": "code",
   "execution_count": 91,
   "id": "e4e5c4a5",
   "metadata": {},
   "outputs": [
    {
     "data": {
      "text/plain": [
       "<keras_preprocessing.text.Tokenizer at 0x7fe4d1251ac0>"
      ]
     },
     "execution_count": 91,
     "metadata": {},
     "output_type": "execute_result"
    }
   ],
   "source": [
    "# from tensorflow.keras.preprocessing.text import Tokenizernum_words  #= 10000 # this means 10000 unique words can be taken \n",
    "from keras.preprocessing.text import Tokenizer\n",
    "    \n",
    "tokenizer=Tokenizer(num_words=10000,lower=True)\n",
    "tokenizer.fit_on_texts(data.sentence)\n",
    "tokenizer"
   ]
  },
  {
   "cell_type": "code",
   "execution_count": null,
   "id": "57b37577",
   "metadata": {},
   "outputs": [],
   "source": []
  },
  {
   "cell_type": "code",
   "execution_count": null,
   "id": "0373690d",
   "metadata": {},
   "outputs": [],
   "source": []
  },
  {
   "cell_type": "code",
   "execution_count": null,
   "id": "c4294552",
   "metadata": {},
   "outputs": [],
   "source": []
  },
  {
   "cell_type": "code",
   "execution_count": null,
   "id": "18f882f9",
   "metadata": {},
   "outputs": [],
   "source": []
  }
 ],
 "metadata": {
  "kernelspec": {
   "display_name": "Python 3 (ipykernel)",
   "language": "python",
   "name": "python3"
  },
  "language_info": {
   "codemirror_mode": {
    "name": "ipython",
    "version": 3
   },
   "file_extension": ".py",
   "mimetype": "text/x-python",
   "name": "python",
   "nbconvert_exporter": "python",
   "pygments_lexer": "ipython3",
   "version": "3.9.12"
  }
 },
 "nbformat": 4,
 "nbformat_minor": 5
}
